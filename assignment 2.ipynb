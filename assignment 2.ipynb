{
 "cells": [
  {
   "cell_type": "code",
   "execution_count": null,
   "id": "c11e8893",
   "metadata": {},
   "outputs": [],
   "source": [
    "#Ramesh’s basic salary is input through the keyboard. His dearness allowance is 40% of\n",
    "#basic salary, and house rent allowance is 20% of basic salary. Write a program to\n",
    "#calculate his gross salary."
   ]
  },
  {
   "cell_type": "code",
   "execution_count": 12,
   "id": "9463873a",
   "metadata": {},
   "outputs": [
    {
     "name": "stdout",
     "output_type": "stream",
     "text": [
      "enter your name:ramesh\n",
      "enter your basic salary:2000\n",
      "ramesh your gross salary is 2001\n"
     ]
    }
   ],
   "source": [
    "name=input('enter your name:')\n",
    "n1=eval(input('enter your basic salary:'))\n",
    "dearness_allowance=0.4\n",
    "house_rent_allowance=0.2\n",
    "sum=round(n1+dearness_allowance+house_rent_allowance)\n",
    "print('{} your gross salary is {}'.format(name,sum))"
   ]
  },
  {
   "cell_type": "code",
   "execution_count": null,
   "id": "5f58ac3d",
   "metadata": {},
   "outputs": [],
   "source": [
    "#The distance between two cities (in km.) is input through the keyboard. Write a program\n",
    "#to convert and print this distance in meters, feet, inches and centimeters."
   ]
  },
  {
   "cell_type": "code",
   "execution_count": 62,
   "id": "e100495b",
   "metadata": {},
   "outputs": [
    {
     "name": "stdout",
     "output_type": "stream",
     "text": [
      "enter the distance in km:1\n",
      "enter the distance in km:2\n",
      "lenght of the distance in meters 3000\n",
      "lenght of the distance in feet 9842\n",
      "lenght of the distance in inches 118110\n",
      "lenght of the distance in centimeters 300000\n"
     ]
    }
   ],
   "source": [
    "try :\n",
    "    n1=eval(input('enter the distance in km:'))\n",
    "    n2=eval(input('enter the distance in km:'))        \n",
    "    n3=n1*1000+n2*1000\n",
    "    n4=round(n1*3280.84+n2*3280.82)\n",
    "    n5=round(n1*39370.1+n2*39370.1)\n",
    "    n6=n1*100000+n2*100000\n",
    "    print('lenght of the distance in meters',n3)\n",
    "    print('lenght of the distance in feet',n4)\n",
    "    print('lenght of the distance in inches',n5)\n",
    "    print('lenght of the distance in centimeters',n6)\n",
    "except exception as e:\n",
    "    print(e)    "
   ]
  },
  {
   "cell_type": "code",
   "execution_count": null,
   "id": "8938368e",
   "metadata": {},
   "outputs": [],
   "source": [
    "#If the marks obtained by a student in five different subjects are input through the\n",
    "#keyboard, find out the aggregate marks and percentage marks obtained by the student.\n",
    "#Assume that the maximum marks that can be obtained by a student in each subject is\n",
    "#100."
   ]
  },
  {
   "cell_type": "code",
   "execution_count": 67,
   "id": "2bd06628",
   "metadata": {},
   "outputs": [
    {
     "name": "stdout",
     "output_type": "stream",
     "text": [
      "enter english marks:50\n",
      "enter telugu marks:40\n",
      "enter hindi marks:50\n",
      "enter maths marks:60\n",
      "enter science marks:70\n",
      "the aggregate marks is 270 \n",
      " the percentagemarks of the student is 214.0\n"
     ]
    }
   ],
   "source": [
    "n1=eval(input('enter english marks:'))\n",
    "n2=eval(input('enter telugu marks:'))\n",
    "n3=eval(input('enter hindi marks:'))\n",
    "n4=eval(input('enter maths marks:'))\n",
    "n5=eval(input('enter science marks:'))\n",
    "aggregate_marks=n1+n2+n3+n4+n5\n",
    "percentage=n1+n2+n3+n4+n5/5\n",
    "print('the aggregate marks is {} \\n the percentagemarks of the student is {}'.format(aggregate_marks,percentage))\n"
   ]
  },
  {
   "cell_type": "code",
   "execution_count": null,
   "id": "f28621db",
   "metadata": {},
   "outputs": [],
   "source": [
    "#Temperature of a city in Fahrenheit degrees is input through the keyboard. Write a\n",
    "#program to convert this temperature into Centigrade degrees."
   ]
  },
  {
   "cell_type": "code",
   "execution_count": 68,
   "id": "ed8beefa",
   "metadata": {},
   "outputs": [
    {
     "name": "stdout",
     "output_type": "stream",
     "text": [
      "enter the temperature in F:50\n",
      "10\n"
     ]
    }
   ],
   "source": [
    "n1=eval(input('enter the temperature in F:'))\n",
    "centigrade=round((n1-32)*5/9)\n",
    "print(centigrade)"
   ]
  },
  {
   "cell_type": "code",
   "execution_count": null,
   "id": "70d8dcb4",
   "metadata": {},
   "outputs": [],
   "source": [
    "#The length & breadth of a rectangle and radius of a circle are input through the\n",
    "#keyboard. Write a program to calculate the area & perimeter of the rectangle, and the\n",
    "#area & circumference of the circle."
   ]
  },
  {
   "cell_type": "code",
   "execution_count": 45,
   "id": "e0aeae6c",
   "metadata": {},
   "outputs": [
    {
     "name": "stdout",
     "output_type": "stream",
     "text": [
      "enter the length of the rectangel:30\n",
      "enter the breath of the rectangle:20\n",
      "enter the radius of the circle:30\n",
      "the area of the rectange is 600 \n",
      " perimeter of the rectane is 50\n",
      "the area of the cirlce is 126 \n",
      " circumference of the circle is 126\n"
     ]
    }
   ],
   "source": [
    "r1=eval(input('enter the length of the rectangel:'))\n",
    "r2=eval(input('enter the breath of the rectangle:'))\n",
    "circle=eval(input('enter the radius of the circle:'))\n",
    "a1=round(r1*r2)\n",
    "p1=round(r1+r2)\n",
    "a2=round(22/7*r2*2)\n",
    "c2=round(2*22/7*r2)\n",
    "print('the area of the rectange is {} \\n perimeter of the rectane is {}'.format(a1,p1))\n",
    "print('the area of the cirlce is {} \\n circumference of the circle is {}'.format(a2,c2))"
   ]
  },
  {
   "cell_type": "code",
   "execution_count": null,
   "id": "b92df9b6",
   "metadata": {},
   "outputs": [],
   "source": [
    "#Two numbers are input through the keyboard into two locations C and D. Write a\n",
    "#program to interchange the contents of C and D."
   ]
  },
  {
   "cell_type": "code",
   "execution_count": 49,
   "id": "dcd514f5",
   "metadata": {},
   "outputs": [
    {
     "name": "stdout",
     "output_type": "stream",
     "text": [
      "enter a number:3\n",
      "enter a number:4\n",
      "C= 4 D= 3\n"
     ]
    }
   ],
   "source": [
    "C=eval(input('enter a number:'))\n",
    "D=eval(input('enter a number:'))\n",
    "C,D=D,C\n",
    "print('C=',C,'D=',D)"
   ]
  },
  {
   "cell_type": "code",
   "execution_count": null,
   "id": "08199707",
   "metadata": {},
   "outputs": [],
   "source": [
    "#If a five-digit number is input through the keyboard, write a program to reverse the\n",
    "#number."
   ]
  },
  {
   "cell_type": "code",
   "execution_count": 83,
   "id": "2e1f2263",
   "metadata": {},
   "outputs": [
    {
     "name": "stdout",
     "output_type": "stream",
     "text": [
      "enter any 5 numbers:12345\n"
     ]
    },
    {
     "ename": "AttributeError",
     "evalue": "'int' object has no attribute 'n1'",
     "output_type": "error",
     "traceback": [
      "\u001b[1;31m---------------------------------------------------------------------------\u001b[0m",
      "\u001b[1;31mAttributeError\u001b[0m                            Traceback (most recent call last)",
      "Cell \u001b[1;32mIn[83], line 2\u001b[0m\n\u001b[0;32m      1\u001b[0m n1\u001b[38;5;241m=\u001b[39m\u001b[38;5;28meval\u001b[39m(\u001b[38;5;28minput\u001b[39m(\u001b[38;5;124m'\u001b[39m\u001b[38;5;124menter any 5 numbers:\u001b[39m\u001b[38;5;124m'\u001b[39m))\n\u001b[1;32m----> 2\u001b[0m \u001b[38;5;28;43mreversed\u001b[39;49m\u001b[38;5;241;43m.\u001b[39;49m\u001b[43mn1\u001b[49m\n\u001b[0;32m      3\u001b[0m \u001b[38;5;28mprint\u001b[39m(n1)\n",
      "\u001b[1;31mAttributeError\u001b[0m: 'int' object has no attribute 'n1'"
     ]
    }
   ],
   "source": [
    "n1=eval(input('enter any 5 numbers:'))\n",
    "reversed.n1\n",
    "print(n1)"
   ]
  },
  {
   "cell_type": "code",
   "execution_count": null,
   "id": "60bad5bb",
   "metadata": {},
   "outputs": [],
   "source": [
    "#If a four-digit number is input through the keyboard, write a program to obtain the sum of\n",
    "#the first and last digit of this number."
   ]
  },
  {
   "cell_type": "code",
   "execution_count": 76,
   "id": "8a6627cf",
   "metadata": {},
   "outputs": [
    {
     "name": "stdout",
     "output_type": "stream",
     "text": [
      "enter a number:2\n",
      "enter a number:3\n",
      "enter a number:1\n",
      "enter a number:4\n",
      "the sum of the first and the last digit is 6\n"
     ]
    }
   ],
   "source": [
    "n1=eval(input('enter a number:'))\n",
    "n2=eval(input('enter a number:'))\n",
    "n3=eval(input('enter a number:'))\n",
    "n4=eval(input('enter a number:'))\n",
    "sum=n1+n4\n",
    "print('the sum of the first and the last digit is',sum)"
   ]
  },
  {
   "cell_type": "code",
   "execution_count": 81,
   "id": "d5f9e9b9",
   "metadata": {},
   "outputs": [
    {
     "name": "stdout",
     "output_type": "stream",
     "text": [
      "enter the 4 dgit number:1234\n"
     ]
    },
    {
     "ename": "AttributeError",
     "evalue": "'int' object has no attribute 'reverse'",
     "output_type": "error",
     "traceback": [
      "\u001b[1;31m---------------------------------------------------------------------------\u001b[0m",
      "\u001b[1;31mAttributeError\u001b[0m                            Traceback (most recent call last)",
      "Cell \u001b[1;32mIn[81], line 2\u001b[0m\n\u001b[0;32m      1\u001b[0m n1\u001b[38;5;241m=\u001b[39m\u001b[38;5;28meval\u001b[39m(\u001b[38;5;28minput\u001b[39m(\u001b[38;5;124m'\u001b[39m\u001b[38;5;124menter the 4 dgit number:\u001b[39m\u001b[38;5;124m'\u001b[39m))\n\u001b[1;32m----> 2\u001b[0m \u001b[43mn1\u001b[49m\u001b[38;5;241;43m.\u001b[39;49m\u001b[43mreverse\u001b[49m()\n\u001b[0;32m      3\u001b[0m \u001b[38;5;28mprint\u001b[39m(\u001b[38;5;124m'\u001b[39m\u001b[38;5;124mthe sum of the first and the last digit is\u001b[39m\u001b[38;5;124m'\u001b[39m)\n",
      "\u001b[1;31mAttributeError\u001b[0m: 'int' object has no attribute 'reverse'"
     ]
    }
   ],
   "source": [
    "n1=eval(input('enter the 4 dgit number:'))\n",
    "\n",
    "print('the sum of the first and the last digit is')"
   ]
  },
  {
   "cell_type": "code",
   "execution_count": null,
   "id": "6f5e289b",
   "metadata": {},
   "outputs": [],
   "source": [
    "m1=52\n",
    "l1=48\n",
    "lM=35\n",
    "total_WM=80000\n",
    "sum=m1/100*80000\n",
    "literate_men=35/100*41600\n",
    "total_women=80000-41600\n",
    "literate_women=literate_men-total_women"
   ]
  },
  {
   "cell_type": "code",
   "execution_count": 80,
   "id": "cd9b9d9b",
   "metadata": {},
   "outputs": [
    {
     "name": "stdout",
     "output_type": "stream",
     "text": [
      "14559.999999999998\n"
     ]
    }
   ],
   "source": [
    "literate_men=35/100*41600\n",
    "print(literate_men)"
   ]
  },
  {
   "cell_type": "code",
   "execution_count": 84,
   "id": "11092766",
   "metadata": {},
   "outputs": [
    {
     "ename": "NameError",
     "evalue": "name 'm1' is not defined",
     "output_type": "error",
     "traceback": [
      "\u001b[1;31m---------------------------------------------------------------------------\u001b[0m",
      "\u001b[1;31mNameError\u001b[0m                                 Traceback (most recent call last)",
      "Cell \u001b[1;32mIn[84], line 1\u001b[0m\n\u001b[1;32m----> 1\u001b[0m \u001b[38;5;28msum\u001b[39m\u001b[38;5;241m=\u001b[39m\u001b[43mm1\u001b[49m\u001b[38;5;241m/\u001b[39m\u001b[38;5;241m100\u001b[39m\u001b[38;5;241m*\u001b[39m\u001b[38;5;241m80000\u001b[39m\n\u001b[0;32m      2\u001b[0m \u001b[38;5;28mprint\u001b[39m(\u001b[38;5;28msum\u001b[39m)\n",
      "\u001b[1;31mNameError\u001b[0m: name 'm1' is not defined"
     ]
    }
   ],
   "source": [
    "sum=m1/100*80000\n",
    "print(sum)"
   ]
  },
  {
   "cell_type": "code",
   "execution_count": null,
   "id": "8e76351d",
   "metadata": {},
   "outputs": [],
   "source": []
  },
  {
   "cell_type": "code",
   "execution_count": null,
   "id": "4717c9a1",
   "metadata": {},
   "outputs": [],
   "source": []
  },
  {
   "cell_type": "code",
   "execution_count": null,
   "id": "411468f9",
   "metadata": {},
   "outputs": [],
   "source": []
  },
  {
   "cell_type": "code",
   "execution_count": null,
   "id": "0aa1e1fb",
   "metadata": {},
   "outputs": [],
   "source": []
  },
  {
   "cell_type": "code",
   "execution_count": null,
   "id": "8384b4a1",
   "metadata": {},
   "outputs": [],
   "source": []
  },
  {
   "cell_type": "code",
   "execution_count": null,
   "id": "12f4494d",
   "metadata": {},
   "outputs": [],
   "source": []
  },
  {
   "cell_type": "code",
   "execution_count": null,
   "id": "3a761753",
   "metadata": {},
   "outputs": [],
   "source": []
  },
  {
   "cell_type": "code",
   "execution_count": null,
   "id": "164f3c85",
   "metadata": {},
   "outputs": [],
   "source": []
  }
 ],
 "metadata": {
  "kernelspec": {
   "display_name": "Python 3 (ipykernel)",
   "language": "python",
   "name": "python3"
  },
  "language_info": {
   "codemirror_mode": {
    "name": "ipython",
    "version": 3
   },
   "file_extension": ".py",
   "mimetype": "text/x-python",
   "name": "python",
   "nbconvert_exporter": "python",
   "pygments_lexer": "ipython3",
   "version": "3.9.17"
  }
 },
 "nbformat": 4,
 "nbformat_minor": 5
}
