{
 "cells": [
  {
   "cell_type": "raw",
   "id": "74ebc023",
   "metadata": {},
   "source": [
    "first we need to know about the shortcuts those are\n",
    "shift+tap=it will shows the content when you move the curser to the print part \n",
    "tap=will either provide long space or it can be used for the keywords to identified "
   ]
  },
  {
   "cell_type": "code",
   "execution_count": null,
   "id": "3b65433d",
   "metadata": {},
   "outputs": [],
   "source": []
  },
  {
   "cell_type": "code",
   "execution_count": null,
   "id": "f569e93b",
   "metadata": {},
   "outputs": [],
   "source": []
  },
  {
   "cell_type": "code",
   "execution_count": null,
   "id": "e5982038",
   "metadata": {},
   "outputs": [],
   "source": []
  },
  {
   "cell_type": "code",
   "execution_count": null,
   "id": "16aafb20",
   "metadata": {},
   "outputs": [],
   "source": []
  },
  {
   "cell_type": "code",
   "execution_count": null,
   "id": "2eba1cdd",
   "metadata": {},
   "outputs": [],
   "source": []
  },
  {
   "cell_type": "code",
   "execution_count": null,
   "id": "0e65742f",
   "metadata": {},
   "outputs": [],
   "source": []
  },
  {
   "cell_type": "code",
   "execution_count": null,
   "id": "80104a41",
   "metadata": {},
   "outputs": [],
   "source": []
  },
  {
   "cell_type": "code",
   "execution_count": null,
   "id": "63d1d616",
   "metadata": {},
   "outputs": [],
   "source": []
  },
  {
   "cell_type": "code",
   "execution_count": null,
   "id": "df01637e",
   "metadata": {},
   "outputs": [],
   "source": []
  },
  {
   "cell_type": "code",
   "execution_count": null,
   "id": "9ff512d3",
   "metadata": {},
   "outputs": [],
   "source": []
  },
  {
   "cell_type": "markdown",
   "id": "68b90392",
   "metadata": {},
   "source": [
    "# basic "
   ]
  },
  {
   "cell_type": "code",
   "execution_count": 1,
   "id": "dc5b10cf",
   "metadata": {},
   "outputs": [
    {
     "name": "stdout",
     "output_type": "stream",
     "text": [
      "integer : int\n",
      "float : float\n",
      "string : str\n",
      "complex : complex\n"
     ]
    }
   ],
   "source": [
    "string =\"\"\"integer : int\n",
    "float : float\n",
    "string : str\n",
    "complex : complex\"\"\"\n",
    "print(string)"
   ]
  },
  {
   "cell_type": "markdown",
   "id": "825bb3da",
   "metadata": {},
   "source": [
    "# string"
   ]
  },
  {
   "cell_type": "code",
   "execution_count": null,
   "id": "3f0259a0",
   "metadata": {},
   "outputs": [
    {
     "name": "stdout",
     "output_type": "stream",
     "text": [
      "hi\n",
      "           how are you\n"
     ]
    }
   ],
   "source": [
    "name1=  \"\"\"hi\n",
    "           how are you\"\"\" \n",
    "print(name1)"
   ]
  },
  {
   "cell_type": "markdown",
   "id": "988647da",
   "metadata": {},
   "source": [
    "# complex conjugate"
   ]
  },
  {
   "cell_type": "code",
   "execution_count": 3,
   "id": "0987c2b7",
   "metadata": {},
   "outputs": [
    {
     "data": {
      "text/plain": [
       "0j"
      ]
     },
     "execution_count": 3,
     "metadata": {},
     "output_type": "execute_result"
    }
   ],
   "source": [
    "complex()"
   ]
  },
  {
   "cell_type": "code",
   "execution_count": 4,
   "id": "69341ef9",
   "metadata": {},
   "outputs": [
    {
     "data": {
      "text/plain": [
       "0j"
      ]
     },
     "execution_count": 4,
     "metadata": {},
     "output_type": "execute_result"
    }
   ],
   "source": [
    "0+0j\n",
    "#the default argument will use real=0 and img=0sp 0+0j=0j"
   ]
  },
  {
   "cell_type": "code",
   "execution_count": null,
   "id": "b2f3d6f7",
   "metadata": {},
   "outputs": [],
   "source": [
    "num=3+10j\n",
    "num"
   ]
  },
  {
   "cell_type": "code",
   "execution_count": null,
   "id": "04f0ed94",
   "metadata": {},
   "outputs": [],
   "source": [
    "type(num)"
   ]
  },
  {
   "cell_type": "code",
   "execution_count": null,
   "id": "db0fac8b",
   "metadata": {},
   "outputs": [],
   "source": [
    "num.real"
   ]
  },
  {
   "cell_type": "code",
   "execution_count": null,
   "id": "726589e0",
   "metadata": {},
   "outputs": [],
   "source": [
    "num.imag"
   ]
  },
  {
   "cell_type": "markdown",
   "id": "df7340f1",
   "metadata": {},
   "source": [
    "# data type conversion"
   ]
  },
  {
   "cell_type": "code",
   "execution_count": null,
   "id": "c8835716",
   "metadata": {},
   "outputs": [],
   "source": [
    "number=100\n",
    "type(number)"
   ]
  },
  {
   "cell_type": "code",
   "execution_count": null,
   "id": "da8d008b",
   "metadata": {},
   "outputs": [],
   "source": [
    "number=10.0\n",
    "type(number)"
   ]
  },
  {
   "cell_type": "code",
   "execution_count": null,
   "id": "12620655",
   "metadata": {},
   "outputs": [],
   "source": [
    "w=\"string\"\n",
    "type(w)"
   ]
  },
  {
   "cell_type": "code",
   "execution_count": null,
   "id": "5b003634",
   "metadata": {},
   "outputs": [],
   "source": [
    "bool(number)"
   ]
  },
  {
   "cell_type": "code",
   "execution_count": null,
   "id": "525dd1be",
   "metadata": {},
   "outputs": [],
   "source": [
    "bool(200)\n",
    "bool(300)"
   ]
  },
  {
   "cell_type": "code",
   "execution_count": null,
   "id": "0fe77b9c",
   "metadata": {},
   "outputs": [],
   "source": [
    "bool(-200)"
   ]
  },
  {
   "cell_type": "code",
   "execution_count": null,
   "id": "6a445b38",
   "metadata": {},
   "outputs": [],
   "source": [
    "bool(0)"
   ]
  },
  {
   "cell_type": "code",
   "execution_count": null,
   "id": "f9e5ba11",
   "metadata": {},
   "outputs": [],
   "source": [
    "# int to complex\n",
    "a=200\n",
    "complex(a)"
   ]
  },
  {
   "cell_type": "code",
   "execution_count": null,
   "id": "2c11e650",
   "metadata": {},
   "outputs": [],
   "source": [
    "a=200\n",
    "b=300\n",
    "complex(a,b)"
   ]
  },
  {
   "cell_type": "code",
   "execution_count": null,
   "id": "963c91a6",
   "metadata": {},
   "outputs": [],
   "source": [
    "a=0\n",
    "b=300\n",
    "complex(a,b)"
   ]
  },
  {
   "cell_type": "code",
   "execution_count": null,
   "id": "d9076ffe",
   "metadata": {},
   "outputs": [],
   "source": [
    "complex(0,300)"
   ]
  },
  {
   "cell_type": "code",
   "execution_count": null,
   "id": "47657a00",
   "metadata": {},
   "outputs": [],
   "source": [
    "#int to float\n",
    "#int to str\n",
    "#int to bool\n",
    "#int to complex"
   ]
  },
  {
   "cell_type": "code",
   "execution_count": null,
   "id": "0479dbaa",
   "metadata": {},
   "outputs": [],
   "source": [
    "number=(10.7)\n",
    "number"
   ]
  },
  {
   "cell_type": "code",
   "execution_count": null,
   "id": "f59d03b8",
   "metadata": {},
   "outputs": [],
   "source": [
    "int_number=int(number)\n",
    "int_number"
   ]
  },
  {
   "cell_type": "code",
   "execution_count": null,
   "id": "6c5abddf",
   "metadata": {},
   "outputs": [],
   "source": [
    "#floa to str\n",
    "str(number)"
   ]
  },
  {
   "cell_type": "code",
   "execution_count": null,
   "id": "a1de28d1",
   "metadata": {},
   "outputs": [],
   "source": [
    "#float to bool\n",
    "bool(number)"
   ]
  },
  {
   "cell_type": "code",
   "execution_count": null,
   "id": "e4bdc403",
   "metadata": {},
   "outputs": [],
   "source": [
    "#float to complexa\n",
    "complex(number)"
   ]
  },
  {
   "cell_type": "code",
   "execution_count": null,
   "id": "dd8ffdec",
   "metadata": {},
   "outputs": [],
   "source": [
    "string=('python')\n",
    "int(string)\n",
    "bool(string)\n",
    "float(string)\n",
    "complex(string)"
   ]
  },
  {
   "cell_type": "code",
   "execution_count": null,
   "id": "aecc3e13",
   "metadata": {},
   "outputs": [],
   "source": [
    "#when will be the bool will be false \n",
    "#when it is 0 it is false\n",
    "#when it is empty string it is false\n",
    "#these are under bool type"
   ]
  },
  {
   "cell_type": "code",
   "execution_count": null,
   "id": "4b3c6b80",
   "metadata": {},
   "outputs": [],
   "source": [
    "string='10+20j'\n",
    "int(string)"
   ]
  },
  {
   "cell_type": "code",
   "execution_count": null,
   "id": "26fbdf1a",
   "metadata": {},
   "outputs": [],
   "source": [
    "float(string)"
   ]
  },
  {
   "cell_type": "code",
   "execution_count": null,
   "id": "3834f7a9",
   "metadata": {},
   "outputs": [],
   "source": [
    "bool(string)"
   ]
  },
  {
   "cell_type": "code",
   "execution_count": null,
   "id": "60724f42",
   "metadata": {},
   "outputs": [],
   "source": [
    "complex(string)"
   ]
  },
  {
   "cell_type": "markdown",
   "id": "d449d46e",
   "metadata": {},
   "source": [
    "matha====maths\n",
    "english====english\n",
    "maths+english====eglish"
   ]
  },
  {
   "cell_type": "raw",
   "id": "b872a258",
   "metadata": {},
   "source": [
    "complex to other data types"
   ]
  },
  {
   "cell_type": "code",
   "execution_count": null,
   "id": "56fce7ec",
   "metadata": {},
   "outputs": [],
   "source": [
    "complex_number=10+20j\n",
    "int(complex)"
   ]
  },
  {
   "cell_type": "code",
   "execution_count": null,
   "id": "2c9eee37",
   "metadata": {},
   "outputs": [],
   "source": [
    "float(complex)"
   ]
  },
  {
   "cell_type": "code",
   "execution_count": null,
   "id": "e529a42f",
   "metadata": {},
   "outputs": [],
   "source": [
    "bool(complex)"
   ]
  },
  {
   "cell_type": "code",
   "execution_count": null,
   "id": "3b482025",
   "metadata": {},
   "outputs": [],
   "source": [
    "complex(complex)"
   ]
  },
  {
   "cell_type": "markdown",
   "id": "9843aade",
   "metadata": {},
   "source": [
    "$print$"
   ]
  },
  {
   "cell_type": "code",
   "execution_count": null,
   "id": "ec557fd2",
   "metadata": {},
   "outputs": [],
   "source": [
    "# a small cosde to print number and string\n",
    "print('hi how are you')\n",
    "a=20\n",
    "b=30\n",
    "print(a,b)"
   ]
  },
  {
   "cell_type": "code",
   "execution_count": null,
   "id": "62c56f76",
   "metadata": {},
   "outputs": [],
   "source": [
    "#the value of num1 is 30\n",
    "num1=30\n",
    "print('the value of num1 is',num1)\n",
    "print('the value of num1 is 30')"
   ]
  },
  {
   "cell_type": "code",
   "execution_count": null,
   "id": "a316daec",
   "metadata": {},
   "outputs": [],
   "source": [
    "#the value of num1 is : 30\n",
    "print('the value of num1 is :',num1)"
   ]
  },
  {
   "cell_type": "markdown",
   "id": "ec730c8d",
   "metadata": {},
   "source": [
    "# i want to combine multiple statemets for this we need to use end operator"
   ]
  },
  {
   "cell_type": "markdown",
   "id": "acddbd90",
   "metadata": {},
   "source": [
    "# end"
   ]
  },
  {
   "cell_type": "code",
   "execution_count": null,
   "id": "f75c7091",
   "metadata": {},
   "outputs": [],
   "source": [
    "print('hi',end='')\n",
    "print('how are you')\n",
    "print('hi',end=' ')\n",
    "print('how are you')\n",
    "print('hi',end='---->')\n",
    "print('how are you')\n",
    "print('hi',end='@')\n",
    "print('how are you')"
   ]
  },
  {
   "cell_type": "code",
   "execution_count": null,
   "id": "98492174",
   "metadata": {},
   "outputs": [],
   "source": [
    "print('hi',end=' ')\n",
    "print('how',end=' ')\n",
    "print('are',end=' ')\n",
    "print('you',end=' ')"
   ]
  },
  {
   "cell_type": "code",
   "execution_count": null,
   "id": "311b718f",
   "metadata": {},
   "outputs": [],
   "source": [
    "num1=100\n",
    "num2=500\n",
    "add=num1+num2\n",
    "add\n",
    "#show this \n",
    "#the addition of 100 and 500 is 600"
   ]
  },
  {
   "cell_type": "code",
   "execution_count": null,
   "id": "a02d048e",
   "metadata": {},
   "outputs": [],
   "source": [
    "print('the addition of 100 and 500 is',add)"
   ]
  },
  {
   "cell_type": "code",
   "execution_count": null,
   "id": "eb340f40",
   "metadata": {},
   "outputs": [],
   "source": [
    "a=20\n",
    "b=30\n",
    "mul=a*b\n",
    "#the multiplication of 20 and 30 is 600\n",
    "print('the multiplication of',a,'and',b,'is',mul)\n",
    "print('the multiplication of 20 and 30 is',mul)\n",
    "#correct way to clear this mess\n",
    "print('the multiplication of {} and {} is{}'.format(a,b,mul))"
   ]
  },
  {
   "cell_type": "code",
   "execution_count": null,
   "id": "f625f1c5",
   "metadata": {},
   "outputs": [],
   "source": [
    "num1=100\n",
    "num2=200\n",
    "add=num1+num2\n",
    "#the addtition of 100 and 200 is 300\n",
    "print('the addition of {} and {} is {}'.format(num1,num2,add))"
   ]
  },
  {
   "cell_type": "code",
   "execution_count": null,
   "id": "835827b0",
   "metadata": {},
   "outputs": [],
   "source": [
    "name='python'\n",
    "city='hyd'\n",
    "age='30'\n",
    "#my name is python, i leave in hyd, and my age is 30\n",
    "print('my name is {}, i leave in {}, my age is {}'.format(name,city,age))"
   ]
  },
  {
   "cell_type": "code",
   "execution_count": null,
   "id": "13532e83",
   "metadata": {},
   "outputs": [],
   "source": [
    "num1=100\n",
    "num2=200\n",
    "add=num1+num2\n",
    "print('the addition of {} and {} is {}'.format(num1,num2,add))"
   ]
  },
  {
   "cell_type": "code",
   "execution_count": null,
   "id": "098fdb66",
   "metadata": {},
   "outputs": [],
   "source": [
    "#write a program ask the user enter a number by using keyboard"
   ]
  },
  {
   "cell_type": "markdown",
   "id": "755624b0",
   "metadata": {},
   "source": [
    "$input$"
   ]
  },
  {
   "cell_type": "code",
   "execution_count": null,
   "id": "8ce5e437",
   "metadata": {},
   "outputs": [],
   "source": [
    "input('enter a number:')"
   ]
  },
  {
   "cell_type": "code",
   "execution_count": null,
   "id": "e07c656d",
   "metadata": {},
   "outputs": [],
   "source": [
    "input('enter a name:')"
   ]
  },
  {
   "cell_type": "code",
   "execution_count": null,
   "id": "1ba1073f",
   "metadata": {},
   "outputs": [],
   "source": [
    "num1=100\n",
    "num2=200\n",
    "add=num1+num2\n",
    "print('the addition of {} is {}'.format(num1,num2,add))"
   ]
  },
  {
   "cell_type": "raw",
   "id": "7bab90fc",
   "metadata": {},
   "source": [
    "# format\n",
    "num1=input('enter a number:')\n",
    "num2=input('enter a number:')\n",
    "add=num1+num2\n",
    "print('the addition of {},{} is {}'.format(num1,num2,add))"
   ]
  },
  {
   "cell_type": "markdown",
   "id": "1287a0d8",
   "metadata": {},
   "source": [
    "# eval keyword"
   ]
  },
  {
   "cell_type": "code",
   "execution_count": null,
   "id": "75d94ba4",
   "metadata": {},
   "outputs": [],
   "source": [
    "#eval means evaluation it only work for numbers \n",
    "#eval work for either int or float"
   ]
  },
  {
   "cell_type": "code",
   "execution_count": null,
   "id": "33534632",
   "metadata": {},
   "outputs": [],
   "source": [
    "n1=int(input('enter n1:'))\n",
    "n2=float(input('enter n2:'))\n",
    "n1+n2"
   ]
  },
  {
   "cell_type": "code",
   "execution_count": null,
   "id": "68c10598",
   "metadata": {},
   "outputs": [],
   "source": [
    "#eval keyword will work under the conditions where we can enter float value in place of int \n",
    "n1=eval(input('enter n1:'))\n",
    "n2=eval(input('enter n2:'))\n",
    "n1+n2"
   ]
  },
  {
   "cell_type": "code",
   "execution_count": null,
   "id": "753333f0",
   "metadata": {},
   "outputs": [],
   "source": [
    "#write a prgm of a user enter 2 numbers\n",
    "#output:n1=from user 100\n",
    "#n2=from keyboard 200\n",
    "#the addition of 100 and 200 is 300\n",
    "#the subtraction of 100 and 200 is -100\n",
    "#the addition of n1 and n2 is "
   ]
  },
  {
   "cell_type": "code",
   "execution_count": null,
   "id": "2d7cd583",
   "metadata": {},
   "outputs": [],
   "source": [
    "n1=eval(input('enter a number:'))\n",
    "n2=eval(input('enter a number:'))\n",
    "add=n1+n2\n",
    "sub=n1-n2\n",
    "mul=n1*n2\n",
    "print('the addition of {} and {} is {}'.format(n1,n2,add))\n",
    "print('the substraction of {} and {} is {}'.format(n1,n2,sub))\n",
    "print('the multiplication of {} and {} is {}'.format(n1,n2,mul))"
   ]
  },
  {
   "cell_type": "code",
   "execution_count": null,
   "id": "97f80f67",
   "metadata": {},
   "outputs": [],
   "source": [
    "#avergae \n",
    "n1=eval(input('enter a number:'))\n",
    "n2=eval(input('enter a number:'))\n",
    "n3=eval(input('enter a number:'))\n",
    "avg=(n1+n2+n3/3)\n",
    "final_avg=round(avg,2)\n",
    "print('the original value:',avg)\n",
    "print('the avgerage of {},{} and {} is {}'.format(n1,n2,n3,final_avg))"
   ]
  },
  {
   "cell_type": "code",
   "execution_count": null,
   "id": "3ad5286a",
   "metadata": {},
   "outputs": [],
   "source": [
    "12/5=2.4 #division will provide normal division value\n",
    "12%5=2  #modulus it will provide reminder\n",
    "12//5=2 #floor division it will provide qutioent"
   ]
  },
  {
   "cell_type": "code",
   "execution_count": null,
   "id": "fa1cc6d1",
   "metadata": {},
   "outputs": [],
   "source": [
    "bill_amount=eval(input('enter the bill:'))\n",
    "tip_amount=eval(input('enter the tip:'))\n",
    "total_amount=bill_amount+tip_amount\n",
    "print('the total amount is :',total_amount)"
   ]
  },
  {
   "cell_type": "code",
   "execution_count": null,
   "id": "374c1cd0",
   "metadata": {},
   "outputs": [],
   "source": [
    "bill_amount=eval(input('enter the bill:'))\n",
    "tip_per=eval(input('enter the tip:'))\n",
    "tip_amonut=(bill_amount*tip_per)/100\n",
    "total=bill_amount+tip_amount\n",
    "print('total bill is :',total)"
   ]
  },
  {
   "cell_type": "code",
   "execution_count": null,
   "id": "59868c52",
   "metadata": {},
   "outputs": [],
   "source": [
    "n1=eval(input('how may dollars you want to pay'))\n",
    "print('no dollars are not accepted')\n",
    "print('then what will accepted')\n",
    "print('only indian ruppes')\n",
    "n2=eval(input('one dollar equal to how many indian ruppes'))\n",
    "amount=n1*n2\n",
    "print('the toatl amount to pay{}'.format(amount))"
   ]
  },
  {
   "cell_type": "markdown",
   "id": "8f030bd9",
   "metadata": {},
   "source": [
    "# separator operator"
   ]
  },
  {
   "cell_type": "code",
   "execution_count": null,
   "id": "307f8a4e",
   "metadata": {},
   "outputs": [],
   "source": [
    "#saperator method \n",
    "print('hi','hello',sep='&')"
   ]
  },
  {
   "cell_type": "code",
   "execution_count": null,
   "id": "c3ebbd5a",
   "metadata": {},
   "outputs": [],
   "source": [
    "print('hello','puthon','excited',sep='--->')"
   ]
  },
  {
   "cell_type": "code",
   "execution_count": null,
   "id": "7d5ec2bb",
   "metadata": {},
   "outputs": [],
   "source": [
    "n1=eval(input('enter the distance in km:'))\n",
    "n2=eval(input('enter a fare in rs:'))\n",
    "total = n1*n2\n",
    "print('for {}km the fare is {}rs.'.format(n1,total))"
   ]
  },
  {
   "cell_type": "code",
   "execution_count": null,
   "id": "9d785b4a",
   "metadata": {},
   "outputs": [],
   "source": [
    "n1=eval(input('enter the distance in km:'))\n",
    "n2=eval(input('enter a fare in rs:'))\n",
    "total=n1*n2\n",
    "print('for {}km the fare is {}rs'.format(n1,total),\n",
    "      '.',sep='')\n",
    "#dot is too far"
   ]
  },
  {
   "cell_type": "code",
   "execution_count": null,
   "id": "d820c4c9",
   "metadata": {},
   "outputs": [],
   "source": [
    "# n1=eval(input('enter a number:'))\n",
    "total=n1*n1\n",
    "print('the square of {} is {}'.format(n1,total),\n",
    "     '.',sep='')"
   ]
  },
  {
   "cell_type": "markdown",
   "id": "a30eb092",
   "metadata": {},
   "source": [
    "# exception handling"
   ]
  },
  {
   "cell_type": "code",
   "execution_count": null,
   "id": "7301c010",
   "metadata": {},
   "outputs": [],
   "source": [
    "#try and except # are the keywords thwy both are in green color\n",
    "#python complies step by step \n",
    "#suppose u got any error it wont complie the rest of the lines\n",
    "#we will use this in case the line dosent play a great role in the entire code\n",
    "#then we will use this exception handling\n",
    "#entire code should implement under try block\n",
    "#what ever the error comes in the code will display under except block\n",
    "#NOTE\n",
    "#indentation is nothing but the space we get when we write any keyword"
   ]
  },
  {
   "cell_type": "code",
   "execution_count": null,
   "id": "773186eb",
   "metadata": {},
   "outputs": [],
   "source": [
    "#while writing this keyword we need to write it under the keyword if not it wont work"
   ]
  },
  {
   "cell_type": "code",
   "execution_count": null,
   "id": "2e96739b",
   "metadata": {},
   "outputs": [],
   "source": [
    "try:\n",
    "    n1=eval(input('enter a number:'))\n",
    "    n2=100\n",
    "    add=n1+n2\n",
    "    print(add)\n",
    "except:\n",
    "    print('error coming look at the syntax')\n",
    "    \n",
    "#when error is in code,then except block will print    "
   ]
  },
  {
   "cell_type": "code",
   "execution_count": null,
   "id": "3db3123a",
   "metadata": {},
   "outputs": [],
   "source": [
    "try:\n",
    "    n1=eval(input('enter a number:'))\n",
    "    n2=100\n",
    "    add=n1+n2\n",
    "    print(add)\n",
    "except:\n",
    "    print('error coming look at the syntax')\n",
    "    "
   ]
  },
  {
   "cell_type": "code",
   "execution_count": null,
   "id": "98349696",
   "metadata": {},
   "outputs": [],
   "source": [
    "try:\n",
    "    n1=eval(input('enter a number:'))\n",
    "    n2=100\n",
    "    add=n1+n2\n",
    "    print(add)\n",
    "except:\n",
    "    print('error coming look at the syntax')\n",
    "    "
   ]
  },
  {
   "cell_type": "code",
   "execution_count": null,
   "id": "a4c73efb",
   "metadata": {},
   "outputs": [],
   "source": [
    "n1=eval(input('enter a number:'))\n",
    "n2=100\n",
    "add n1/n2\n",
    "print(add)\n",
    "\n",
    "#name error: when we enter any name\n",
    "#syntax error: if we miss the value\n",
    "#value error: \n",
    "\n",
    "#we need to display error to satify the client "
   ]
  },
  {
   "cell_type": "code",
   "execution_count": null,
   "id": "080226cc",
   "metadata": {},
   "outputs": [],
   "source": [
    "#correct way to represt the error and it shows the error \n",
    "# as e meas alias"
   ]
  },
  {
   "cell_type": "code",
   "execution_count": null,
   "id": "6755ee29",
   "metadata": {},
   "outputs": [],
   "source": [
    "try:\n",
    "    n1=eval(input('enter a number:'))\n",
    "    n2=0\n",
    "    add=n1/n2\n",
    "    print(add)\n",
    "except Exception as e:\n",
    "    print(e) # it will show the error"
   ]
  },
  {
   "cell_type": "code",
   "execution_count": null,
   "id": "731606ef",
   "metadata": {},
   "outputs": [],
   "source": [
    "try :\n",
    "    n1=int(input('enter n1:'))\n",
    "    n2=float(input('enter n2:'))\n",
    "    n1+n2\n",
    "except Exception as e:\n",
    "    print(e)"
   ]
  },
  {
   "cell_type": "code",
   "execution_count": null,
   "id": "15696a10",
   "metadata": {},
   "outputs": [],
   "source": [
    "try :\n",
    "    string='10+20j'\n",
    "    int(string)\n",
    "except Exception as e:\n",
    "    print(e)"
   ]
  },
  {
   "cell_type": "code",
   "execution_count": null,
   "id": "845873c8",
   "metadata": {},
   "outputs": [],
   "source": [
    "try :\n",
    "    float(string)\n",
    "except Exception as e:\n",
    "    print(e)"
   ]
  },
  {
   "cell_type": "code",
   "execution_count": null,
   "id": "de8b1231",
   "metadata": {},
   "outputs": [],
   "source": [
    "try :\n",
    "    n1=eval(input('enter a number:'))\n",
    "    total=n1*n1\n",
    "    print('the square of {} is {}'.format(n1,total),\n",
    "    '.',sep='')\n",
    "except Exception as e:\n",
    "    print(e)"
   ]
  },
  {
   "cell_type": "code",
   "execution_count": null,
   "id": "9398b33b",
   "metadata": {},
   "outputs": [],
   "source": [
    "try :\n",
    "    n1=eval(input('enter a number:'))\n",
    "    print(n1,n1*2,n1*3,n1*4,sep='---')\n",
    "except Exception as e:\n",
    "    print(e)"
   ]
  },
  {
   "cell_type": "code",
   "execution_count": null,
   "id": "0ef4e4e1",
   "metadata": {},
   "outputs": [],
   "source": [
    "try :\n",
    "    weight=eval(input('enter your weight in km:'))\n",
    "    pounds=2.2*weight\n",
    "    print('weights in pounds:',pounds)\n",
    "except exception as e:\n",
    "    print(e)"
   ]
  },
  {
   "cell_type": "code",
   "execution_count": null,
   "id": "c2df17f0",
   "metadata": {},
   "outputs": [],
   "source": [
    "try:\n",
    "    n1=eval(input('enter first numbers:'))\n",
    "    n2=eval(input('enter second numbers:'))\n",
    "    n3=eval(input('enter third numbers:'))\n",
    "    sum=n1+n2+n3\n",
    "    avg=round(sum/3)\n",
    "    print('enter {},{} and {} sum is {} and avg is {}'.format(n1,n2,n3,sum,avg))\n",
    "except exception as e:\n",
    "    print(e)"
   ]
  },
  {
   "cell_type": "code",
   "execution_count": null,
   "id": "0064166e",
   "metadata": {},
   "outputs": [],
   "source": [
    "#ak the user two numbers and ass those numbers\n",
    "n1=100\n",
    "n2=200\n",
    "add=n1+n2\n",
    "print(add)\n",
    "\n",
    "#WAP ask the user number from keyboard and add those numbers\n",
    "n1=eval(input('enter a number:'))\n",
    "n2=eval(input('enter a number:'))\n",
    "add=n1+n2\n",
    "print(add)\n",
    "\n",
    "#WAP ask the user to get two random integer numbers and add those numbers\n",
    "import random\n",
    "n1=random.randint(1,100)\n",
    "n2=random.randint(1,200)\n",
    "add=n1+n2\n",
    "print(add)"
   ]
  },
  {
   "cell_type": "markdown",
   "id": "a064d8a5",
   "metadata": {},
   "source": [
    "# random package"
   ]
  },
  {
   "cell_type": "code",
   "execution_count": null,
   "id": "3c97abdc",
   "metadata": {},
   "outputs": [],
   "source": [
    "import random\n",
    "n1=random.randint(1,100)\n",
    "n2=random.randint(1,200)\n",
    "add=n1+n2\n",
    "print(add)"
   ]
  },
  {
   "cell_type": "markdown",
   "id": "c1b2f490",
   "metadata": {},
   "source": [
    "# format for help keyword"
   ]
  },
  {
   "cell_type": "code",
   "execution_count": null,
   "id": "23825287",
   "metadata": {},
   "outputs": [],
   "source": [
    "import <package_name>\n",
    "dir(<package_name>)\n",
    "help(<package_name>).method"
   ]
  },
  {
   "cell_type": "markdown",
   "id": "98e96093",
   "metadata": {},
   "source": [
    "# directory function"
   ]
  },
  {
   "cell_type": "code",
   "execution_count": null,
   "id": "3c583e74",
   "metadata": {},
   "outputs": [],
   "source": [
    "import random\n",
    "dir(random)"
   ]
  },
  {
   "cell_type": "code",
   "execution_count": null,
   "id": "df11c230",
   "metadata": {},
   "outputs": [],
   "source": [
    "import random\n",
    "n1=random.randint(1,100)#shift + tab\n",
    "print('number is:',n1)\n",
    "n2=random.randint(1,200)\n",
    "print('number is:',n2)\n",
    "add=n1+n2\n",
    "print(add)"
   ]
  },
  {
   "cell_type": "code",
   "execution_count": null,
   "id": "e54a40ae",
   "metadata": {},
   "outputs": [],
   "source": [
    "#pip freeze will say that what are the packages are there in my pc"
   ]
  },
  {
   "cell_type": "markdown",
   "id": "b40bc441",
   "metadata": {},
   "source": [
    "# help function"
   ]
  },
  {
   "cell_type": "code",
   "execution_count": null,
   "id": "e6cef98e",
   "metadata": {},
   "outputs": [],
   "source": [
    "help(random.randrange)"
   ]
  },
  {
   "cell_type": "code",
   "execution_count": null,
   "id": "99eae823",
   "metadata": {},
   "outputs": [],
   "source": [
    "random.randrange(0,100,step=5)\n",
    "#start with 100 and after we can get any value\n",
    "#101, 102\n",
    "#100 means 100 values start from 0\n",
    "#step is used to divide the stpes \n",
    "#ex : 0,5,10,15,20,25,30...."
   ]
  },
  {
   "cell_type": "markdown",
   "id": "6754ed93",
   "metadata": {},
   "source": [
    "# python session conditional statement "
   ]
  },
  {
   "cell_type": "markdown",
   "id": "f00d069c",
   "metadata": {},
   "source": [
    "#what is meat by condition in english\n",
    "#suppose if some thing is happend in one direction so that is the slution \n",
    "#if not is hapend in different direction so that another one is solution \n",
    "#else is happend in different direction so that another one is slo'n\n",
    "\n",
    "if\n",
    "if not =======else\n",
    "\n",
    "yes or no\n",
    "if ====== yes\n",
    "else====== no\n",
    "\n",
    "syntax\n",
    "whenever the colon is there indentation will come\n",
    "\n",
    "if  <condition>:\n",
    "    #st1\n",
    "    #st2\n",
    "    #st3\n",
    "\n",
    "name='python'\n",
    "    storing\n",
    "name=='python'\n",
    "    comparing the value\n",
    "    "
   ]
  },
  {
   "cell_type": "markdown",
   "id": "ecd39eee",
   "metadata": {},
   "source": [
    "# if condition"
   ]
  },
  {
   "cell_type": "code",
   "execution_count": null,
   "id": "358a9038",
   "metadata": {},
   "outputs": [],
   "source": [
    "name= input('enter a name:')#st1: ask the user to enter name\n",
    "if name=='python':  #st2:python == python\n",
    "    print('hello')  #st3: hello"
   ]
  },
  {
   "cell_type": "code",
   "execution_count": null,
   "id": "fb879a77",
   "metadata": {},
   "outputs": [],
   "source": [
    "'anil'=='python'"
   ]
  },
  {
   "cell_type": "code",
   "execution_count": null,
   "id": "8b1a9e62",
   "metadata": {},
   "outputs": [],
   "source": [
    "'python'=='python'"
   ]
  },
  {
   "cell_type": "code",
   "execution_count": null,
   "id": "fd6885a5",
   "metadata": {},
   "outputs": [],
   "source": [
    "#if <true/false>\n",
    "#if true might happen or false might happen"
   ]
  },
  {
   "cell_type": "code",
   "execution_count": null,
   "id": "fb341587",
   "metadata": {},
   "outputs": [],
   "source": [
    "name=input('enter a nmae:') #st1: ask the user to enter a name\n",
    "if name=='python':          #st2: if 'python' is true then enter \n",
    "        print('hello')      #st3: inside the if block\n",
    "        print(name)         #st4: name alse inside the if block"
   ]
  },
  {
   "cell_type": "code",
   "execution_count": null,
   "id": "84c918c1",
   "metadata": {},
   "outputs": [],
   "source": [
    "#################it is one block\n",
    "name=input('enter a nmae:')  #st1: name ='python'\n",
    "#################\n",
    "#this is my home        #p'python=='python'\n",
    "if name=='python':     #i will print hello  , i printed so i cam out \n",
    "        print('hello')     \n",
    "#it is neighbour home\n",
    "print(name)      #print(nema)=python"
   ]
  },
  {
   "cell_type": "code",
   "execution_count": null,
   "id": "5740c483",
   "metadata": {},
   "outputs": [],
   "source": [
    "#################it is one block\n",
    "name='p'  #st1: name ='p'\n",
    "##################this is my home        \n",
    "if name=='python':      #'p'=='python'  false\n",
    "        print('hello')  #no permission    \n",
    "#################it is neighbour home\n",
    "print(name) "
   ]
  },
  {
   "cell_type": "code",
   "execution_count": null,
   "id": "e6fe9c29",
   "metadata": {},
   "outputs": [],
   "source": [
    "name='python'        #st1:enter the name\n",
    "if name=='python':   #st2:if python== python\n",
    "    print(3+5)       #st3:8\n",
    "else:                #whenever if true, else will not work\n",
    "    print('enter correct one')"
   ]
  },
  {
   "cell_type": "markdown",
   "id": "d553df92",
   "metadata": {},
   "source": [
    "# else condition"
   ]
  },
  {
   "cell_type": "code",
   "execution_count": null,
   "id": "99096fff",
   "metadata": {},
   "outputs": [],
   "source": [
    "name='p'        #st1:enter the name\n",
    "if name=='python':   #st2:if python== python\n",
    "    print(3+5)       #st3:8\n",
    "else:                #whenever if true, else will not work\n",
    "    print('enter correct one')"
   ]
  },
  {
   "cell_type": "code",
   "execution_count": null,
   "id": "1d584876",
   "metadata": {},
   "outputs": [],
   "source": [
    "name=input('enter a name:')\n",
    "if name=='python':\n",
    "    print('hello',name)\n",
    "    print('how are you')\n",
    "else:\n",
    "    print('provide a valid one')\n",
    "    print('your are out')\n",
    "print('hey',end=' ') #end is used for combing two values\n",
    "print('bro')"
   ]
  },
  {
   "cell_type": "markdown",
   "id": "60d7f399",
   "metadata": {},
   "source": [
    "# try and exception"
   ]
  },
  {
   "cell_type": "code",
   "execution_count": null,
   "id": "bfd2c442",
   "metadata": {},
   "outputs": [],
   "source": [
    "try:\n",
    "    n1=eval(input('ente a number: '))\n",
    "    if n1%2==0:\n",
    "        print('it is an even number') #print cannot be written in the same line \n",
    "    else:\n",
    "        print('it is an odd numbe')\n",
    "except Exception as e: #here e should be always capital if not it wont work\n",
    "    print(e)"
   ]
  },
  {
   "cell_type": "markdown",
   "id": "6927115b",
   "metadata": {},
   "source": [
    "# by using package"
   ]
  },
  {
   "cell_type": "code",
   "execution_count": null,
   "id": "b1794fda",
   "metadata": {},
   "outputs": [],
   "source": []
  },
  {
   "cell_type": "markdown",
   "id": "8278e840",
   "metadata": {},
   "source": [
    "# writing a code in + or -  values"
   ]
  },
  {
   "cell_type": "code",
   "execution_count": null,
   "id": "b1df4c6f",
   "metadata": {},
   "outputs": [],
   "source": [
    "n=eval(input('enter a number:'))\n",
    "if n>=0:\n",
    "    print('it is a positive number')\n",
    "else:\n",
    "    print('it is a negative number')"
   ]
  },
  {
   "cell_type": "code",
   "execution_count": null,
   "id": "d90a8b3e",
   "metadata": {},
   "outputs": [],
   "source": [
    "try:\n",
    "    n=eval(input('enter a number:'))\n",
    "    if n>=0:\n",
    "        print('it is a positive number')\n",
    "    else:\n",
    "        print('it is a negative number')\n",
    "except Exception as e:\n",
    "    print(e)"
   ]
  },
  {
   "cell_type": "code",
   "execution_count": null,
   "id": "9609ed47",
   "metadata": {},
   "outputs": [],
   "source": [
    "import random\n",
    "n=random.randint(-100,100)\n",
    "if n>=0:\n",
    "    print('{} is a positive number'.format(n))\n",
    "else:\n",
    "    print('{} is a negative number'.format(n))"
   ]
  },
  {
   "cell_type": "code",
   "execution_count": null,
   "id": "1728a819",
   "metadata": {},
   "outputs": [],
   "source": [
    "# 0 is a positive number\n",
    "#if a number >0===== it is a positive number\n",
    "#if anumber <0===== is is a negative \n",
    "#if a number ===0 it is a zero\n",
    "\n",
    "\n",
    "#when we have 3 coditons we will write 'if elif else'\n",
    "#if<comdition>   >0\n",
    "#elif <condition> <0\n",
    "#else :    ====0"
   ]
  },
  {
   "cell_type": "code",
   "execution_count": null,
   "id": "9fc46424",
   "metadata": {},
   "outputs": [],
   "source": [
    "n=random.randint(-100,100)\n",
    "if n>0:\n",
    "    print('{} is a positive number'.format(n))\n",
    "elif n<0:\n",
    "    print('{} is a negative number'.format(n))\n",
    "else:\n",
    "    print('{} is a zero')"
   ]
  },
  {
   "cell_type": "code",
   "execution_count": null,
   "id": "9c31a1c5",
   "metadata": {},
   "outputs": [],
   "source": [
    "try:\n",
    "    n=random.randint(-100,100)\n",
    "    if n>0:\n",
    "        print('{} is a positive number'.format(n))\n",
    "    elif n<0:\n",
    "        print('{} is a negative number'.format(n))\n",
    "    else:\n",
    "        print('{} is a zero')\n",
    "except Exception as e:\n",
    "    print(e)"
   ]
  },
  {
   "cell_type": "code",
   "execution_count": null,
   "id": "eedadb1a",
   "metadata": {},
   "outputs": [],
   "source": [
    "n=eval(input('enter anumber:'))\n",
    "if n==1:\n",
    "    print('one')\n",
    "elif n==2:\n",
    "    print('two')\n",
    "elif n==3:\n",
    "    print('three')\n",
    "elif n==4: \n",
    "    print('four')\n",
    "else:\n",
    "    print('enter only 1,2,3,4')"
   ]
  },
  {
   "cell_type": "code",
   "execution_count": null,
   "id": "89e09121",
   "metadata": {},
   "outputs": [],
   "source": [
    "n=eval(input('enter the distance:'))\n",
    "if n<=2:\n",
    "    print('the fair is 20rs')\n",
    "elif n<=4:\n",
    "    print('the fair is 40rs')\n",
    "elif n<=6:\n",
    "    print('the fair is 60rs')\n",
    "else:\n",
    "    print('the fair is 100rs')\n",
    "    "
   ]
  },
  {
   "cell_type": "code",
   "execution_count": null,
   "id": "312a0bf7",
   "metadata": {},
   "outputs": [],
   "source": [
    "distance=eval(input('enter the distance in km:'))\n",
    "if distance>0 and distance<2:\n",
    "    print('the fair between 0 to 2 km is 20rs')   \n",
    "elif distance>2 and distance<4:\n",
    "    print('the fair between 2 to 4 km is 40rs')\n",
    "    "
   ]
  },
  {
   "cell_type": "code",
   "execution_count": null,
   "id": "b3859d74",
   "metadata": {},
   "outputs": [],
   "source": [
    "n=eval(input('enter your percentage:'))\n",
    "if n>90:\n",
    "    print('your grade is A')\n",
    "elif n>70:\n",
    "    print('your grade is B')\n",
    "elif n>50:\n",
    "    print('your grade is c')\n",
    "else:\n",
    "    print('your grade is D')"
   ]
  },
  {
   "cell_type": "markdown",
   "id": "6959dad2",
   "metadata": {},
   "source": [
    "# writing another if condition in the same condition"
   ]
  },
  {
   "cell_type": "code",
   "execution_count": null,
   "id": "489cbcf0",
   "metadata": {},
   "outputs": [],
   "source": [
    "#method 1\n",
    "n=eval(input('enter a number:'))\n",
    "\n",
    "if n>=0:\n",
    "    if n==0:\n",
    "        print('it is a pos number')\n",
    "    else:\n",
    "        print('it is a zero number')\n",
    "else:\n",
    "    prit('it is a negative number')\n",
    "    "
   ]
  },
  {
   "cell_type": "code",
   "execution_count": null,
   "id": "2f4204d4",
   "metadata": {},
   "outputs": [],
   "source": [
    "#method 2\n",
    "n=eval(input('enter a number:'))\n",
    "if n>=0:\n",
    "    print('it is a positive number')\n",
    "elif n==0:\n",
    "    print('it is a zero number')\n",
    "else:\n",
    "    print('it is a negative number')\n",
    "    "
   ]
  },
  {
   "cell_type": "code",
   "execution_count": null,
   "id": "e8f77069",
   "metadata": {},
   "outputs": [],
   "source": [
    "#method 2\n",
    "n=eval(input('enter a number:'))\n",
    "if n>1 and n<99:\n",
    "    print('the number between 1 and 99')\n",
    "elif n==0:\n",
    "    print('zero')\n",
    "else:\n",
    "    print('the number is outof range')\n",
    "    "
   ]
  },
  {
   "cell_type": "code",
   "execution_count": null,
   "id": "302cd5bb",
   "metadata": {},
   "outputs": [],
   "source": [
    "#method 1\n",
    "n=eval(input('enter a number:'))\n",
    "if n<99:\n",
    "    if n==0:\n",
    "        print('zero')\n",
    "    elif n<0:\n",
    "        print('negative number')\n",
    "    else:\n",
    "        print('number is between 0 to 99')\n",
    "else:\n",
    "    print('out of range')\n",
    "#<99 positive \n",
    "#-99 negative \n",
    "#0 zero"
   ]
  },
  {
   "cell_type": "code",
   "execution_count": null,
   "id": "efde8f4c",
   "metadata": {},
   "outputs": [],
   "source": [
    "n=(input('enter a genger:'))\n",
    "if n=='male':\n",
    "    age=eval(input('enter your age:')) \n",
    "    if age<15:\n",
    "        print('he is a boy')\n",
    "    else:\n",
    "        print('he is a man')\n",
    "if n=='female':\n",
    "    age=eval(input('enter your age:'))\n",
    "    if age<15:\n",
    "        print('she is a girl')\n",
    "    else:\n",
    "        print('she is a woman')"
   ]
  },
  {
   "cell_type": "code",
   "execution_count": null,
   "id": "5ffc1c82",
   "metadata": {},
   "outputs": [],
   "source": [
    "#wap enter 3 numbers and find the greatest number\n",
    "\n",
    "\n",
    "n=eval(input('enter a numbers:'))\n",
    "n=eval(input('enter a numbers:'))\n",
    "n=eval(input('enter a numbers:'))\n",
    "if n==0:\n",
    "    print('is smaller number',n)\n",
    "elif n==1:\n",
    "    print('{} is greater number',n)\n",
    "elif n==2:\n",
    "    print('{} is greater number',n)        \n",
    "elif n==3:\n",
    "    print('{} is greater number',n)\n",
    "else:\n",
    "    print('it is a outof range',n)\n",
    "    "
   ]
  },
  {
   "cell_type": "code",
   "execution_count": null,
   "id": "6718fdd0",
   "metadata": {},
   "outputs": [],
   "source": [
    "n1=eval(input('enter a number:'))\n",
    "n2=eval(input('enter a number:'))\n",
    "n3=eval(input('enter a number:'))\n",
    "if n1>n2 and n1>n3:\n",
    "    print('great number is {}'.format(n1))\n",
    "elif n2>n3:\n",
    "    print('greater number is {}'.format(n2))\n",
    "elif n3>n1:\n",
    "    print('great number is {}'.format(n3))\n",
    "else:\n",
    "    print('enter avalue between ')"
   ]
  },
  {
   "cell_type": "raw",
   "id": "1af4249e",
   "metadata": {},
   "source": [
    "#till now what we learned\n",
    "-python basic syntax\n",
    "*basic codes\n",
    "*data types\n",
    "*print statement\n",
    "_concept realted to some packages\n",
    "*how to read the packages\n",
    "*how to explore the package\n",
    "*conditional statemnets"
   ]
  },
  {
   "cell_type": "markdown",
   "id": "9a0f1c6b",
   "metadata": {},
   "source": [
    "# functions "
   ]
  },
  {
   "cell_type": "markdown",
   "id": "690d0f9c",
   "metadata": {},
   "source": [
    "#it is block of code which have set of instructions and can recall multiple times"
   ]
  },
  {
   "cell_type": "code",
   "execution_count": null,
   "id": "9038dd01",
   "metadata": {},
   "outputs": [],
   "source": [
    "#it is a basic code\n",
    "a=20\n",
    "b=30\n",
    "print(a+b)\n"
   ]
  },
  {
   "cell_type": "code",
   "execution_count": null,
   "id": "b23be525",
   "metadata": {},
   "outputs": [],
   "source": [
    "def<function_name>():\n",
    "    #st1\n",
    "    #st2\n",
    "    #\n",
    "    #\n",
    "    #"
   ]
  },
  {
   "cell_type": "code",
   "execution_count": null,
   "id": "9e2b000b",
   "metadata": {},
   "outputs": [],
   "source": [
    "# i want to create a function with name add\n",
    "def add ():\n",
    "    a=20\n",
    "    b=30\n",
    "    print(a+b)\n",
    "# if you ru this function it will not return any output \n",
    "#until unless u call the function\n"
   ]
  },
  {
   "cell_type": "code",
   "execution_count": null,
   "id": "e87b2f18",
   "metadata": {},
   "outputs": [],
   "source": [
    "add ()"
   ]
  },
  {
   "cell_type": "code",
   "execution_count": null,
   "id": "70f29485",
   "metadata": {},
   "outputs": [],
   "source": [
    "base_salary=eval(input('enter base salary:'))\n",
    "DA_amount=eval(input('enter DA amount:'))\n",
    "total=base_salary+DA_amount\n",
    "print('the total salary is:',total)"
   ]
  },
  {
   "cell_type": "code",
   "execution_count": null,
   "id": "5cdbd8a1",
   "metadata": {},
   "outputs": [],
   "source": [
    "#we cannot call the keywords or write the keywords\n",
    "def salary():\n",
    "    base_salary=eval(input('enter base salary:'))\n",
    "    DA_amount=eval(input('enter DA amount:'))\n",
    "    total=base_salary+DA_amount\n",
    "    print('the total salary is:',total)\n",
    "#it will not show any error \n",
    "#it will not give any output also"
   ]
  },
  {
   "cell_type": "code",
   "execution_count": null,
   "id": "88a57393",
   "metadata": {},
   "outputs": [],
   "source": [
    "salary ()"
   ]
  },
  {
   "cell_type": "code",
   "execution_count": null,
   "id": "a627f72a",
   "metadata": {},
   "outputs": [],
   "source": [
    "#using def concept for try and exception method\n",
    "# this code says that it is about even number or odd number"
   ]
  },
  {
   "cell_type": "code",
   "execution_count": null,
   "id": "309ea8ca",
   "metadata": {},
   "outputs": [],
   "source": [
    "def even():\n",
    "    import random\n",
    "    try:\n",
    "        n=random.randint(1,100)\n",
    "        if n%2==0:\n",
    "            print('{} is a even number'.format(n))\n",
    "        else:\n",
    "            print('{} is a odd number'.format(n))\n",
    "    except Exception as e:\n",
    "        print(e)"
   ]
  },
  {
   "cell_type": "code",
   "execution_count": null,
   "id": "1b5bbe1d",
   "metadata": {},
   "outputs": [],
   "source": [
    "even ()"
   ]
  },
  {
   "cell_type": "code",
   "execution_count": null,
   "id": "d74df1ad",
   "metadata": {},
   "outputs": [],
   "source": [
    "# write a user enter 3 number and calculate average\n",
    "#implement function\n",
    "n1=eval(input('enter a number:'))\n",
    "n2=eval(input('enter a number:'))\n",
    "n3=eval(input('enter a number:'))\n",
    "total=round(n1+n2+n3/3)\n",
    "print('the average of these 3 numbers is',total)"
   ]
  },
  {
   "cell_type": "code",
   "execution_count": null,
   "id": "7decda98",
   "metadata": {},
   "outputs": [],
   "source": [
    "def average():\n",
    "    n1=eval(input('enter a number:'))\n",
    "    n2=eval(input('enter a number:'))\n",
    "    n3=eval(input('enter a number:'))\n",
    "    total=round(n1+n2+n3/3)\n",
    "    print('the average of these 3 numbers is',total)"
   ]
  },
  {
   "cell_type": "code",
   "execution_count": null,
   "id": "49606851",
   "metadata": {},
   "outputs": [],
   "source": [
    "average ()"
   ]
  },
  {
   "cell_type": "code",
   "execution_count": null,
   "id": "a315c9ae",
   "metadata": {},
   "outputs": [],
   "source": [
    "# WAP ask the user enter bill amount\n",
    "#enter how much tip you want to pay\n",
    "#then calculate total bill\n",
    "#implement function"
   ]
  },
  {
   "cell_type": "code",
   "execution_count": null,
   "id": "800a754f",
   "metadata": {},
   "outputs": [],
   "source": [
    "n1=eval(input('enter your bill amount:'))\n",
    "n2=eval(input('enter how munch tip you want to pay:'))\n",
    "total=n1+n2\n",
    "print('your total amount is',total)"
   ]
  },
  {
   "cell_type": "code",
   "execution_count": null,
   "id": "cc925d4c",
   "metadata": {},
   "outputs": [],
   "source": [
    "#method 1\n",
    "def tip():\n",
    "    n1=eval(input('enter your bill amount:'))\n",
    "    n2=eval(input('enter how munch tip you want to pay:'))\n",
    "    total=n1+n2\n",
    "    print('your total amount is',total)"
   ]
  },
  {
   "cell_type": "code",
   "execution_count": null,
   "id": "0d376391",
   "metadata": {},
   "outputs": [],
   "source": [
    "tip ()"
   ]
  },
  {
   "cell_type": "code",
   "execution_count": null,
   "id": "99f01257",
   "metadata": {},
   "outputs": [],
   "source": [
    "#method 2\n",
    "def tip():\n",
    "    try:\n",
    "        n1=eval(input('enter your bill amount:'))\n",
    "        n2=eval(input('enter how munch tip you want to pay:'))\n",
    "        total=n1+n2\n",
    "        print('your total amount is',total)\n",
    "    except Exception as e:\n",
    "        print(e)   "
   ]
  },
  {
   "cell_type": "code",
   "execution_count": null,
   "id": "1c39e7f4",
   "metadata": {},
   "outputs": [],
   "source": [
    "tip ()"
   ]
  },
  {
   "cell_type": "code",
   "execution_count": null,
   "id": "71521918",
   "metadata": {},
   "outputs": [],
   "source": [
    "#WAP prgm ask a user to enter a number\n",
    "#print if it ia an even number or odd number\n",
    "#implement a function on this"
   ]
  },
  {
   "cell_type": "code",
   "execution_count": null,
   "id": "15f5c7e0",
   "metadata": {},
   "outputs": [],
   "source": [
    "def odd():\n",
    "    num=eval(input('enter a number:'))\n",
    "    if num%2==0:\n",
    "        print('it is a even number')\n",
    "    else:\n",
    "        print('it is a odd number')   "
   ]
  },
  {
   "cell_type": "code",
   "execution_count": null,
   "id": "05af00d1",
   "metadata": {},
   "outputs": [],
   "source": [
    "odd ()"
   ]
  },
  {
   "cell_type": "code",
   "execution_count": null,
   "id": "0331db7b",
   "metadata": {},
   "outputs": [],
   "source": [
    "def odd():\n",
    "    try:\n",
    "        num=eval(input('enter a number:'))\n",
    "        if num%2==0:\n",
    "            print('it is a even number')\n",
    "        else:\n",
    "            print('it is a odd number')  \n",
    "    except Exception as e:\n",
    "        print(e)"
   ]
  },
  {
   "cell_type": "code",
   "execution_count": null,
   "id": "d0c5d417",
   "metadata": {},
   "outputs": [],
   "source": [
    "odd ()"
   ]
  },
  {
   "cell_type": "code",
   "execution_count": null,
   "id": "5a13fdbd",
   "metadata": {},
   "outputs": [],
   "source": [
    "# *without arguments()\n",
    "#not provided anything inside the brackt\n",
    "#(it is known as without arguments)\n",
    "# add()  \n",
    "#bill()\n",
    "#avg()\n",
    "#salary()\n",
    "#odd()\n",
    "\n",
    "# if we provide any thing inside the brackets\n",
    "#that are cllaed arguments/parameters"
   ]
  },
  {
   "cell_type": "markdown",
   "id": "ea242da1",
   "metadata": {},
   "source": [
    "# with argumets"
   ]
  },
  {
   "cell_type": "code",
   "execution_count": null,
   "id": "c19b9820",
   "metadata": {},
   "outputs": [],
   "source": [
    "def add (a,b):\n",
    "    print(a+b)\n",
    "\n",
    "add(20,30)    \n",
    "# here we are wrting the argumnets inside the bracket"
   ]
  },
  {
   "cell_type": "code",
   "execution_count": null,
   "id": "a5bf32cd",
   "metadata": {},
   "outputs": [],
   "source": [
    "def add (a):\n",
    "    print(a+b)\n",
    "\n",
    "add(40) "
   ]
  },
  {
   "cell_type": "code",
   "execution_count": null,
   "id": "3a64ab5d",
   "metadata": {
    "scrolled": true
   },
   "outputs": [],
   "source": [
    "def add (a,b): #while initializing u given 2 arguments\n",
    "    print(a+b)\n",
    "\n",
    "add(20) #while calling me u provied 1 argument"
   ]
  },
  {
   "cell_type": "code",
   "execution_count": null,
   "id": "1343e323",
   "metadata": {},
   "outputs": [],
   "source": [
    "def add (b,a):\n",
    "    print(a+b)\n",
    "\n",
    "add(40)"
   ]
  },
  {
   "cell_type": "code",
   "execution_count": null,
   "id": "749a6837",
   "metadata": {},
   "outputs": [],
   "source": [
    "def add (a,b):\n",
    "    print(a+b)\n",
    "\n",
    "add(100,40) #a=100 , b=40"
   ]
  },
  {
   "cell_type": "code",
   "execution_count": null,
   "id": "e56db966",
   "metadata": {},
   "outputs": [],
   "source": [
    "def add (a):\n",
    "    b=eval(input('enter a number:'))\n",
    "    print(a+b)\n",
    "\n",
    "add(100)"
   ]
  },
  {
   "cell_type": "code",
   "execution_count": null,
   "id": "cae83f36",
   "metadata": {},
   "outputs": [],
   "source": [
    "#types of errors\n",
    "def add (a,b):\n",
    "    print(a+b)\n",
    "\n",
    "add()"
   ]
  },
  {
   "cell_type": "code",
   "execution_count": null,
   "id": "d88afba4",
   "metadata": {},
   "outputs": [],
   "source": [
    "def add ():\n",
    "    print(x+y)\n",
    "\n",
    "add()"
   ]
  },
  {
   "cell_type": "code",
   "execution_count": null,
   "id": "2b6d6b64",
   "metadata": {},
   "outputs": [],
   "source": [
    "def salary(base_salary,DA_amount):\n",
    "    total=base_salary+DA_amount\n",
    "    print('the total salary is:',total)\n",
    "salary (500,1000)"
   ]
  },
  {
   "cell_type": "code",
   "execution_count": null,
   "id": "9e699327",
   "metadata": {},
   "outputs": [],
   "source": [
    "def average(n1,n2,n3):\n",
    "    total=round(n1+n2+n3/3)\n",
    "    print('the average of these 3 numbers is',total)\n",
    "average(2,3,4)    "
   ]
  },
  {
   "cell_type": "markdown",
   "id": "874e8cc4",
   "metadata": {},
   "source": [
    "# kernel is busy we can clear it by \n",
    "#go to kernel\n",
    "#restart\n",
    "#and clear ouput"
   ]
  },
  {
   "cell_type": "markdown",
   "id": "771f7b00",
   "metadata": {},
   "source": [
    "# types of arguments"
   ]
  },
  {
   "cell_type": "markdown",
   "id": "cf12cd70",
   "metadata": {},
   "source": [
    "- with out aruguments\n",
    "- with argumnets\n",
    "- default arguments\n"
   ]
  },
  {
   "cell_type": "markdown",
   "id": "bf51c61c",
   "metadata": {},
   "source": [
    "# default arguments\n",
    "in default argument one value will be always fixed "
   ]
  },
  {
   "cell_type": "code",
   "execution_count": null,
   "id": "9192fc26",
   "metadata": {},
   "outputs": [],
   "source": [
    "def average(n1,n2,n3=300):\n",
    "    total=round(n1+n2+n3/3)\n",
    "    print('the average of these 3 numbers is',total)\n",
    "\n",
    "average(2,3)    #a=2, b=3 ,c=300\n",
    "#fixed means fixes\n",
    "#which argumnet is fixed i.e called default argument\n",
    "#here n3 is the default argument"
   ]
  },
  {
   "cell_type": "code",
   "execution_count": null,
   "id": "3cd1b2b4",
   "metadata": {},
   "outputs": [],
   "source": [
    "#1.verification\n",
    "\n",
    "def average(n1,n2,n3=300):\n",
    "    print('n1:',n1)\n",
    "    print('n2:',n2)\n",
    "    print('n3:',n3)\n",
    "    total=round(n1+n2+n3/3)\n",
    "    print('the average of these 3 numbers is',total)\n",
    "\n",
    "average(2,3,4)    #a=2, b=3 ,c=300  \n",
    "# initilization is first =======n3=500\n",
    "#or calling first =======n3=4\n",
    "#latest value\n",
    "#calling value will not have any value if we using default argument\n",
    "#and latest value will always be the number to be enterd in the o/p"
   ]
  },
  {
   "cell_type": "code",
   "execution_count": null,
   "id": "53007458",
   "metadata": {},
   "outputs": [],
   "source": [
    "def add(x,y):\n",
    "    x= 50\n",
    "    y= 150\n",
    "    print(x+y)\n",
    "    \n",
    "add(20)  #  x first in first out "
   ]
  },
  {
   "cell_type": "code",
   "execution_count": null,
   "id": "7fb5de37",
   "metadata": {},
   "outputs": [],
   "source": [
    "def average(n1,n2=2000,n3):\n",
    "    print('n1:',n1)\n",
    "    print('n2:',n2)\n",
    "    print('n3:',n3)\n",
    "    total=round(n1+n2+n3/3)\n",
    "    print('the average of these 3 numbers is',total)\n",
    "average(10,20)\n",
    "\n",
    "#always default paramters should be provied last"
   ]
  },
  {
   "cell_type": "code",
   "execution_count": null,
   "id": "28b29a2c",
   "metadata": {},
   "outputs": [],
   "source": [
    "def average(n1,n3,n2=2000):\n",
    "    print('n1:',n1)\n",
    "    print('n2:',n2)\n",
    "    print('n3:',n3)\n",
    "    total=round(n1+n2+n3/3)\n",
    "    print('the average of these 3 numbers is',total)\n",
    "average(10,20)\n",
    "\n",
    "#we cannot the write the default value at the first \n",
    "#it alwasy should be in the last if not it will show error \n",
    "# and the error will be like \n",
    "#non-default argument follows default argument\n"
   ]
  },
  {
   "cell_type": "markdown",
   "id": "36c14655",
   "metadata": {},
   "source": [
    "todays work 19-10-2023"
   ]
  },
  {
   "cell_type": "code",
   "execution_count": null,
   "id": "480f1e39",
   "metadata": {},
   "outputs": [],
   "source": [
    "#method -1\n",
    "n1=eval(input('enter a number:'))\n",
    "n2=eval(input('enter a number:'))\n",
    "n3=eval(input('enter a number:'))\n",
    "ADD1=n1+n2+n3\n",
    "AVG1=ADD1/3\n",
    "print('the addition of {},{} and {} is {}'.format(n1,n2,n3,ADD1))\n",
    "print('the average of {},{} and {} is {}'.format(n1,n2,n3,AVG1))\n"
   ]
  },
  {
   "cell_type": "code",
   "execution_count": null,
   "id": "1c1b4e28",
   "metadata": {},
   "outputs": [],
   "source": [
    "#method-2 (without arguments)\n",
    "def avg_without():\n",
    "    n1=eval(input('enter a number:'))  #local value\n",
    "    n2=eval(input('enter a number:'))  #lv\n",
    "    n3=eval(input('enter a number:'))  #lv\n",
    "    ADD1=n1+n2+n3\n",
    "    AVG1=ADD1/3\n",
    "    print('the addition of {},{} and {} is {}'.format(n1,n2,n3,ADD1))\n",
    "    print('the average of {},{} and {} is {}'.format(n1,n2,n3,AVG1))\n",
    "    return(AVG1,ADD1)\n",
    "    \n",
    "#st1: no return syntax in your code\n",
    "#st2: chnage variable name\n",
    "#st3:this function not returning any thing\n",
    "#but u want to use AVG11 value outside the function call"
   ]
  },
  {
   "cell_type": "code",
   "execution_count": null,
   "id": "4cbc8d6e",
   "metadata": {},
   "outputs": [],
   "source": [
    "# how many variables are there:5\n",
    "#n1,n2,n3 are values provides by user\n",
    "#add and avg is getting by python code\n",
    "\n",
    "#n1,n2,n3 are inside the function these are known as local variables\n",
    "#these local varibles u cannot use outside the function untill unless u return the value\n",
    "#out side the function means global variable\n",
    "#these out side functions can be used after 1000 also\n"
   ]
  },
  {
   "cell_type": "code",
   "execution_count": null,
   "id": "a8a90f10",
   "metadata": {},
   "outputs": [],
   "source": [
    "avg,add=avg_without()\n",
    "#this function is return one value,u need to save it"
   ]
  },
  {
   "cell_type": "code",
   "execution_count": null,
   "id": "97a28223",
   "metadata": {},
   "outputs": [],
   "source": [
    "print(avg,add)"
   ]
  },
  {
   "cell_type": "code",
   "execution_count": null,
   "id": "bd49ace7",
   "metadata": {},
   "outputs": [],
   "source": [
    "#method-3 (with arguments)\n",
    "def avg(n1,n2,n3):\n",
    "    ADD1=n1+n2+n3\n",
    "    AVG1=ADD1/3\n",
    "    print('the addition of {},{} and {} is {}'.format(n1,n2,n3,ADD1))\n",
    "    print('the average of {},{} and {} is {}'.format(n1,n2,n3,AVG1))\n",
    "avg(10,20,30)"
   ]
  },
  {
   "cell_type": "code",
   "execution_count": null,
   "id": "f3086145",
   "metadata": {},
   "outputs": [],
   "source": [
    "#method-4 (default argumnet)\n",
    "def avg(n1,n2,n3=100):\n",
    "    ADD1=n1+n2+n3\n",
    "    AVG1=ADD1/3\n",
    "    print('the addition of {},{} and {} is {}'.format(n1,n2,n3,ADD1))\n",
    "    print('the average of {},{} and {} is {}'.format(n1,n2,n3,AVG1))\n",
    "    \n",
    "avg(10,20)"
   ]
  },
  {
   "cell_type": "code",
   "execution_count": null,
   "id": "28a4010a",
   "metadata": {},
   "outputs": [],
   "source": [
    "#i want to use avg value in future reference \n",
    "#im printing avg value outside the function\n",
    "\n",
    "print(AVG1)\n",
    "\n",
    "#the name: AVG is not defined before\n",
    "#sir i defined inside the function\n",
    "#handover ===== return\n",
    "#he is not return , he is just printing the value\n",
    "#in simple words indide define function will not work for out side function\n",
    "#if he write the function it will work if not it will not work"
   ]
  },
  {
   "cell_type": "code",
   "execution_count": null,
   "id": "8e143363",
   "metadata": {},
   "outputs": [],
   "source": [
    "#method-4 (default argumnet)\n",
    "def avg_default(n1,n2,n3=100):\n",
    "    ADD1=n1+n2+n3\n",
    "    AVG1=ADD1/3\n",
    "    print('the addition of {},{} and {} is {}'.format(n1,n2,n3,ADD1))\n",
    "    print('the average of {},{} and {} is {}'.format(n1,n2,n3,AVG1))\n",
    "    return(ADD1,AVG1)\n",
    "avg_default(10,20)\n",
    "\n",
    "average=avg_default(n1,n2,n3=100)\n",
    "print(average)"
   ]
  },
  {
   "cell_type": "code",
   "execution_count": null,
   "id": "d5ca1770",
   "metadata": {},
   "outputs": [],
   "source": [
    "def tax_percentage_default(tax_percentage=10):\n",
    "    salary=eval(input('enter ur salary:'))\n",
    "    tax_amount=tax_percentage*salary/100\n",
    "    return(tax_amount)\n"
   ]
  },
  {
   "cell_type": "code",
   "execution_count": null,
   "id": "91433409",
   "metadata": {},
   "outputs": [],
   "source": [
    "tax_amount=tax_percentage_default()\n",
    "print(tax_amount)"
   ]
  },
  {
   "cell_type": "code",
   "execution_count": null,
   "id": "80a1a4e5",
   "metadata": {},
   "outputs": [],
   "source": [
    "def math(a,b):\n",
    "    add=a+b\n",
    "    sub=a-b\n",
    "    mul=a*b\n",
    "    div=a/b\n",
    "    return(add,sub,mul,div)"
   ]
  },
  {
   "cell_type": "code",
   "execution_count": null,
   "id": "3a25f5d4",
   "metadata": {},
   "outputs": [],
   "source": [
    "add,sub,mul,div=math(10,20)\n",
    "print(add,sub,mul,div)"
   ]
  },
  {
   "cell_type": "markdown",
   "id": "692f20dd",
   "metadata": {},
   "source": [
    "-local variables means inside the functio\n",
    "-u cannot use out side the function untill unless u return the variable\n",
    "-global variables are out side functions, it can use inside the function\n",
    "\n",
    "\n",
    "-define the function\n",
    "-with out arguments\n",
    "-with arguments\n",
    "-default argumnet\n",
    "-return\n",
    "-local variable\n",
    "-global variable"
   ]
  },
  {
   "cell_type": "code",
   "execution_count": null,
   "id": "9787799e",
   "metadata": {},
   "outputs": [],
   "source": [
    "def average(n1,n2,n3=300):\n",
    "    total=round(n1+n2+n3/3)\n",
    "    print('the average of these 3 numbers is',total)\n",
    "    return(total)\n",
    "\n",
    "average(20,30)"
   ]
  },
  {
   "cell_type": "code",
   "execution_count": null,
   "id": "5e3de7a0",
   "metadata": {},
   "outputs": [],
   "source": [
    "total_average=average(20,30)\n",
    "print(total_average)"
   ]
  },
  {
   "cell_type": "code",
   "execution_count": null,
   "id": "29884812",
   "metadata": {},
   "outputs": [],
   "source": [
    "n1=eval(input('enter a number:'))\n",
    "n2=eval(input('enter a number:'))\n",
    "n3=eval(input('enter a number:'))\n",
    "\n",
    "def avg_cal():\n",
    "    total=n1+n2+n3\n",
    "    avg=total/3\n",
    "    return(total,avg)\n",
    "\n",
    "add, avg=avg_cal()"
   ]
  },
  {
   "cell_type": "code",
   "execution_count": null,
   "id": "7920dad7",
   "metadata": {},
   "outputs": [],
   "source": [
    "print(add, avg)"
   ]
  },
  {
   "cell_type": "code",
   "execution_count": null,
   "id": "fcf75110",
   "metadata": {},
   "outputs": [],
   "source": [
    "#n1=50\n",
    "#n2=60\n",
    "#n3=70\n",
    "#take 3 number and find the greaters number\n",
    "\n",
    "n1=eval(input('enter the number:'))\n",
    "n2=eval(input('enter the number:'))\n",
    "n3=eval(input('enter the number:'))\n",
    "\n",
    "if n1>n2 and n1>n3:\n",
    "    print('{} is greates'.format(n1))\n",
    "elif n2>n3:\n",
    "    print('{} is greatest'.format(n2))\n",
    "else:\n",
    "    print('{} is greatest'.format(n3))\n",
    "    \n",
    "    \n",
    "    \n",
    "#-define the function\n",
    "\n",
    "#-with out arguments\n",
    "\n",
    "#-with arguments\n",
    "\n",
    "#-default argumnet\n",
    "\n",
    "#-return\n",
    "\n",
    "#-local variable\n",
    "\n",
    "#-global variable    "
   ]
  },
  {
   "cell_type": "code",
   "execution_count": null,
   "id": "b62a2525",
   "metadata": {},
   "outputs": [],
   "source": [
    "## without arguments \n",
    "n1=eval(input('enter the number:'))\n",
    "n2=eval(input('enter the number:'))\n",
    "n3=eval(input('enter the number:'))\n",
    "\n",
    "def greater_value():\n",
    "    if n1>n2 and n1>n3:\n",
    "        print('{} is greates'.format(n1))\n",
    "        return(n1)\n",
    "    elif n2>n3:\n",
    "        print('{} is greatest'.format(n2))\n",
    "        return(n2)\n",
    "    else:\n",
    "        print('{} is greatest'.format(n3))\n",
    "        return(n3)\n",
    "\n",
    "greater_value()"
   ]
  },
  {
   "cell_type": "code",
   "execution_count": null,
   "id": "e05c7851",
   "metadata": {},
   "outputs": [],
   "source": [
    "great=greater_value()\n",
    "print(great)"
   ]
  },
  {
   "cell_type": "code",
   "execution_count": null,
   "id": "c8b82c5c",
   "metadata": {},
   "outputs": [],
   "source": [
    "# with arguments\n",
    "def greater_value(n1,n2,n3):\n",
    "    if n1>n2 and n1>n3:\n",
    "        print('{} is greates'.format(n1))\n",
    "        return(n1)\n",
    "    elif n2>n3:\n",
    "        print('{} is greatest'.format(n2))\n",
    "        return(n2)\n",
    "    else:\n",
    "        print('{} is greatest'.format(n3))\n",
    "        return(n3)  \n",
    "\n",
    "greater_value(30,20,50)\n",
    "\n",
    "great=greater_value(30,20,50)\n",
    "print(great)"
   ]
  },
  {
   "cell_type": "code",
   "execution_count": null,
   "id": "ea5f8327",
   "metadata": {},
   "outputs": [],
   "source": [
    "# default argument\n",
    "def greater_value(n1,n2,n3=800):\n",
    "    if n1>n2 and n1>n3:\n",
    "        print('{} is greates'.format(n1))\n",
    "        return(n1)\n",
    "    elif n2>n3:\n",
    "        print('{} is greatest'.format(n2))\n",
    "        return(n2)\n",
    "    else:\n",
    "        print('{} is greatest'.format(n3))\n",
    "        return(n3)  \n",
    "\n",
    "greater_value(30,20)\n",
    "great=greater_value(30,20)\n",
    "print(great)\n"
   ]
  },
  {
   "cell_type": "code",
   "execution_count": null,
   "id": "ea94a9af",
   "metadata": {},
   "outputs": [],
   "source": [
    "def greater_value(n1,n2,n3=800):\n",
    "    global n1,n2\n",
    "    if n1>n2 and n1>n3:\n",
    "        print('{} is greates'.format(n1))\n",
    "        return(n1)\n",
    "    elif n2>n3:\n",
    "        print('{} is greatest'.format(n2))\n",
    "        return(n2)\n",
    "    else:\n",
    "        print('{} is greatest'.format(n3))\n",
    "        return(n3)  \n",
    "\n",
    "greater_value(30,20)\n",
    "great=greater_value(30,20)\n",
    "print(great)\n"
   ]
  },
  {
   "cell_type": "code",
   "execution_count": null,
   "id": "b762258c",
   "metadata": {},
   "outputs": [],
   "source": []
  },
  {
   "cell_type": "markdown",
   "id": "ccc35792",
   "metadata": {},
   "source": [
    "# global keyword"
   ]
  },
  {
   "cell_type": "code",
   "execution_count": null,
   "id": "92bf8cfa",
   "metadata": {},
   "outputs": [],
   "source": [
    "a=20\n",
    "\n",
    "def val():\n",
    "    a=30\n",
    "    print('the alue of a:',a)"
   ]
  },
  {
   "cell_type": "code",
   "execution_count": null,
   "id": "4f18c805",
   "metadata": {},
   "outputs": [],
   "source": [
    "val()"
   ]
  },
  {
   "cell_type": "code",
   "execution_count": null,
   "id": "041091ee",
   "metadata": {},
   "outputs": [],
   "source": [
    "print(a)\n",
    "\n",
    "\n",
    "#use case: we want to use latest value of a\n",
    "#my main aime is i want to use a=30 value with out return\n",
    "#i want to use latest a value i.e 30 outside the function\n",
    "#local=====global\n",
    "#u need to convert local variable to global variable\n",
    "# to convert it weare using global keyword without using return statement"
   ]
  },
  {
   "cell_type": "code",
   "execution_count": null,
   "id": "436c6722",
   "metadata": {},
   "outputs": [],
   "source": [
    "keyword : global"
   ]
  },
  {
   "cell_type": "code",
   "execution_count": null,
   "id": "00d38803",
   "metadata": {},
   "outputs": [],
   "source": [
    "a=20 # global varibale\n",
    "\n",
    "def val():\n",
    "    global a # it might be local or gloabl it will print the latest value\n",
    "    a=30  # local variable\n",
    "    print('the value of a:',a)"
   ]
  },
  {
   "cell_type": "code",
   "execution_count": null,
   "id": "e43dc4b2",
   "metadata": {},
   "outputs": [],
   "source": [
    "val() "
   ]
  },
  {
   "cell_type": "code",
   "execution_count": null,
   "id": "73200919",
   "metadata": {},
   "outputs": [],
   "source": [
    "print(a)"
   ]
  },
  {
   "cell_type": "code",
   "execution_count": null,
   "id": "24427d49",
   "metadata": {},
   "outputs": [],
   "source": [
    "n1=30   #global variable\n",
    "def add(n2,n3): #with argument n2 is a parameter\n",
    "    global n1   #n2 also global\n",
    "    n1=n2+n3 \n",
    "    return(n2)\n",
    "\n",
    "\n",
    "n2=add(30,40)\n",
    "print(n1)   #70\n",
    "print(n2)   #30\n",
    "\n",
    "#i want to use n2 also outside the function call : return"
   ]
  },
  {
   "cell_type": "code",
   "execution_count": null,
   "id": "0768730b",
   "metadata": {},
   "outputs": [],
   "source": [
    "#bifferece between retrun and global\n",
    "#parameters(local function) never be a global variable\n",
    "#that are always inside the function only\n",
    "#it will never used as global\n",
    "#parameters canot convert into global variable\n",
    "#\n",
    "#"
   ]
  },
  {
   "cell_type": "code",
   "execution_count": null,
   "id": "9d512a90",
   "metadata": {},
   "outputs": [],
   "source": [
    "n1=30   #global variable\n",
    "def add(n3): #with argument n2 is a parameter\n",
    "    global n1   #n2 also global\n",
    "    n2=eval(input('enter a number:')) \n",
    "    n1=n2+n3\n",
    "    return(n2)\n",
    "\n",
    "\n",
    "n2=add(40)\n",
    "print(n2)   \n",
    "\n"
   ]
  },
  {
   "cell_type": "code",
   "execution_count": null,
   "id": "b65c30da",
   "metadata": {},
   "outputs": [],
   "source": [
    "n1=30               #global variable\n",
    "def add(n3):        #with argument n2 is a parameter\n",
    "    global n1 ,n2   #n2 also global\n",
    "    n2=eval(input('enter a number:')) \n",
    "    n1=n2+n3\n",
    "    \n",
    "add(40)\n",
    "print(n1)  \n",
    "print(n2) "
   ]
  },
  {
   "cell_type": "markdown",
   "id": "4ac930e1",
   "metadata": {},
   "source": [
    "# parameter error"
   ]
  },
  {
   "cell_type": "code",
   "execution_count": null,
   "id": "26b45750",
   "metadata": {},
   "outputs": [],
   "source": [
    "#add() takes i positional argument\n",
    "\n",
    "#it means it takes only one parameter"
   ]
  },
  {
   "cell_type": "code",
   "execution_count": null,
   "id": "41c05dcd",
   "metadata": {},
   "outputs": [],
   "source": [
    "bill_amount=1000\n",
    "def bill(tip_amount=100):\n",
    "    global total_amount\n",
    "    total_amount=bill_amount+tip_amount\n",
    "\n",
    "bill()   \n",
    "print('total bill is',total_amount)    \n",
    "    "
   ]
  },
  {
   "cell_type": "markdown",
   "id": "638dae72",
   "metadata": {},
   "source": [
    "#  functions in functions"
   ]
  },
  {
   "cell_type": "code",
   "execution_count": null,
   "id": "16687b81",
   "metadata": {},
   "outputs": [],
   "source": [
    "def hey():\n",
    "    print('sai')\n",
    "    print('hello gm')\n",
    "    print('how do u do')\n",
    "    \n",
    "hey()    "
   ]
  },
  {
   "cell_type": "code",
   "execution_count": null,
   "id": "fd0c7150",
   "metadata": {},
   "outputs": [],
   "source": [
    "def greet():\n",
    "    print('hello gm')\n",
    "\n",
    "greet()    "
   ]
  },
  {
   "cell_type": "code",
   "execution_count": null,
   "id": "46e44681",
   "metadata": {},
   "outputs": [],
   "source": [
    "def hey():\n",
    "    print('sai')\n",
    "    greet()\n",
    "    print('how do u do')\n",
    "    \n",
    "hey()    "
   ]
  },
  {
   "cell_type": "code",
   "execution_count": null,
   "id": "6d90ce99",
   "metadata": {},
   "outputs": [],
   "source": [
    "def greet1(name1):\n",
    "    print('hello',name1)\n",
    "\n",
    "def greet2(name2):\n",
    "    print('good morning',name2)\n",
    "    \n",
    "def greet3(val):\n",
    "    print('how much 3+5?',val)\n",
    "    \n",
    "def greet4():\n",
    "    print('i think i dont know')\n",
    "    \n",
    "def solve(val,name1,name2,):\n",
    "    greet3(val)\n",
    "    greet2(name2)\n",
    "    greet1(name1) #we can write here also but this isnt the right way\n",
    "    greet4()\n",
    "    print('end the story')\n",
    "    \n",
    "solve('val','sai','anil')    "
   ]
  },
  {
   "cell_type": "markdown",
   "id": "25711636",
   "metadata": {},
   "source": [
    "# val?"
   ]
  },
  {
   "cell_type": "code",
   "execution_count": null,
   "id": "0f4f49e2",
   "metadata": {},
   "outputs": [],
   "source": [
    "def greet3(val):\n",
    "    print('how much 3+5?',val)\n",
    "greet3(val)"
   ]
  },
  {
   "cell_type": "code",
   "execution_count": null,
   "id": "c3afe853",
   "metadata": {},
   "outputs": [],
   "source": [
    "def add(a,b):\n",
    "    print('the addition is :',a+b)\n",
    "def sub(a,b):\n",
    "    print('the subtraction is :',a-b)\n",
    "def mul(a,b):\n",
    "    print('the multiplication is :',a*b)\n",
    "def div(a,b):\n",
    "    print('the division is :',a/b)\n",
    "    \n",
    "def calculator(a,b):\n",
    "    n=eval(input('enter number between 1 to 4:'))\n",
    "    if n==1:\n",
    "        add(a,b)\n",
    "    elif n==2:\n",
    "        sub(a,b)\n",
    "    elif n==3: \n",
    "        mul(a,b)\n",
    "    else:\n",
    "        div(a,b)\n",
    "\n",
    "calculator(30,40)\n"
   ]
  },
  {
   "cell_type": "markdown",
   "id": "18691d4a",
   "metadata": {},
   "source": [
    "# for loop\n"
   ]
  },
  {
   "cell_type": "code",
   "execution_count": null,
   "id": "6ce42e7b",
   "metadata": {},
   "outputs": [],
   "source": [
    "loop is only for the multiple mediums that's y we are using for loop"
   ]
  },
  {
   "cell_type": "code",
   "execution_count": null,
   "id": "533ef477",
   "metadata": {},
   "outputs": [],
   "source": [
    "for i in range(5):\n",
    "    print('hello')"
   ]
  },
  {
   "cell_type": "code",
   "execution_count": null,
   "id": "566a6e42",
   "metadata": {},
   "outputs": [],
   "source": [
    "#wap ask the user to get 5 random numbers==== square\n",
    "import random\n",
    "num=random.randint(1,100)\n",
    "total=num*num\n",
    "print('the square of {} is {}'.format(num,total))"
   ]
  },
  {
   "cell_type": "code",
   "execution_count": null,
   "id": "19594c9e",
   "metadata": {},
   "outputs": [],
   "source": [
    "#wap print the number is even or odd number\n",
    "#the numbers u need to take from 10 to 40\n",
    "for i in range(10,40):\n",
    "    if i%2==0:\n",
    "        print('{} it is a even number'.format(i))\n",
    "    else:\n",
    "        print('{} it is a odd number'.format(i))\n",
    "    \n"
   ]
  },
  {
   "cell_type": "code",
   "execution_count": null,
   "id": "009a2f05",
   "metadata": {},
   "outputs": [],
   "source": [
    "def even_odd():\n",
    "    try:\n",
    "        for i in range(10,40):\n",
    "            if i%2==0:\n",
    "                print('{} it is a even number'.format(i))\n",
    "            else:\n",
    "                print('{} it is a odd number'.format(i))\n",
    "    except Exceptions as e:\n",
    "        print(e)\n",
    " \n",
    "even_odd()\n",
    "\n",
    "#insted of cahnging the numbers inside the code \n",
    "#we can provide those as aguments"
   ]
  },
  {
   "cell_type": "code",
   "execution_count": null,
   "id": "5def04fc",
   "metadata": {},
   "outputs": [],
   "source": [
    "def even_odd(start,stop):\n",
    "    try:\n",
    "        for i in range(start,stop):\n",
    "            if i%2==0:\n",
    "                print('{} it is a even number'.format(i))\n",
    "            else:\n",
    "                print('{} it is a odd number'.format(i))\n",
    "    except Exceptions as e:\n",
    "        print(e)\n",
    "\n",
    "even_odd(10,15)        "
   ]
  },
  {
   "cell_type": "code",
   "execution_count": null,
   "id": "1c5b99cc",
   "metadata": {},
   "outputs": [],
   "source": [
    "#global variable\n",
    "#i want to take take start and stopn from keyboard\n",
    "\n",
    "start=eval(input('enter start value:'))\n",
    "stop=eval(input('enter stop value:'))\n",
    "\n",
    "def even_odd():\n",
    "    for i in range(start,stop):\n",
    "        if i%2==0:\n",
    "            print('{} it is a even number'.format(i))\n",
    "        else:\n",
    "            print('{} it is a odd number'.format(i))\n",
    "\n",
    "even_odd()        "
   ]
  },
  {
   "cell_type": "code",
   "execution_count": null,
   "id": "0c7274ad",
   "metadata": {},
   "outputs": [],
   "source": [
    "def get_value():\n",
    "    start=eval(input('enter start value:'))\n",
    "    stop=eval(input('enter stop value:'))\n",
    "    return(start,stop)\n",
    "\n",
    "def even_odd():\n",
    "    start,stop=get_value()\n",
    "    for i in range(start,stop):\n",
    "        if i%2==0:\n",
    "            print('{} it is a even number'.format(i))\n",
    "        else:\n",
    "            print('{} it is a odd number'.format(i))\n",
    "            \n",
    "even_odd()    "
   ]
  },
  {
   "cell_type": "code",
   "execution_count": null,
   "id": "2e7fac49",
   "metadata": {},
   "outputs": [],
   "source": [
    "print('hi')\n",
    "print('hello')\n",
    "for i in range(3):\n",
    "    print('good')\n",
    "    print('morning')\n",
    "    \n",
    "print('bye')    "
   ]
  },
  {
   "cell_type": "code",
   "execution_count": null,
   "id": "74df65b0",
   "metadata": {},
   "outputs": [],
   "source": [
    "#wap ask a user get a 10 random numbers b/w 1 to 100 \n",
    "#and print it is an even or odd number\n",
    "import random\n",
    "for n in range (10):\n",
    "    n=random.randint(1,100)\n",
    "    if n%2==0:\n",
    "        print('{} it is a even number'.format(n))\n",
    "    else:\n",
    "        print('{} it is a odd number'.format(n))"
   ]
  },
  {
   "cell_type": "markdown",
   "id": "14b85704",
   "metadata": {},
   "source": [
    "# guess game"
   ]
  },
  {
   "cell_type": "markdown",
   "id": "1c33d678",
   "metadata": {},
   "source": [
    "#st 1 get a random number b/w 1 to 20 save this in one function\n",
    "#st 2 ask the user enter a number\n",
    "#st 3 if the number 1 ==2 print(y won)\n",
    "#st 4 otherwise u lost\n",
    "#st 5 i will give only 3 chances\n",
    "#evert time ur wrong it show that enter a number\n",
    "#when u enter the number it will check the condtion"
   ]
  },
  {
   "cell_type": "code",
   "execution_count": null,
   "id": "ae47ed62",
   "metadata": {
    "scrolled": true
   },
   "outputs": [],
   "source": [
    "import random\n",
    "chances=eval(input('enter the number of chances:'))\n",
    "for i in range(chances):\n",
    "    n1=random.randint(1,20)\n",
    "    print(n1)\n",
    "    n2=eval(input('entner a number:'))\n",
    "    if n1==n2:\n",
    "        print('you won')\n",
    "        break\n",
    "    else:\n",
    "        print('you lost')\n",
    "        print('you have {} chances'.format(chances-1-i))\n",
    "\n",
    "if chances-1==i:\n",
    "    print('your all chances are over better luck next time')"
   ]
  },
  {
   "cell_type": "markdown",
   "id": "3e70884f",
   "metadata": {},
   "source": [
    "# count prgm"
   ]
  },
  {
   "cell_type": "code",
   "execution_count": null,
   "id": "3f75cb26",
   "metadata": {},
   "outputs": [],
   "source": [
    "i=1\n",
    "i=2\n",
    "i=3\n",
    "i=4\n",
    "i=5\n",
    "i=6\n",
    "i=7\n",
    "i=8\n",
    "i=9\n",
    "i=10\n",
    "\n"
   ]
  },
  {
   "cell_type": "code",
   "execution_count": null,
   "id": "4ac7fae7",
   "metadata": {},
   "outputs": [],
   "source": [
    "sum1=0\n",
    "for i in range(1,11):\n",
    "    print(i)\n",
    "    sum1=sum1+i\n",
    "print('the sum of first 10 natural numbers are:',sum1)    \n",
    "    \n",
    "#st1:    sum1=0   i=1   new sum1=0+1=1\n",
    "#st2:    sum1=1   i=2       sum1=1+2=3\n",
    "#st3:    sum1=2   i=3       sum1=3+3=3\n"
   ]
  },
  {
   "cell_type": "code",
   "execution_count": null,
   "id": "ab279908",
   "metadata": {},
   "outputs": [],
   "source": [
    "#wap ask the user to find a number is an even number and odd number b/w i \n",
    "#1 to 100\n",
    "#count the no. of even and odd numbers"
   ]
  },
  {
   "cell_type": "code",
   "execution_count": null,
   "id": "57078d9e",
   "metadata": {},
   "outputs": [],
   "source": [
    "e=0\n",
    "o=0\n",
    "for i in range(1,101):\n",
    "    if i%2==0:\n",
    "        e=e+1 #we are providing 0 becoz it will count from there if we \n",
    "        #provide 1 it will count as 4 even number but we have only 3 even numbers\n",
    "        #as per count so to avoid that we are writing it as 0\n",
    "    else:\n",
    "        o=o+1\n",
    "print('the total number of even numbers are',e) \n",
    "print('the total number of odd numbers are',o)"
   ]
  },
  {
   "cell_type": "code",
   "execution_count": null,
   "id": "d16989a6",
   "metadata": {},
   "outputs": [],
   "source": [
    "#wap ask get a 20 numbers b/w 1 to 100 #20 times\n",
    "#count the number of values which are greater than 50 and less than 90\n",
    "#which are between 50 and 90\n",
    "#you need to get the count b/w 50 to 90"
   ]
  },
  {
   "cell_type": "code",
   "execution_count": null,
   "id": "e26d253d",
   "metadata": {},
   "outputs": [],
   "source": [
    "import random\n",
    "n=random.randint(1,101)\n",
    "count=0\n",
    "for i in range(20):\n",
    "    if 50<n and n>99:\n",
    "        count=count+1 \n",
    "        \n",
    "print('the total number between 50 to 90',count)      "
   ]
  },
  {
   "cell_type": "code",
   "execution_count": null,
   "id": "49358e0d",
   "metadata": {},
   "outputs": [],
   "source": [
    "import random\n",
    "n"
   ]
  },
  {
   "cell_type": "markdown",
   "id": "5355dc8d",
   "metadata": {},
   "source": [
    "# in operator"
   ]
  },
  {
   "cell_type": "code",
   "execution_count": null,
   "id": "14c2bdc0",
   "metadata": {
    "scrolled": false
   },
   "outputs": [],
   "source": [
    "'b' in 'banana'"
   ]
  },
  {
   "cell_type": "code",
   "execution_count": null,
   "id": "fae3b409",
   "metadata": {},
   "outputs": [],
   "source": [
    "name='python'\n",
    "\n",
    "'p' in name  #t\n",
    "'y' in name  #t\n",
    "'t' in name  #t\n",
    "'o' in name  #T\n",
    "'n' in name  #f"
   ]
  },
  {
   "cell_type": "code",
   "execution_count": null,
   "id": "c2abb5bc",
   "metadata": {},
   "outputs": [],
   "source": [
    "'py' in name"
   ]
  },
  {
   "cell_type": "code",
   "execution_count": null,
   "id": "d368a267",
   "metadata": {},
   "outputs": [],
   "source": [
    "'pt' in name"
   ]
  },
  {
   "cell_type": "code",
   "execution_count": null,
   "id": "a2d98650",
   "metadata": {},
   "outputs": [],
   "source": [
    "#generlised expression\n",
    "#what is vary and what is common\n",
    "\n",
    "#i in name= generlised loop"
   ]
  },
  {
   "cell_type": "code",
   "execution_count": null,
   "id": "442bb240",
   "metadata": {},
   "outputs": [],
   "source": [
    "name='python'\n",
    "for i in name:\n",
    "    print(i)"
   ]
  },
  {
   "cell_type": "code",
   "execution_count": null,
   "id": "b707f4e0",
   "metadata": {},
   "outputs": [],
   "source": [
    "#range=====number\n",
    "#in=====string\n",
    "#eval=====number\n",
    "#input======string"
   ]
  },
  {
   "cell_type": "code",
   "execution_count": null,
   "id": "d87bf1c4",
   "metadata": {},
   "outputs": [],
   "source": [
    "#wap ask the user enter a your name\n",
    "#count the number of letter\n",
    "#f the cunt>5:print(your have lengthy name)\n",
    "#else:print(you have a small name)"
   ]
  },
  {
   "cell_type": "code",
   "execution_count": null,
   "id": "50eeae42",
   "metadata": {},
   "outputs": [],
   "source": [
    "n=input('enter your name:')\n",
    "count=0\n",
    "for i in n:\n",
    "    count=count+1\n",
    "    print(count,i)\n",
    "    \n",
    "print('total count:',count)\n",
    "\n",
    "if count>=5:print('it is a lengthy name')\n",
    "else:print('it is a small name')    \n",
    "    \n",
    "    "
   ]
  },
  {
   "cell_type": "code",
   "execution_count": null,
   "id": "a7f081fd",
   "metadata": {},
   "outputs": [],
   "source": [
    "#wap ask the user enter your name: python\n",
    "#iterate ur name with lopp\n",
    "#check the coddition if i=='a': count it\n",
    "#print how namy letter 'a' are there in ur name"
   ]
  },
  {
   "cell_type": "code",
   "execution_count": null,
   "id": "a6f9f527",
   "metadata": {},
   "outputs": [],
   "source": [
    "n=input('enter your name:')\n",
    "count=0\n",
    "for i in n:\n",
    "    if i=='a':\n",
    "        count=count+1\n",
    "print('a letter in ur name',count)    \n",
    "    "
   ]
  },
  {
   "cell_type": "code",
   "execution_count": null,
   "id": "8197a528",
   "metadata": {},
   "outputs": [],
   "source": [
    "n=input('enter yout name:')\n",
    "count=0\n",
    "for i in n:\n",
    "    if i=='a':\n",
    "        count=count+1\n",
    "print('the no.of A leeters in your name are',count)        \n",
    "        "
   ]
  },
  {
   "cell_type": "markdown",
   "id": "5da08e0f",
   "metadata": {},
   "source": [
    "# for loop concept\n",
    "-range\n",
    "\n",
    "-in"
   ]
  },
  {
   "cell_type": "code",
   "execution_count": null,
   "id": "efc48dad",
   "metadata": {},
   "outputs": [],
   "source": []
  },
  {
   "cell_type": "markdown",
   "id": "285e8430",
   "metadata": {},
   "source": [
    "# ascii"
   ]
  },
  {
   "cell_type": "code",
   "execution_count": null,
   "id": "aa64d18f",
   "metadata": {},
   "outputs": [],
   "source": [
    "'a'   #ascii\n",
    "\n",
    "A=65\n",
    "a=97"
   ]
  },
  {
   "cell_type": "code",
   "execution_count": null,
   "id": "ae8ceae3",
   "metadata": {},
   "outputs": [],
   "source": [
    "ord('a')"
   ]
  },
  {
   "cell_type": "code",
   "execution_count": null,
   "id": "91a5b27c",
   "metadata": {},
   "outputs": [],
   "source": [
    "#ORD is the keyword for ascii \n",
    "#'Apple' >'apple'\n",
    "#true or flase\n",
    "#true means \n",
    "#a=97\n",
    "A=65\n",
    "65>97"
   ]
  },
  {
   "cell_type": "code",
   "execution_count": null,
   "id": "3d824997",
   "metadata": {},
   "outputs": [],
   "source": [
    "'Apple'>'Bat'\n",
    "\n",
    "#'A'=65     'B'=66\n",
    "#if we dont know the value we can apply ord keyword \n",
    "#to know the value os the letter"
   ]
  },
  {
   "cell_type": "code",
   "execution_count": null,
   "id": "ed19c513",
   "metadata": {},
   "outputs": [],
   "source": [
    "ord('A'),ord('B')"
   ]
  },
  {
   "cell_type": "code",
   "execution_count": null,
   "id": "a36bb5a9",
   "metadata": {},
   "outputs": [],
   "source": [
    "'Apple'>'APPLE'\n",
    "\n",
    "#'A'  'A' is the same value\n",
    "#'p'=112  'P'=80\n",
    "#112>80"
   ]
  },
  {
   "cell_type": "code",
   "execution_count": null,
   "id": "78a0715b",
   "metadata": {},
   "outputs": [],
   "source": [
    "ord('p'),ord('P')"
   ]
  },
  {
   "cell_type": "code",
   "execution_count": null,
   "id": "25c50547",
   "metadata": {},
   "outputs": [],
   "source": [
    "ord('S'),ord('s')\n",
    "\n",
    "#which word is greater ,to know that we are using\n",
    "#to know which is greater number we are using this ascii \n",
    "#every word have specific number alloted \n",
    "#A SCII: American standard code iformation interchanfe"
   ]
  },
  {
   "cell_type": "markdown",
   "id": "37106793",
   "metadata": {},
   "source": [
    "# chr"
   ]
  },
  {
   "cell_type": "code",
   "execution_count": null,
   "id": "11f01018",
   "metadata": {},
   "outputs": [],
   "source": [
    "chr(65),ord('A')\n",
    "\n",
    "#it will give oppostie value\n",
    "#chr keyword\n",
    "#chr will give the letter and ord will give the correspoding number"
   ]
  },
  {
   "cell_type": "code",
   "execution_count": null,
   "id": "e13fa548",
   "metadata": {},
   "outputs": [],
   "source": [
    "#case-1: use for loop 20 to 200\n",
    "#ASCII : where it will start\n",
    "#where it will end"
   ]
  },
  {
   "cell_type": "code",
   "execution_count": null,
   "id": "d28b39fa",
   "metadata": {},
   "outputs": [],
   "source": [
    "#output format\n",
    "#1------>?\n",
    "#65----->A\n",
    "#66----->B"
   ]
  },
  {
   "cell_type": "code",
   "execution_count": null,
   "id": "0667f38f",
   "metadata": {},
   "outputs": [],
   "source": [
    "for i in range(33,127):\n",
    "    print(i,'----->',chr(i))   #st1 1,chr(1)\n",
    "    "
   ]
  },
  {
   "cell_type": "code",
   "execution_count": null,
   "id": "1cbee6bd",
   "metadata": {},
   "outputs": [],
   "source": [
    "for i in ('ABCDEFGHIJKLMNOPQRSTUVWXYZ'):\n",
    "    print(i,'----->',ord(i)) "
   ]
  },
  {
   "cell_type": "code",
   "execution_count": null,
   "id": "ef92314b",
   "metadata": {},
   "outputs": [],
   "source": [
    "for i in ('abcdefghijklmnopqrstuvwxyz'):\n",
    "    print(i,'----->',ord(i)) "
   ]
  },
  {
   "cell_type": "code",
   "execution_count": null,
   "id": "5b577e60",
   "metadata": {},
   "outputs": [],
   "source": [
    "#to aviod this wrting the string that is ABCD.....\n",
    "#we have a package that is string"
   ]
  },
  {
   "cell_type": "markdown",
   "id": "2679aebb",
   "metadata": {},
   "source": [
    "# string package"
   ]
  },
  {
   "cell_type": "code",
   "execution_count": null,
   "id": "5e0ea41a",
   "metadata": {},
   "outputs": [],
   "source": [
    "import string\n",
    "dir(string)"
   ]
  },
  {
   "cell_type": "code",
   "execution_count": null,
   "id": "37bcd55d",
   "metadata": {},
   "outputs": [],
   "source": [
    "string.ascii_letters"
   ]
  },
  {
   "cell_type": "code",
   "execution_count": null,
   "id": "9498eecb",
   "metadata": {},
   "outputs": [],
   "source": [
    "string.ascii_lowercase"
   ]
  },
  {
   "cell_type": "code",
   "execution_count": null,
   "id": "d0d99143",
   "metadata": {},
   "outputs": [],
   "source": [
    "string.ascii_uppercase"
   ]
  },
  {
   "cell_type": "code",
   "execution_count": null,
   "id": "b4c5bee1",
   "metadata": {},
   "outputs": [],
   "source": [
    "for i in (string.ascii_uppercase):\n",
    "    print(i,'----->',ord(i)) "
   ]
  },
  {
   "cell_type": "markdown",
   "id": "95f2d60d",
   "metadata": {},
   "source": [
    "# while loop"
   ]
  },
  {
   "cell_type": "code",
   "execution_count": null,
   "id": "7a7dde8c",
   "metadata": {},
   "outputs": [],
   "source": [
    "#it is a open gate function\n",
    "#this code will go to the infinte loop\n",
    "#it will never work\n",
    "#it happens becoz of the condtition\n",
    "i=0    #intital point\n",
    "\n",
    "\n",
    "while i>=0:     #based on your i\n",
    "    print(i,end=' ')\n",
    "    print('hello')\n",
    "    \n",
    "    i=i+1        #=======increment\n",
    "    \n",
    "#st 1 i=0             true  0h  i=0+1=1\n",
    "#st 2 i=1      1>=0   true  1h  i=1+1=2"
   ]
  },
  {
   "cell_type": "code",
   "execution_count": null,
   "id": "d5da37e9",
   "metadata": {},
   "outputs": [],
   "source": [
    "i=0    #intital point\n",
    "\n",
    "\n",
    "while i<=11:     #based on your i\n",
    "    print(i,end=' ')\n",
    "    print('hello')\n",
    "    \n",
    "    i=i+1        #=======increment"
   ]
  },
  {
   "cell_type": "code",
   "execution_count": null,
   "id": "85f5a52a",
   "metadata": {},
   "outputs": [],
   "source": [
    "#first give the initial point\n",
    "#next while<condition>:\n",
    "#print what ever you want\n",
    "#if we go to infinte loop go to square buttuon or restart the kernel"
   ]
  },
  {
   "cell_type": "markdown",
   "id": "1dc1c1fa",
   "metadata": {},
   "source": [
    "# sample"
   ]
  },
  {
   "cell_type": "code",
   "execution_count": null,
   "id": "e7ad20c4",
   "metadata": {},
   "outputs": [],
   "source": [
    "for i in range(10):\n",
    "    print(i,end=' ')\n",
    "    \n",
    "#intial point i=0\n",
    "#incremnt = i+1"
   ]
  },
  {
   "cell_type": "code",
   "execution_count": null,
   "id": "c0a0cd07",
   "metadata": {},
   "outputs": [],
   "source": [
    "i=0\n",
    "\n",
    "while i<=10:\n",
    "    #what ever we write in for loop we will represent it\n",
    "    print(i,end=' ')\n",
    "    \n",
    "    i=i+1"
   ]
  },
  {
   "cell_type": "markdown",
   "id": "ffcaa7ab",
   "metadata": {},
   "source": [
    "# 1"
   ]
  },
  {
   "cell_type": "code",
   "execution_count": null,
   "id": "3046d8c6",
   "metadata": {},
   "outputs": [],
   "source": [
    "for i in range(-1,-11,-1):\n",
    "    print(i,end=' ')\n",
    "    \n",
    "    \n",
    "#this will show negative point    "
   ]
  },
  {
   "cell_type": "code",
   "execution_count": null,
   "id": "482b3810",
   "metadata": {},
   "outputs": [],
   "source": [
    "i=-1   \n",
    "\n",
    "\n",
    "while i>=-10:    \n",
    "    print(i,end=' ')\n",
    "    \n",
    "    i=i-1 "
   ]
  },
  {
   "cell_type": "markdown",
   "id": "f86fa918",
   "metadata": {},
   "source": [
    "# 2"
   ]
  },
  {
   "cell_type": "code",
   "execution_count": null,
   "id": "35dc9d04",
   "metadata": {},
   "outputs": [],
   "source": [
    "for i in range(-10,0,1):\n",
    "    print(i,end=' ')"
   ]
  },
  {
   "cell_type": "code",
   "execution_count": null,
   "id": "6e405c94",
   "metadata": {},
   "outputs": [],
   "source": [
    "i=-10    \n",
    "\n",
    "\n",
    "while i<=-1:    \n",
    "    print(i,end=' ')\n",
    "    \n",
    "    i=i+1 "
   ]
  },
  {
   "cell_type": "markdown",
   "id": "d77e2b88",
   "metadata": {},
   "source": [
    "# 3"
   ]
  },
  {
   "cell_type": "code",
   "execution_count": null,
   "id": "31fe86cf",
   "metadata": {},
   "outputs": [],
   "source": [
    "for i in range(10,-1,-1):\n",
    "    print(i,end=' ')"
   ]
  },
  {
   "cell_type": "code",
   "execution_count": null,
   "id": "3a6a6216",
   "metadata": {},
   "outputs": [],
   "source": [
    "i=10    \n",
    "\n",
    "\n",
    "while i>=0:    \n",
    "    print(i,end=' ')\n",
    "    \n",
    "    i=i-1 "
   ]
  },
  {
   "cell_type": "code",
   "execution_count": null,
   "id": "0ab2f4b2",
   "metadata": {},
   "outputs": [],
   "source": [
    "i=0\n",
    "while i>=0:\n",
    "    print(i,end=' ')\n",
    "    i=i+1\n",
    "    if i==10:\n",
    "        break\n",
    "        \n",
    "#if we remove the last two lines it will become an infinte loop        "
   ]
  },
  {
   "cell_type": "code",
   "execution_count": null,
   "id": "0cc35d76",
   "metadata": {},
   "outputs": [],
   "source": [
    "i=0\n",
    "while i>=0:\n",
    "    print(i,end=' ')\n",
    "    i=i+1\n",
    "    if i==3:\n",
    "        break\n",
    "   \n",
    "#st1 : i=0    0>=0   t p(0)      i=0+1=1     1==3 f it will not break\n",
    "\n",
    "\n",
    "#st4 : i=3    3>=0   t p(3)     i=3+1=4      4==3 f it will break  \n"
   ]
  },
  {
   "cell_type": "code",
   "execution_count": null,
   "id": "a955c2fc",
   "metadata": {},
   "outputs": [],
   "source": [
    "i=0\n",
    "while i<=3:\n",
    "    print(i,end=' ')\n",
    "    i=i+1                    #right condition\n",
    "        "
   ]
  },
  {
   "cell_type": "code",
   "execution_count": null,
   "id": "d7b4cf6a",
   "metadata": {},
   "outputs": [],
   "source": [
    "#while is a open gate function\n",
    "#inorder to stop this loop we need to apply the condition\n",
    "i=0\n",
    "\n",
    "while i<=3:#if we dont know thw conditon\n",
    "                  #we can consider it as true\n",
    "    print(i,end=' ')\n",
    "    i+=1         #can also be writen as i=i+1\n",
    "    if i==4:\n",
    "        break   #wrong conditon\n",
    "    print('hello') \n",
    "    print(3+5)   #for 3 hello is not coomin and 8 is not commin\n",
    "    \n",
    "    #condition to stop the loop 4==4\n",
    "        \n",
    "#st 1 i=o  0>=0  t p(0)  0==3  f         "
   ]
  },
  {
   "cell_type": "code",
   "execution_count": null,
   "id": "687c0850",
   "metadata": {},
   "outputs": [],
   "source": [
    "i=0\n",
    "while True:\n",
    "    print(i,end=' ')            #no condition\n",
    "    i+=1\n",
    "    if i==4:\n",
    "        break"
   ]
  },
  {
   "cell_type": "code",
   "execution_count": null,
   "id": "55b835d9",
   "metadata": {},
   "outputs": [],
   "source": [
    "#wap ask the user get 10 random numbers print \n",
    "#it is even number or odd number\n",
    "\n",
    "#first write for loop the implement in while loop"
   ]
  },
  {
   "cell_type": "code",
   "execution_count": null,
   "id": "b7e28abd",
   "metadata": {},
   "outputs": [],
   "source": [
    "import random\n",
    "for i in range(1,10):\n",
    "    n=random.randint(1,100)\n",
    "    if n%2==0:\n",
    "        print('{} is a even number'.format(n))\n",
    "    else:\n",
    "        print('{} is a odd number'.format(n))"
   ]
  },
  {
   "cell_type": "code",
   "execution_count": null,
   "id": "1327f475",
   "metadata": {},
   "outputs": [],
   "source": [
    "import random\n",
    "i=0\n",
    "while True:\n",
    "    n=random.randint(1,100)\n",
    "    if n%2==0:\n",
    "        print('{} is a even number'.format(n))\n",
    "    else:\n",
    "        print('{} is a odd number'.format(n))\n",
    "         \n",
    "    i=i+1\n",
    "    if i==10:\n",
    "        break"
   ]
  },
  {
   "cell_type": "code",
   "execution_count": null,
   "id": "6e9afde0",
   "metadata": {},
   "outputs": [],
   "source": [
    "#wap ask the user enter a number get a square of the number\n",
    "#these task u need to do 3 times\n",
    "#n=eval('enter a number')\n",
    "#print('the square of {} is {}'.format(n,n*n))\n",
    "\n",
    "#for loop\n",
    "#while loop"
   ]
  },
  {
   "cell_type": "code",
   "execution_count": null,
   "id": "a0a59307",
   "metadata": {},
   "outputs": [],
   "source": [
    "for i in range(3):\n",
    "    n=eval(input('enter the number:'))\n",
    "    print('the square of {} is {}'.format(n,n*n))\n",
    "    "
   ]
  },
  {
   "cell_type": "code",
   "execution_count": null,
   "id": "9c341378",
   "metadata": {},
   "outputs": [],
   "source": [
    "i=0\n",
    "while i<=2:\n",
    "    n=eval(input('enter the number:'))\n",
    "    print('the square of {} is {}'.format(n,n*n))\n",
    "    i=i+1\n",
    "    \n",
    "    "
   ]
  },
  {
   "cell_type": "markdown",
   "id": "ebade0eb",
   "metadata": {},
   "source": [
    "# package name time"
   ]
  },
  {
   "cell_type": "code",
   "execution_count": null,
   "id": "c23140c7",
   "metadata": {},
   "outputs": [],
   "source": [
    "#this package is used for this\n",
    "#it is used to calculate the time that taekn to calculate this code\n",
    "#by sub start-end (format)\n",
    "#start =tiem.time()\n",
    "#end=time.time()\n",
    "#it will calculate the time that taken to type ur code"
   ]
  },
  {
   "cell_type": "code",
   "execution_count": null,
   "id": "a1926087",
   "metadata": {},
   "outputs": [],
   "source": [
    "import time\n",
    "start=time.time()\n",
    "for i in range(3):\n",
    "    n=eval(input('enter the number:'))\n",
    "    print('the square of {} is {}'.format(n,n*n))\n",
    "end=time.time()\n",
    "print('time taken in sec is:',end-start)"
   ]
  },
  {
   "cell_type": "code",
   "execution_count": null,
   "id": "224988b9",
   "metadata": {},
   "outputs": [],
   "source": [
    "start=time.time\n",
    "import time\n",
    "start=time.time()\n",
    "for i in range(3):\n",
    "    n=eval(input('enter the number:'))\n",
    "    print('the square of {} is {}'.format(n,n*n))\n",
    "end=time.time()\n",
    "print('time taken in sec is:',end-start)"
   ]
  },
  {
   "cell_type": "markdown",
   "id": "8348085e",
   "metadata": {},
   "source": [
    "# time.sleep"
   ]
  },
  {
   "cell_type": "code",
   "execution_count": null,
   "id": "32ecf66a",
   "metadata": {},
   "outputs": [],
   "source": [
    "print('hi')\n",
    "time.sleep(2)\n",
    "print('hello')\n",
    "time.sleep(3)\n",
    "n=eval(input('enter a number:'))\n",
    "\n",
    "\n",
    "#if u want to delay the time \n",
    "#u need to ude this code that \n",
    "#time.sleep()\n",
    "#it is used for the conversations like in chat bots \n",
    "#if u want convert into min u need to divide it by 60"
   ]
  },
  {
   "cell_type": "code",
   "execution_count": null,
   "id": "e511176c",
   "metadata": {},
   "outputs": [],
   "source": [
    "#wap ask the user print some of 10 natural numbers"
   ]
  },
  {
   "cell_type": "code",
   "execution_count": null,
   "id": "4eac5d35",
   "metadata": {},
   "outputs": [],
   "source": [
    "sum1=0\n",
    "for i in range(1,11):\n",
    "    sum1=sum1+i\n",
    "sum1       "
   ]
  },
  {
   "cell_type": "code",
   "execution_count": null,
   "id": "a918cc23",
   "metadata": {},
   "outputs": [],
   "source": [
    "i=1\n",
    "sum1=0\n",
    "while i<=10:\n",
    "    sum1=sum1+i\n",
    "    i+=1\n",
    "print(sum1)    "
   ]
  },
  {
   "cell_type": "markdown",
   "id": "68bace06",
   "metadata": {},
   "source": [
    "# summary of the basics"
   ]
  },
  {
   "cell_type": "code",
   "execution_count": null,
   "id": "6b314017",
   "metadata": {},
   "outputs": [],
   "source": [
    "#variables\n",
    "#print\n",
    "#data types\n",
    "#type casting\n",
    "#end\n",
    "#input\n",
    "#packages info\n",
    "#random,math\n",
    "#basic codes(2 assig)\n",
    "#many class room questions\n",
    "#we learn about conditions if,elif,esle\n",
    "#try-exception\n",
    "#functions\n",
    "#loops\n",
    "#for range in operator\n",
    "#ascii\n",
    "#string package\n",
    "#while loop"
   ]
  },
  {
   "cell_type": "code",
   "execution_count": null,
   "id": "18c5da3c",
   "metadata": {},
   "outputs": [],
   "source": [
    "#wap ask the user enter a password \n",
    "#if the password==='python':\n",
    "#print('you are in')\n",
    "#else print('you are out')\n",
    "#u need to provide 3 chances to user \n",
    "#if he success first time the loop should stop\n",
    "#if he fails again u need to display how many chances are left \n",
    "#as well as u need the ask the user enter password\n",
    "#password='python'\n",
    "#===============unlimited chances till you give the correct password\n",
    "#while:\n",
    "#user_pwd=input('enter ped')\n",
    "#if pwd=user_pwd\n",
    "#print('you won')\n",
    "#else:\n",
    "#print('the pwd is wrong')"
   ]
  },
  {
   "cell_type": "code",
   "execution_count": null,
   "id": "d68b5212",
   "metadata": {},
   "outputs": [],
   "source": [
    "password='python'\n",
    "i=0\n",
    "chance=eval(input('enter the number of chances:'))\n",
    "for i in range(chance):\n",
    "        user_psw=input('enter password:')\n",
    "        if password==user_psw:\n",
    "            print('you won')\n",
    "            break\n",
    "        else:\n",
    "            print('the password is wrong')\n",
    "            print('you have {} chances left'.format(chance-1-i))\n",
    "        \n",
    "        \n",
    "if chance-1==i:\n",
    "        print('you have 0 chances better luck next time')        "
   ]
  },
  {
   "cell_type": "code",
   "execution_count": null,
   "id": "74f4abf6",
   "metadata": {},
   "outputs": [],
   "source": [
    "password='python'\n",
    "i=0\n",
    "while True:\n",
    "    user_psw=input('enter password:')\n",
    "    if password==user_psw:\n",
    "        print('you won')\n",
    "        break\n",
    "    else:\n",
    "        print('the password is wrong')"
   ]
  },
  {
   "cell_type": "code",
   "execution_count": null,
   "id": "86d1ab2d",
   "metadata": {},
   "outputs": [],
   "source": [
    "password='python'\n",
    "i=0\n",
    "while i<=3:\n",
    "    user_psw=input('enter password:')\n",
    "    if password==user_psw:\n",
    "        print('you won')\n",
    "        break\n",
    "    else:\n",
    "        print('the password is wrong')\n",
    "i=i+1        "
   ]
  },
  {
   "cell_type": "code",
   "execution_count": null,
   "id": "f9c1d24f",
   "metadata": {},
   "outputs": [],
   "source": [
    "import random\n",
    "import time\n",
    "start=time.time()\n",
    "n=random.randint(1,10)\n",
    "print(n)\n",
    "i=0\n",
    "while True:\n",
    "    n1=eval(input('enter the number:'))\n",
    "    if n==n1:\n",
    "        print('you got it!!!')\n",
    "        break\n",
    "end=time.time()\n",
    "print('you got this answer in',end-start)         "
   ]
  },
  {
   "cell_type": "code",
   "execution_count": null,
   "id": "da424fcf",
   "metadata": {},
   "outputs": [],
   "source": [
    "import random\n",
    "import time\n",
    "start=time.time()\n",
    "n=random.randint(1,10)\n",
    "print(n)\n",
    "i=0\n",
    "while i<=11:\n",
    "    n1=eval(input('enter the number:'))\n",
    "    if n==n1:\n",
    "        print('you got it!!!')\n",
    "        break\n",
    "end=time.time()\n",
    "print('you got this answer in',end-start) \n",
    "i=i+1"
   ]
  },
  {
   "cell_type": "code",
   "execution_count": null,
   "id": "7d988be1",
   "metadata": {},
   "outputs": [],
   "source": [
    "#wap\n",
    "#i want to play a game\n",
    "#the ticket is 1k rs\n",
    "#but if we have less than 1k\n",
    "#ur money is less than 1k u need the get the money from evalet\n"
   ]
  },
  {
   "cell_type": "code",
   "execution_count": null,
   "id": "0db67924",
   "metadata": {},
   "outputs": [],
   "source": [
    "n=eval(input('place your money:'))\n",
    "if n==1000:\n",
    "    print('Here is your ticket')\n",
    "    print('Thank you come again!')\n",
    "else:\n",
    "    print('you need more moey to but this ticket')\n",
    "    i=0\n",
    "    while i<=1000:\n",
    "        n1=eval(input('place your money:'))\n",
    "        total=n+n1\n",
    "        print('you have {}rs'.format(total))\n",
    "        i=i+1\n",
    "        if total==1000:\n",
    "            print('Here is your ticket')\n",
    "            print('Thank you come again!')\n",
    "            break"
   ]
  },
  {
   "cell_type": "code",
   "execution_count": null,
   "id": "d0cd3ead",
   "metadata": {},
   "outputs": [],
   "source": [
    "#syntax\n",
    "#basic pythn\n",
    "#condition\n",
    "#function\n",
    "#loop\n",
    "\n",
    "\n",
    "\n",
    "#string\n",
    "#list\n",
    "#dic\n",
    "#tuple\n",
    "#sets\n",
    "#file handling"
   ]
  },
  {
   "cell_type": "markdown",
   "id": "0e2e30cd",
   "metadata": {},
   "source": [
    "# string"
   ]
  },
  {
   "cell_type": "code",
   "execution_count": null,
   "id": "1f14c419",
   "metadata": {},
   "outputs": [],
   "source": [
    "name='python'\n",
    "type(name)"
   ]
  },
  {
   "cell_type": "code",
   "execution_count": null,
   "id": "0c2e0090",
   "metadata": {},
   "outputs": [],
   "source": [
    "name"
   ]
  },
  {
   "cell_type": "code",
   "execution_count": null,
   "id": "5e39d660",
   "metadata": {},
   "outputs": [],
   "source": [
    "name1='python'\n",
    "name1"
   ]
  },
  {
   "cell_type": "code",
   "execution_count": null,
   "id": "b9fcc8c0",
   "metadata": {},
   "outputs": [],
   "source": [
    "print(name)"
   ]
  },
  {
   "cell_type": "code",
   "execution_count": null,
   "id": "0934995b",
   "metadata": {},
   "outputs": [],
   "source": [
    "#doc string:triple quotes\n",
    "#multilple  lines\n",
    "#in jupyter:markdown\n",
    "#vscode\n",
    "#pycham\n",
    "#we use doc string to write the story becoz \n",
    "#we dont have markdown to write the story"
   ]
  },
  {
   "cell_type": "code",
   "execution_count": null,
   "id": "554fad10",
   "metadata": {},
   "outputs": [],
   "source": [
    "#to highlight the word \n",
    "#the entirestring will be in single code and the highlited in double quotes\n",
    "#the entirestring will be in double code and the highlited in single quotes"
   ]
  },
  {
   "cell_type": "code",
   "execution_count": null,
   "id": "680d978b",
   "metadata": {},
   "outputs": [],
   "source": [
    "string1='python'\n",
    "string2=string1   #python\n",
    "string3='hello'   \n",
    "string4=string3   #hello\n",
    "string4=string1   #python\n",
    "string4=string2   #python\n",
    "string4=string4   #python\n",
    "string5=string4   #python\n",
    "string5"
   ]
  },
  {
   "cell_type": "markdown",
   "id": "c69e471d",
   "metadata": {},
   "source": [
    "# operators in string"
   ]
  },
  {
   "cell_type": "code",
   "execution_count": null,
   "id": "7fc7e6b1",
   "metadata": {},
   "outputs": [],
   "source": [
    "-type\n",
    "-len\n",
    "-max\n",
    "-min"
   ]
  },
  {
   "cell_type": "code",
   "execution_count": null,
   "id": "f2a9e7d9",
   "metadata": {},
   "outputs": [],
   "source": [
    "string1='python'\n",
    "type(string1)"
   ]
  },
  {
   "cell_type": "code",
   "execution_count": null,
   "id": "e221de24",
   "metadata": {},
   "outputs": [],
   "source": [
    "len(string1)\n",
    "#p y t h o n"
   ]
  },
  {
   "cell_type": "code",
   "execution_count": null,
   "id": "feb50d9b",
   "metadata": {},
   "outputs": [],
   "source": [
    "max(string1)"
   ]
  },
  {
   "cell_type": "code",
   "execution_count": null,
   "id": "302f3833",
   "metadata": {},
   "outputs": [],
   "source": [
    "min(string1)"
   ]
  },
  {
   "cell_type": "code",
   "execution_count": null,
   "id": "24795913",
   "metadata": {},
   "outputs": [],
   "source": [
    "#in operator"
   ]
  },
  {
   "cell_type": "code",
   "execution_count": null,
   "id": "3d45c18b",
   "metadata": {},
   "outputs": [],
   "source": [
    "#iterate a loop on string 1\n",
    "#print each letter\n",
    "#get the ascii value"
   ]
  },
  {
   "cell_type": "code",
   "execution_count": null,
   "id": "8d5ada4c",
   "metadata": {},
   "outputs": [],
   "source": [
    "'p' in 'python'\n",
    "'y' in 'python'\n",
    "'t' in 'python'\n",
    "'h' in 'python'\n",
    "'o' in 'python'\n",
    "'n' in 'python'"
   ]
  },
  {
   "cell_type": "code",
   "execution_count": null,
   "id": "8e9f8e81",
   "metadata": {},
   "outputs": [],
   "source": [
    "for i in 'python':\n",
    "    print(i,ord(i))"
   ]
  },
  {
   "cell_type": "code",
   "execution_count": null,
   "id": "36df0842",
   "metadata": {},
   "outputs": [],
   "source": [
    "string1='hi'\n",
    "string2='python'"
   ]
  },
  {
   "cell_type": "code",
   "execution_count": null,
   "id": "d938d7ab",
   "metadata": {},
   "outputs": [],
   "source": [
    "string1+string2\n",
    "\n",
    "\n",
    "#string concatination"
   ]
  },
  {
   "cell_type": "code",
   "execution_count": null,
   "id": "c94ce84d",
   "metadata": {},
   "outputs": [],
   "source": [
    "string1-string2\n",
    "\n",
    "#unsupported operand type ERROR\n",
    "#i cant do str-str meaning of that ERROR"
   ]
  },
  {
   "cell_type": "code",
   "execution_count": null,
   "id": "06fcc525",
   "metadata": {},
   "outputs": [],
   "source": [
    "string1*string2\n",
    "\n",
    "#non-int type is the error mul\n",
    "#it can be done by cahnging anyone of the str\n",
    "#change anyone into int we can do it"
   ]
  },
  {
   "cell_type": "code",
   "execution_count": null,
   "id": "4ffdb2b4",
   "metadata": {},
   "outputs": [],
   "source": [
    "string1/string2\n",
    "\n",
    "#unsupported operand type\n",
    "#i cant do division meaning of the ERROR"
   ]
  },
  {
   "cell_type": "markdown",
   "id": "17178eda",
   "metadata": {},
   "source": [
    "# quick recall on string"
   ]
  },
  {
   "cell_type": "code",
   "execution_count": null,
   "id": "219e74fa",
   "metadata": {},
   "outputs": [],
   "source": [
    "# how to read the string\n",
    "# single/double/tripe codes\n",
    "# triple: docstring\n",
    "# type\n",
    "# len\n",
    "# max\n",
    "# min\n",
    "# concatenation(addition of strings)\n",
    "# index operations\n",
    "#arthemetic operation\n",
    "# + ;concatination\n",
    "# -\n",
    "# *\n",
    "# /\n",
    "# index operations\n",
    "# how to itratr the letters by using for loop range\n",
    "# using while loop\n",
    "# +/- index cobined\n",
    "# counter prgm\n",
    "# index of 'a'\n",
    "# no.of vowles,and unique vowels"
   ]
  },
  {
   "cell_type": "code",
   "execution_count": null,
   "id": "34fc8044",
   "metadata": {},
   "outputs": [],
   "source": [
    "string1='hello'\n",
    "string2='python'"
   ]
  },
  {
   "cell_type": "code",
   "execution_count": null,
   "id": "c4bb3d73",
   "metadata": {},
   "outputs": [],
   "source": [
    "2*string1"
   ]
  },
  {
   "cell_type": "markdown",
   "id": "d55e645c",
   "metadata": {},
   "source": [
    "# indexing"
   ]
  },
  {
   "cell_type": "code",
   "execution_count": null,
   "id": "39ac3dca",
   "metadata": {},
   "outputs": [],
   "source": [
    "name='python'\n",
    "#homw many letters are there:6\n",
    "#python index start with:0\n",
    "p  y  t  h  o  n\n",
    "0  1  2  3  4  5"
   ]
  },
  {
   "cell_type": "code",
   "execution_count": null,
   "id": "62952267",
   "metadata": {},
   "outputs": [],
   "source": [
    "name[0]    #'p'\n",
    "name[1]    #'y'\n",
    "name[2]    #'t'\n",
    "name[3]    #'h'\n",
    "name[4]    #'o'\n",
    "name[5]    #'n'\n",
    "\n",
    "name[i]"
   ]
  },
  {
   "cell_type": "code",
   "execution_count": null,
   "id": "3786b629",
   "metadata": {},
   "outputs": [],
   "source": [
    "for i in range(6):print(i,end=' ')"
   ]
  },
  {
   "cell_type": "markdown",
   "id": "bf9e3a7b",
   "metadata": {},
   "source": [
    "# how to print any word/sentence by using range method"
   ]
  },
  {
   "cell_type": "code",
   "execution_count": null,
   "id": "b6f89ad7",
   "metadata": {},
   "outputs": [],
   "source": [
    "for i in range(6):print(name[i]) \n",
    "    #iter1:  i=0   name[0]  p\n",
    "    #iter2   i=1   name[1]  y\n",
    "    #iter3   i=2   name[2]  t"
   ]
  },
  {
   "cell_type": "code",
   "execution_count": null,
   "id": "01b394de",
   "metadata": {},
   "outputs": [],
   "source": [
    "name='python'\n",
    "for i in range(6):\n",
    "    print(name[i])    #by mistake u print 7  it will show the output but \n",
    "                      #then it will show error\n",
    "      "
   ]
  },
  {
   "cell_type": "markdown",
   "id": "fe0b9db1",
   "metadata": {},
   "source": [
    "# types of error"
   ]
  },
  {
   "cell_type": "code",
   "execution_count": null,
   "id": "8349e8a2",
   "metadata": {},
   "outputs": [],
   "source": [
    "#string index out of range is the error this is index error\n",
    "#"
   ]
  },
  {
   "cell_type": "code",
   "execution_count": null,
   "id": "95fd86d4",
   "metadata": {},
   "outputs": [],
   "source": [
    "name1='hello how are you'\n",
    "print(len(name1))\n",
    "#i need to provide some number\n",
    "for i in range(len(name1)):\n",
    "    print(i,end=' ')"
   ]
  },
  {
   "cell_type": "code",
   "execution_count": null,
   "id": "df6a162e",
   "metadata": {},
   "outputs": [],
   "source": [
    "name1='hello how are you'\n",
    "print(len(name1))\n",
    "#i need to provide some number\n",
    "for i in range(len(name1)):\n",
    "    print(name1[i],end=' ')\n",
    "#een space is also consider as a index    "
   ]
  },
  {
   "cell_type": "code",
   "execution_count": null,
   "id": "d444727f",
   "metadata": {},
   "outputs": [],
   "source": [
    "#wap ask the user print the letters from a given word using \n",
    "#for loop \n",
    "#'the index of p is:0'\n",
    "#'the indes of y is:1'\n",
    "#i want letter as well as attached index number"
   ]
  },
  {
   "cell_type": "code",
   "execution_count": null,
   "id": "0b9e19ab",
   "metadata": {},
   "outputs": [],
   "source": [
    "name2='python'\n",
    "for i in range(6):\n",
    "    print('the index of {} is {}'.format(name2[i],i))                     "
   ]
  },
  {
   "cell_type": "code",
   "execution_count": null,
   "id": "28a686ec",
   "metadata": {},
   "outputs": [],
   "source": [
    "name2='python'\n",
    "i=0\n",
    "while i<len(name2):\n",
    "    print('the index of {} is {}'.format(name2[i],i))\n",
    "    i=i+1\n",
    "    "
   ]
  },
  {
   "cell_type": "code",
   "execution_count": null,
   "id": "fd9a8da6",
   "metadata": {},
   "outputs": [],
   "source": [
    "#ramper for while loop is\n",
    "i=0\n",
    "\n",
    "while<condition>\n",
    "\n",
    "\n",
    "i+=1"
   ]
  },
  {
   "cell_type": "code",
   "execution_count": null,
   "id": "f27feca7",
   "metadata": {},
   "outputs": [],
   "source": [
    "-6 -5 -4 -3 -2 -1\n",
    "p  y  t  h  o  n \n",
    "0  1  2  3  4  5=========> positive index"
   ]
  },
  {
   "cell_type": "code",
   "execution_count": null,
   "id": "1aaf624c",
   "metadata": {},
   "outputs": [],
   "source": [
    "name3='python'\n",
    "name3[-6]"
   ]
  },
  {
   "cell_type": "code",
   "execution_count": null,
   "id": "b0d59f89",
   "metadata": {},
   "outputs": [],
   "source": [
    "#wap ask the user print the letters from a given word using \n",
    "#for loop \n",
    "#'the negative index of p is:-6'\n",
    "#the negative index of y is :-5\n",
    "#i want letter as well as attached index number"
   ]
  },
  {
   "cell_type": "code",
   "execution_count": null,
   "id": "6a2dd80c",
   "metadata": {},
   "outputs": [],
   "source": [
    "name3='python'\n",
    "print(len(name3))\n",
    "for i in range(-6,0):\n",
    "    print('the index of {} is {}'.format(name3[i],i))                     \n",
    "    "
   ]
  },
  {
   "cell_type": "code",
   "execution_count": null,
   "id": "f530d7ed",
   "metadata": {},
   "outputs": [],
   "source": [
    "name2='python'\n",
    "i=-6\n",
    "while i<=(-1):\n",
    "    print('the negative index of {} is {}'.format(name2[i],i))\n",
    "    i=i+1\n",
    "    "
   ]
  },
  {
   "cell_type": "code",
   "execution_count": null,
   "id": "208a03b3",
   "metadata": {},
   "outputs": [],
   "source": [
    "name3='python'\n",
    "for i in range(-6,0):\n",
    "    print(i-len(name3))                     \n",
    "    "
   ]
  },
  {
   "cell_type": "code",
   "execution_count": null,
   "id": "bfe42c50",
   "metadata": {},
   "outputs": [],
   "source": [
    "name3='python'\n",
    "for i in range(-6,0):\n",
    "    print('the index of {} is {}'.format(name3[i],i-len(name3)))                     \n",
    "    "
   ]
  },
  {
   "cell_type": "code",
   "execution_count": null,
   "id": "4cc53d52",
   "metadata": {},
   "outputs": [],
   "source": [
    "'the postive index is 0 and negative index is -6 for p'\n",
    "'the postive index is 1 and negative index is -5 for y'"
   ]
  },
  {
   "cell_type": "code",
   "execution_count": null,
   "id": "f3b21339",
   "metadata": {},
   "outputs": [],
   "source": [
    "name3='python'\n",
    "for i in range(len(name3)):\n",
    "    print('the postive index is {} and negative index is {} for {}'.format(i,i-len(name3),name3[i-len(name3)]))                     "
   ]
  },
  {
   "cell_type": "code",
   "execution_count": null,
   "id": "cbb4d155",
   "metadata": {},
   "outputs": [],
   "source": [
    "for i in range(len(name3)):\n",
    "    print(i,name3[i],i-len(name3))"
   ]
  },
  {
   "cell_type": "code",
   "execution_count": null,
   "id": "491c7562",
   "metadata": {},
   "outputs": [],
   "source": [
    "sent='hai how are you'\n",
    "#print how many 'a' are there :3\n",
    "#count=0\n",
    "#iterate the letter throuh for loop\n",
    "#apply if condition letter=='a'\n",
    "#print the index of 'a' :\n",
    "#print the no of unique 'a' :1\n",
    "#print the number of vovel:a e i o u"
   ]
  },
  {
   "cell_type": "code",
   "execution_count": null,
   "id": "af829d50",
   "metadata": {},
   "outputs": [],
   "source": [
    "sent='hai how are you'\n",
    "for i in range(len(sent)):\n",
    "    print(sent[i])\n",
    "    if sent[i]=='a':\n",
    "        count=count+1\n",
    "print('the no.of a are',count)\n",
    "\n",
    "#st1 :i=0  sent[0]='h'  'h'==a\n",
    "#st2 :i=1  sent[1]='a'  'a'==a"
   ]
  },
  {
   "cell_type": "markdown",
   "id": "c51d429a",
   "metadata": {},
   "source": [
    "# letter a index"
   ]
  },
  {
   "cell_type": "code",
   "execution_count": null,
   "id": "007c8dc1",
   "metadata": {},
   "outputs": [],
   "source": [
    "sent='hai how are you'\n",
    "count=0\n",
    "for i in range(len(sent)):\n",
    "    if sent[i]=='a':\n",
    "        count=count+1\n",
    "        print(i)\n",
    "print('the no.of a are',count)\n"
   ]
  },
  {
   "cell_type": "markdown",
   "id": "96641f04",
   "metadata": {},
   "source": [
    "# aeiou owles"
   ]
  },
  {
   "cell_type": "code",
   "execution_count": null,
   "id": "3703b255",
   "metadata": {},
   "outputs": [],
   "source": [
    "sent='hai how are you'\n",
    "count=0\n",
    "for i in range(len(sent)):\n",
    "    if sent[i] in'aeiou':\n",
    "        count=count+1\n",
    "        print(i)\n",
    "print('the no.of a are',count)\n"
   ]
  },
  {
   "cell_type": "code",
   "execution_count": null,
   "id": "bbca8d0e",
   "metadata": {},
   "outputs": [],
   "source": [
    "#unique owel"
   ]
  },
  {
   "cell_type": "code",
   "execution_count": null,
   "id": "1c100091",
   "metadata": {},
   "outputs": [],
   "source": [
    "#take an empty string\n",
    "#string1=''\n",
    "#iterate through loop\n",
    "#if 'h' in 'aeiou':\n",
    "#    if'a' not in string1\n",
    "#        string1=string1+'a'#strinf1='a'"
   ]
  },
  {
   "cell_type": "code",
   "execution_count": null,
   "id": "ce84d1d8",
   "metadata": {},
   "outputs": [],
   "source": [
    "#check two conditon paralley\n",
    "#the given letter is in 'aeiou'\n",
    "#if that is true check about same letter it is there in empyt string\n",
    "#if it is not move to empty string\n",
    "#if it is there dont move it"
   ]
  },
  {
   "cell_type": "code",
   "execution_count": null,
   "id": "9a0e8f11",
   "metadata": {},
   "outputs": [],
   "source": [
    "string1='hai hai how are you'\n",
    "count=0\n",
    "for i in range(len(string1)):\n",
    "    if string1[i] in 'aeiou':\n",
    "        count=count+1\n",
    "print('no of repeated vowels are:',count)    "
   ]
  },
  {
   "cell_type": "markdown",
   "id": "8009771e",
   "metadata": {},
   "source": [
    "# interview questions"
   ]
  },
  {
   "cell_type": "code",
   "execution_count": null,
   "id": "3b1bcc07",
   "metadata": {},
   "outputs": [],
   "source": [
    "#counter \n",
    "#index\n",
    "#aeiou\n",
    "#mutabiliy and imutability"
   ]
  },
  {
   "cell_type": "code",
   "execution_count": null,
   "id": "93d9b176",
   "metadata": {},
   "outputs": [],
   "source": [
    "#python and pyspark are both languages and \n",
    "#they both can run in jupyter note book\n",
    "#if you learn python u can easly learn pyspark"
   ]
  },
  {
   "cell_type": "markdown",
   "id": "bf1d37d8",
   "metadata": {},
   "source": [
    "# mutabiliy and imutability"
   ]
  },
  {
   "cell_type": "code",
   "execution_count": null,
   "id": "e5a643c2",
   "metadata": {},
   "outputs": [],
   "source": [
    "string1='python'"
   ]
  },
  {
   "cell_type": "code",
   "execution_count": null,
   "id": "cca15075",
   "metadata": {},
   "outputs": [],
   "source": [
    "#i want to replace 'p' with 'P'\n",
    "#mutability and imutability\n",
    "#based on index operation if you cahnge it or not\n",
    "#if u change the value by 'index operation' then it is mutable\n",
    "#if u could not change by 'index operation' then it iscalled as imutable"
   ]
  },
  {
   "cell_type": "code",
   "execution_count": null,
   "id": "914a7aee",
   "metadata": {},
   "outputs": [],
   "source": [
    "string1[0]='P'"
   ]
  },
  {
   "cell_type": "markdown",
   "id": "bdaab67b",
   "metadata": {},
   "source": [
    "# ERRORS"
   ]
  },
  {
   "cell_type": "code",
   "execution_count": null,
   "id": "937035e8",
   "metadata": {},
   "outputs": [],
   "source": [
    "#'str' object does not support item assignment\n",
    "#strings are immutable"
   ]
  },
  {
   "cell_type": "code",
   "execution_count": null,
   "id": "f36fd8e5",
   "metadata": {},
   "outputs": [],
   "source": [
    "list1=[10,20,30]"
   ]
  },
  {
   "cell_type": "code",
   "execution_count": null,
   "id": "41a98ad8",
   "metadata": {},
   "outputs": [],
   "source": [
    "list1[0]=100"
   ]
  },
  {
   "cell_type": "code",
   "execution_count": null,
   "id": "070bc477",
   "metadata": {},
   "outputs": [],
   "source": [
    "print(list1)"
   ]
  },
  {
   "cell_type": "code",
   "execution_count": null,
   "id": "ccd4a2ba",
   "metadata": {},
   "outputs": [],
   "source": [
    "#list are mutable \n",
    "#they can be changed"
   ]
  },
  {
   "cell_type": "markdown",
   "id": "12cfd4ee",
   "metadata": {},
   "source": [
    "# slicing"
   ]
  },
  {
   "cell_type": "code",
   "execution_count": null,
   "id": "23ed2521",
   "metadata": {},
   "outputs": [],
   "source": [
    "string1='hello how are you'"
   ]
  },
  {
   "cell_type": "code",
   "execution_count": null,
   "id": "2838dbe4",
   "metadata": {},
   "outputs": [],
   "source": [
    "#this concept is same as range function in for loop"
   ]
  },
  {
   "cell_type": "code",
   "execution_count": null,
   "id": "b7470252",
   "metadata": {},
   "outputs": [],
   "source": [
    "string1[0]"
   ]
  },
  {
   "cell_type": "code",
   "execution_count": null,
   "id": "8a04da8a",
   "metadata": {},
   "outputs": [],
   "source": [
    "-17-16 -15 -14 -13 -12 -11 -10  -9  -8  -7  -6 -5 -4 -3 -2 -1 \n",
    "h    e   l   l   o      h   o   w       a   r   e     y  o  u\n",
    "0    1   2   3   4   5  6   7   8   9  10  11  12  13 14 15 16"
   ]
  },
  {
   "cell_type": "code",
   "execution_count": null,
   "id": "02de89f5",
   "metadata": {},
   "outputs": [],
   "source": [
    "string1[2:10]\n",
    "#what is the direction:positive\n",
    "#start=2\n",
    "#stop=10-1=9"
   ]
  },
  {
   "cell_type": "code",
   "execution_count": null,
   "id": "431e74c9",
   "metadata": {},
   "outputs": [],
   "source": [
    "len(string1)"
   ]
  },
  {
   "cell_type": "code",
   "execution_count": null,
   "id": "7aca8c24",
   "metadata": {},
   "outputs": [],
   "source": [
    "string1[2:10]"
   ]
  },
  {
   "cell_type": "code",
   "execution_count": null,
   "id": "5681de3b",
   "metadata": {},
   "outputs": [],
   "source": [
    "string1[1:15:2]\n",
    "#start=1\n",
    "#stop=15-1=14\n",
    "#post:step=2\n",
    "#1  3  5  7  9  11  13\n",
    "#e  e     o     r"
   ]
  },
  {
   "cell_type": "code",
   "execution_count": null,
   "id": "e2a09f2c",
   "metadata": {},
   "outputs": [],
   "source": [
    "string1[1:15:-2]\n",
    "#start=1\n",
    "#stop=16\n",
    "#dir=-ve"
   ]
  },
  {
   "cell_type": "code",
   "execution_count": null,
   "id": "fdc30415",
   "metadata": {},
   "outputs": [],
   "source": [
    "string1[:]       #string(start:stop)\n",
    "#nothing is mention means \n",
    "#positive dir\n",
    "#start=0\n",
    "#stop=till last char"
   ]
  },
  {
   "cell_type": "code",
   "execution_count": null,
   "id": "3ba2365e",
   "metadata": {},
   "outputs": [],
   "source": [
    "string1[::]          #string1[start:stop:step]\n",
    "#string[0:last character:1]\n",
    "#nothing mention at start positio: simply starting the letter\n",
    "#nothing mentioned at stop position means simply ending of the last letter\n",
    "#noting mentioned at stped size means it is a positive dir \n",
    "#with step value +1"
   ]
  },
  {
   "cell_type": "code",
   "execution_count": null,
   "id": "b377ab4a",
   "metadata": {},
   "outputs": [],
   "source": [
    "string1[0:]\n",
    "string1[:len(string1)]\n",
    "string1[:]\n",
    "string1[::]\n",
    "#all are same answers"
   ]
  },
  {
   "cell_type": "code",
   "execution_count": null,
   "id": "680b0025",
   "metadata": {},
   "outputs": [],
   "source": [
    "print(string1[0:])\n",
    "print(string1[:len(string1)])\n",
    "print(string1[:])\n",
    "print(string1[::])"
   ]
  },
  {
   "cell_type": "code",
   "execution_count": null,
   "id": "2a58b296",
   "metadata": {},
   "outputs": [],
   "source": [
    "string1[-2:-15:-1]\n",
    "#start=-2\n",
    "#dir=-ve\n",
    "#stop=-15+1=14\n",
    "#possible"
   ]
  },
  {
   "cell_type": "code",
   "execution_count": null,
   "id": "57fe7df0",
   "metadata": {},
   "outputs": [],
   "source": [
    "string1[-15:-2:-1]\n",
    "#not possible\n",
    "#we cannot g back to frot"
   ]
  },
  {
   "cell_type": "code",
   "execution_count": null,
   "id": "5a6523eb",
   "metadata": {},
   "outputs": [],
   "source": [
    "string1[-15:-2:2]"
   ]
  },
  {
   "cell_type": "code",
   "execution_count": null,
   "id": "ea9ce1cd",
   "metadata": {},
   "outputs": [],
   "source": [
    "-17-16 -15 -14 -13 -12 -11 -10  -9  -8  -7  -6 -5 -4 -3 -2 -1 \n",
    "h    e   l   l   o      h   o   w       a   r   e     y  o  u\n",
    "0    1   2   3   4   5  6   7   8   9  10  11  12  13 14 15 16"
   ]
  },
  {
   "cell_type": "code",
   "execution_count": null,
   "id": "5ac4bd48",
   "metadata": {},
   "outputs": [],
   "source": [
    "string1[8:-15:-1]\n",
    "#w-l\n",
    "#it will work"
   ]
  },
  {
   "cell_type": "code",
   "execution_count": null,
   "id": "2f0f923e",
   "metadata": {},
   "outputs": [],
   "source": [
    "for i in range(8,-15,-1):print(i,end=' ')"
   ]
  },
  {
   "cell_type": "code",
   "execution_count": null,
   "id": "7677970c",
   "metadata": {},
   "outputs": [],
   "source": [
    "string1[8:-10:-1]\n",
    "#possible"
   ]
  },
  {
   "cell_type": "code",
   "execution_count": null,
   "id": "ecf7048d",
   "metadata": {},
   "outputs": [],
   "source": [
    "string1[8:-10:-2]\n",
    "#possible"
   ]
  },
  {
   "cell_type": "code",
   "execution_count": null,
   "id": "8674108a",
   "metadata": {},
   "outputs": [],
   "source": [
    "string1[-15:8:3]"
   ]
  },
  {
   "cell_type": "code",
   "execution_count": null,
   "id": "1b359fd2",
   "metadata": {},
   "outputs": [],
   "source": [
    "#if i want reverse the string\n",
    "string1[::1]\n",
    "#postive dir\n",
    "#start:start\n",
    "#stop:stop"
   ]
  },
  {
   "cell_type": "code",
   "execution_count": null,
   "id": "109bd0d7",
   "metadata": {},
   "outputs": [],
   "source": [
    "string1[::-1]\n",
    "#neg dir\n",
    "#start:u\n",
    "#stop:h"
   ]
  },
  {
   "cell_type": "markdown",
   "id": "d2bf1e2b",
   "metadata": {},
   "source": [
    "# string methods"
   ]
  },
  {
   "cell_type": "code",
   "execution_count": null,
   "id": "0513382a",
   "metadata": {},
   "outputs": [],
   "source": [
    "dir('name')"
   ]
  },
  {
   "cell_type": "markdown",
   "id": "d25b450a",
   "metadata": {},
   "source": [
    "# capitalize"
   ]
  },
  {
   "cell_type": "code",
   "execution_count": null,
   "id": "a02f0b34",
   "metadata": {},
   "outputs": [],
   "source": [
    "name='naresh it'"
   ]
  },
  {
   "cell_type": "code",
   "execution_count": null,
   "id": "b949b4a1",
   "metadata": {},
   "outputs": [],
   "source": [
    "help(name.capitalize)"
   ]
  },
  {
   "cell_type": "code",
   "execution_count": null,
   "id": "8a408e47",
   "metadata": {},
   "outputs": [],
   "source": [
    "name.capitalize()\n",
    "#it makes the first character upper case"
   ]
  },
  {
   "cell_type": "code",
   "execution_count": null,
   "id": "720d1beb",
   "metadata": {},
   "outputs": [],
   "source": [
    "name='make it'\n",
    "name.capitalize()"
   ]
  },
  {
   "cell_type": "code",
   "execution_count": null,
   "id": "48d56e0d",
   "metadata": {},
   "outputs": [],
   "source": [
    "#upper case\n",
    "name='yeah'\n",
    "help(name.upper)\n",
    "#it will convert the data into upper case the full data"
   ]
  },
  {
   "cell_type": "code",
   "execution_count": null,
   "id": "7d5a8977",
   "metadata": {},
   "outputs": [],
   "source": [
    "name.upper()\n",
    "#without brackets it will show that it is not a function u need to \n",
    "#keep the brackets"
   ]
  },
  {
   "cell_type": "code",
   "execution_count": null,
   "id": "73553aac",
   "metadata": {},
   "outputs": [],
   "source": [
    "#lower case\n",
    "name='YeAh'\n",
    "help(name.lower)"
   ]
  },
  {
   "cell_type": "code",
   "execution_count": null,
   "id": "d46d3761",
   "metadata": {},
   "outputs": [],
   "source": [
    "name.lower()\n",
    "#it will convert everything into lower case"
   ]
  },
  {
   "cell_type": "code",
   "execution_count": null,
   "id": "8aa13a2f",
   "metadata": {},
   "outputs": [],
   "source": [
    "name1='YeAh'\n",
    "print(name1.capitalize())\n",
    "print(name1.upper())\n",
    "print(name1.lower())"
   ]
  },
  {
   "cell_type": "markdown",
   "id": "fe87bc90",
   "metadata": {},
   "source": [
    "# casefold"
   ]
  },
  {
   "cell_type": "code",
   "execution_count": null,
   "id": "151879e3",
   "metadata": {},
   "outputs": [],
   "source": [
    "#casefold\n",
    "help(name.casefold)"
   ]
  },
  {
   "cell_type": "code",
   "execution_count": null,
   "id": "98b854a1",
   "metadata": {},
   "outputs": [],
   "source": [
    "name1='YeAh'\n",
    "name.casefold()\n",
    "#always convert it into small case no matter what the letter are\n",
    "#it is same as lower case"
   ]
  },
  {
   "cell_type": "code",
   "execution_count": null,
   "id": "5dcf524a",
   "metadata": {},
   "outputs": [],
   "source": [
    "string1='hello'\n",
    "#o/p: string1='Hello' without using string method"
   ]
  },
  {
   "cell_type": "markdown",
   "id": "ba3736eb",
   "metadata": {},
   "source": [
    "# interwie question"
   ]
  },
  {
   "cell_type": "code",
   "execution_count": null,
   "id": "caab8ba0",
   "metadata": {},
   "outputs": [],
   "source": [
    "string1='hello'\n",
    "string2='H'\n",
    "string3=string1[1:]\n",
    "string2+string3\n",
    "#strings are immutable\n",
    "#use slicing\n",
    "#concatination"
   ]
  },
  {
   "cell_type": "code",
   "execution_count": null,
   "id": "1390d0fb",
   "metadata": {},
   "outputs": [],
   "source": [
    "string='hello hai hoe are you'\n",
    "import time\n",
    "start=time.time()\n",
    "count=0\n",
    "for i in string:\n",
    "    if i=='h':\n",
    "        count+=1\n",
    "print(count) \n",
    "end=time.time()\n",
    "print(end-start)"
   ]
  },
  {
   "cell_type": "code",
   "execution_count": null,
   "id": "2f5e70d6",
   "metadata": {},
   "outputs": [],
   "source": [
    "string.count('h')"
   ]
  },
  {
   "cell_type": "code",
   "execution_count": null,
   "id": "dd54824c",
   "metadata": {},
   "outputs": [],
   "source": [
    "#for loop initilization ++ and --\n",
    "#it is defalut \n",
    "#for(start,stop,step:how much u want to pravel which dir u want to travel)\n",
    "#i while loop we will give those 3 values so it dont have this as default \n",
    "#i=0\n",
    "#while<condition>\n",
    "#i+1\n",
    "#this raper is equal to that single line in for loop"
   ]
  },
  {
   "cell_type": "code",
   "execution_count": null,
   "id": "1c12e6b2",
   "metadata": {},
   "outputs": [],
   "source": [
    "name='python'\n",
    "for i in name:\n",
    "    print(i)\n",
    "\n",
    "for i in range(len(name)):\n",
    "    print(i,name[i])\n",
    "#we will provide len becoz name is not a number \n",
    "#so to let it work we are using len\n",
    "#if u slove that 4 questions with in operator\n",
    "#range in "
   ]
  },
  {
   "cell_type": "code",
   "execution_count": null,
   "id": "67264647",
   "metadata": {},
   "outputs": [],
   "source": [
    "#Q1 how many 'a'\n",
    "#Q2 index of 'a'\n",
    "#Q3 no.of vowels in a given string\n",
    "#Q4 unique vowels"
   ]
  },
  {
   "cell_type": "code",
   "execution_count": null,
   "id": "12745e45",
   "metadata": {},
   "outputs": [],
   "source": [
    "#now we are in the count method"
   ]
  },
  {
   "cell_type": "code",
   "execution_count": null,
   "id": "342ebde0",
   "metadata": {},
   "outputs": [],
   "source": [
    "string1='HAI HAI hai hai'\n",
    "#how may h are there\n",
    "#if this method will give 'H' and 'h' combiney "
   ]
  },
  {
   "cell_type": "code",
   "execution_count": null,
   "id": "d3cd1eca",
   "metadata": {},
   "outputs": [],
   "source": [
    "string1.count('H')\n",
    "#it is canse sensitive"
   ]
  },
  {
   "cell_type": "code",
   "execution_count": null,
   "id": "9d9e335a",
   "metadata": {},
   "outputs": [],
   "source": [
    "string1.count('h')\n",
    "#capital is capital and small is small only"
   ]
  },
  {
   "cell_type": "code",
   "execution_count": null,
   "id": "bd6d2c21",
   "metadata": {},
   "outputs": [],
   "source": [
    "#wap convert above string into lowercase and count no.of 'h'\n",
    "#do by sing string methods and \n",
    "#do by usind without string methods (for loop and if condition)"
   ]
  },
  {
   "cell_type": "code",
   "execution_count": null,
   "id": "d6837f28",
   "metadata": {},
   "outputs": [],
   "source": [
    "string1='hai hai hai hai'\n",
    "string1.lower()\n",
    "print(string1)\n",
    "string1.count('h')\n",
    "# M-2\n",
    "#we can add both lower and count in the same string\n",
    "#string.lower().count()\n",
    "# M-3 \n",
    "#'HAI HAI hai hai'.lowe().count()\n",
    "#these two are same\n",
    "# M-4\n",
    "#'hai hai hai hai'.count('h')"
   ]
  },
  {
   "cell_type": "code",
   "execution_count": null,
   "id": "e29a562b",
   "metadata": {},
   "outputs": [],
   "source": [
    "string1='HAI HAI hai hai'\n",
    "count=0\n",
    "for i in string1:\n",
    "    #print(i)           # it is equal to H OR h\n",
    "    #both conditonas are checking at a time\n",
    "    if i=='h' or i=='H':     #or means any one condition is true\n",
    "        count=count+1        #end means both the condition should be true\n",
    "print(count)        \n"
   ]
  },
  {
   "cell_type": "code",
   "execution_count": null,
   "id": "96246367",
   "metadata": {},
   "outputs": [],
   "source": [
    "'A'=65+32 ======='a'=97"
   ]
  },
  {
   "cell_type": "code",
   "execution_count": null,
   "id": "46d2a812",
   "metadata": {},
   "outputs": [],
   "source": [
    "ord('A') #32"
   ]
  },
  {
   "cell_type": "code",
   "execution_count": null,
   "id": "d52d763a",
   "metadata": {},
   "outputs": [],
   "source": [
    "string1='HAI HAI hai hai'\n",
    "count=0\n",
    "for i in string1:\n",
    "    if i.lower()=='h':     \n",
    "        count=count+1        \n",
    "print(count)        \n",
    "#==========================================================\n",
    "string1='HAI HAI hai hai'\n",
    "count=0\n",
    "for i in string1.lower():\n",
    "    if i=='h':     \n",
    "        count=count+1        \n",
    "print(count) \n",
    "#============================================================\n",
    "string1='HAI HAI hai hai'\n",
    "count=0\n",
    "for i in range(len(string1)):\n",
    "    if string1[i].lower()=='h':     \n",
    "        count=count+1        \n",
    "print(count) "
   ]
  },
  {
   "cell_type": "code",
   "execution_count": null,
   "id": "089bf168",
   "metadata": {},
   "outputs": [],
   "source": [
    "#if u use range function on string\n",
    "#use index method\n",
    "#i u use in operator on string:direct"
   ]
  },
  {
   "cell_type": "code",
   "execution_count": null,
   "id": "9a1164f7",
   "metadata": {},
   "outputs": [],
   "source": [
    "string2='ola ola ola ola'\n",
    "string2.count('ola')\n",
    "#========================================\n",
    "tring2='ola ola ola ola'\n",
    "print(string2.count('ola')) #4\n",
    "print(string2.count('o'))   #4\n",
    "print(string2.count('oa')) #0\n",
    "print(string2.count('ola '))#3\n"
   ]
  },
  {
   "cell_type": "code",
   "execution_count": null,
   "id": "19d93c2c",
   "metadata": {},
   "outputs": [],
   "source": [
    "#if u dont provide bracket for the string method it wont work"
   ]
  },
  {
   "cell_type": "code",
   "execution_count": null,
   "id": "40856fe0",
   "metadata": {},
   "outputs": [],
   "source": [
    "string2='ola ola ola ola'\n",
    "len(string2)\n",
    "#i want to know how many 'a' are there after 4th index"
   ]
  },
  {
   "cell_type": "code",
   "execution_count": null,
   "id": "9d653e3f",
   "metadata": {},
   "outputs": [],
   "source": [
    "#shift+tab to know about that bracket\n",
    "string2.count('a',4)\n",
    "#here 4 means we are counting 'a' from 4th index\n",
    "#how many 'a' are there b/w 4 to 8th index\n",
    "string2.count('a',4,9)\n",
    "#string.count(<char,start_index>)"
   ]
  },
  {
   "cell_type": "code",
   "execution_count": null,
   "id": "67696bf1",
   "metadata": {},
   "outputs": [],
   "source": [
    "#wap by using for loop and if conditions"
   ]
  },
  {
   "cell_type": "code",
   "execution_count": null,
   "id": "3a9bf2af",
   "metadata": {},
   "outputs": [],
   "source": [
    "#string2[4:].dount('ola')\n",
    "#count mehtod is internally doing the slicing also\n",
    "#not required slicig when you apply count method\n",
    "string2='ola ola ola ola'\n",
    "count=0\n",
    "for i in range(len(string2)):\n",
    "    if i>=4:\n",
    "        print(string2[i])\n",
    "#u need to count the number of 'ola' from index 4\n",
    "#character aswell as number\n",
    "#in/range            range()\n",
    "#==================================================\n",
    "count=0\n",
    "for i in range(len(string2)-2):        #0 to 12\n",
    "#at some point we get the error if we use the len directly\n",
    "#that y we are using -2 to avoid\n",
    "    if i>=4:\n",
    "        if string2[i]+string2[i+1]+string2[i+2]=='ola':    #'o'='ola' F\n",
    "#it never become true beocz we are checking with one \n",
    "            count=count+1\n",
    "print(count)            "
   ]
  },
  {
   "cell_type": "code",
   "execution_count": null,
   "id": "d343568f",
   "metadata": {},
   "outputs": [],
   "source": [
    "i=4 #=========================T\n",
    "i=5\n",
    "i=6\n",
    "i=7\n",
    "i=8 #=========================T\n",
    "i=9\n",
    "i=10\n",
    "i=11\n",
    "i=12\n",
    "string2[i]+string2[i+1]+string2[i+2]\n",
    "#string2[13]+string2[14]+string2[15]\n",
    "#it wont work beoz the range is 15 and we are doing it \n",
    "#up to 15 it wont work"
   ]
  },
  {
   "cell_type": "raw",
   "id": "05ff32f3",
   "metadata": {},
   "source": [
    "-case fold\n",
    "-upper\n",
    "-lower\n",
    "-capitalize\n",
    "-count"
   ]
  },
  {
   "cell_type": "markdown",
   "id": "b83803c2",
   "metadata": {},
   "source": [
    "# replace keyword"
   ]
  },
  {
   "cell_type": "code",
   "execution_count": null,
   "id": "99bb53a2",
   "metadata": {},
   "outputs": [],
   "source": [
    "string1='welcome'\n",
    "#i want replace 'l' with 'L'"
   ]
  },
  {
   "cell_type": "code",
   "execution_count": null,
   "id": "5502fcdc",
   "metadata": {},
   "outputs": [],
   "source": [
    "string1[2]='L'\n",
    "#strings are immutable"
   ]
  },
  {
   "cell_type": "markdown",
   "id": "a291f8f1",
   "metadata": {},
   "source": [
    "# without keywords method"
   ]
  },
  {
   "cell_type": "code",
   "execution_count": null,
   "id": "3dd90616",
   "metadata": {},
   "outputs": [],
   "source": [
    "#slice + concatination\n",
    "#wecome===========\n",
    "#we =string1[:2]\n",
    "#come= string1[3:]\n",
    "string1[:2]+'L'+string1[3:]"
   ]
  },
  {
   "cell_type": "code",
   "execution_count": null,
   "id": "db6ca837",
   "metadata": {},
   "outputs": [],
   "source": [
    "#we can apply replace operation\n",
    "string1.replace('l','L')"
   ]
  },
  {
   "cell_type": "code",
   "execution_count": null,
   "id": "4af7a371",
   "metadata": {},
   "outputs": [],
   "source": [
    "#imput: restart\n",
    "#output: $estart\n",
    "#output: resta$t\n",
    "#what is the drawback \n",
    "'restart'.replace('r','$')\n",
    "#replace will replace all the occurences"
   ]
  },
  {
   "cell_type": "code",
   "execution_count": null,
   "id": "50c26f80",
   "metadata": {},
   "outputs": [],
   "source": [
    "string2='restart'"
   ]
  },
  {
   "cell_type": "code",
   "execution_count": null,
   "id": "47ee0238",
   "metadata": {},
   "outputs": [],
   "source": [
    "print(string2.replace('r','$'))\n",
    "#if we dont write any number it will convert every 'r' as '$'\n",
    "#when ever u see / in the function inside \n",
    "#then ont provide varibael name\n",
    "print(string2.replace('r','$',1))\n",
    "string2[1:]   #'estart'\n",
    "string2[:1]   #'r'\n",
    "print(string2[:1]+string2[1:].replace('r','$',1))\n",
    "print(string2[::-1].replace('r','$',1)[::-1])"
   ]
  },
  {
   "cell_type": "code",
   "execution_count": null,
   "id": "6bd2788a",
   "metadata": {},
   "outputs": [],
   "source": [
    "name='apoor'\n",
    "#'o' with '0'\n",
    "print(name.replace('o','0'))\n",
    "print(name.replace('o','0',1))\n",
    "print(name[::-1].replace('o','0',1)[::-1])"
   ]
  },
  {
   "cell_type": "markdown",
   "id": "3735187c",
   "metadata": {},
   "source": [
    "# index"
   ]
  },
  {
   "cell_type": "code",
   "execution_count": null,
   "id": "0eb414fb",
   "metadata": {},
   "outputs": [],
   "source": [
    "string1='restart'\n",
    "#if i want to know\n",
    "#index of 't\n",
    "string1.index('t')\n",
    "string1[string1.index('t')+1:]"
   ]
  },
  {
   "cell_type": "code",
   "execution_count": null,
   "id": "cdcef92f",
   "metadata": {},
   "outputs": [],
   "source": [
    "string1='restart how to'\n",
    "#get the first 't'\n",
    "f_o=string1.index('t')\n",
    "s_o=string1.index('t',f_o+1)\n",
    "t_o=string1.index('t',s_o+1)\n",
    "#fou_o=string.index('t',t_o+1)\n",
    "print(f_o,s_o,t_o)\n"
   ]
  },
  {
   "cell_type": "code",
   "execution_count": null,
   "id": "5abb401f",
   "metadata": {},
   "outputs": [],
   "source": [
    "string1='restart how to'\n",
    "#t=3 6 12\n",
    "#what is the idex of first 't':\n",
    "f_o=string1.index('t')\n",
    "#index method will provide first occurence\n",
    "s_o=string1.index('t',string1.index('t')+1)\n",
    "string1.index('t',s_o+1)"
   ]
  },
  {
   "cell_type": "code",
   "execution_count": null,
   "id": "9a6aac1d",
   "metadata": {},
   "outputs": [],
   "source": [
    "string1='restart how to'\n",
    "print(string1.count('t'))\n",
    "print(string1.index('t'))\n",
    "#there is no difference between thse two keywords"
   ]
  },
  {
   "cell_type": "code",
   "execution_count": null,
   "id": "d13c4eac",
   "metadata": {},
   "outputs": [],
   "source": [
    "print(string1.count('T'))\n",
    "#0\n",
    "#print(string1.index('T'))\n",
    "#sub string not found error\n",
    "print(string1.replace('TTTT','&'))\n",
    "#no error\n",
    "print(string1.find('TTTT'))\n",
    "#-1"
   ]
  },
  {
   "cell_type": "code",
   "execution_count": null,
   "id": "cc277573",
   "metadata": {},
   "outputs": [],
   "source": [
    "'python'.replace('z','zzzzzz')  \n",
    "#no error"
   ]
  },
  {
   "cell_type": "markdown",
   "id": "c3fa815c",
   "metadata": {},
   "source": [
    "# find"
   ]
  },
  {
   "cell_type": "code",
   "execution_count": null,
   "id": "84f3e81b",
   "metadata": {},
   "outputs": [],
   "source": [
    "string1='restart how to'\n",
    "f_o=string1.find('t')\n",
    "s_o=string1.find('t',f_o+1)\n",
    "print(s_o)\n",
    "print(string1.find('t'))"
   ]
  },
  {
   "cell_type": "markdown",
   "id": "300bb033",
   "metadata": {},
   "source": [
    "# differnece between index and find"
   ]
  },
  {
   "cell_type": "code",
   "execution_count": null,
   "id": "114a88cd",
   "metadata": {},
   "outputs": [],
   "source": [
    "#the difference between index and find is \n",
    "#Raises ValueError when the substring is not found (find index)\n",
    "#Return -1 on failure (for find)"
   ]
  },
  {
   "cell_type": "code",
   "execution_count": null,
   "id": "4127adfa",
   "metadata": {},
   "outputs": [],
   "source": [
    "- capitalize \n",
    "\n",
    "- casefold\n",
    "\n",
    "- upper\n",
    "\n",
    "-lower\n",
    "everyone do almost same task\n",
    "\n",
    "-count\n",
    "\n",
    "-replace\n",
    "\n",
    "-index/find\n",
    "these 2 are same almost\n",
    "\n",
    "-split"
   ]
  },
  {
   "cell_type": "markdown",
   "id": "8f97e754",
   "metadata": {},
   "source": [
    "# split"
   ]
  },
  {
   "cell_type": "code",
   "execution_count": null,
   "id": "d0553573",
   "metadata": {},
   "outputs": [],
   "source": [
    "string1='hai how are you'\n",
    "string1.split()\n",
    "#complex()\n",
    "#these both dont need any thing in the bracket \n",
    "#they will give the answer withput anything in the bracket\n",
    "#nothing mention means it will take the space"
   ]
  },
  {
   "cell_type": "code",
   "execution_count": null,
   "id": "eeb42aea",
   "metadata": {},
   "outputs": [],
   "source": [
    "string2='hai how,are you'\n",
    "string2.split(',')\n",
    "#without using the sep operator we can do it\n",
    "#its like buit in keyword"
   ]
  },
  {
   "cell_type": "code",
   "execution_count": null,
   "id": "15f129ae",
   "metadata": {},
   "outputs": [],
   "source": [
    "var1='hai how'\n",
    "var2='are you'\n",
    "print(var1,var2,sep=',')\n",
    "#the ame thing we are doing with using the sep operator"
   ]
  },
  {
   "cell_type": "code",
   "execution_count": null,
   "id": "1b3fb866",
   "metadata": {},
   "outputs": [],
   "source": [
    "string2='hai how are you'\n",
    "string2.split('a')  #'h' ,'i' how,','re you'"
   ]
  },
  {
   "cell_type": "code",
   "execution_count": null,
   "id": "43e04be5",
   "metadata": {},
   "outputs": [],
   "source": [
    "n='naga sai sri'\n",
    "n.split('a')"
   ]
  },
  {
   "cell_type": "code",
   "execution_count": null,
   "id": "f10f8b27",
   "metadata": {},
   "outputs": [],
   "source": [
    "sent1='rashad.omkar@gmail.com'\n",
    "#extract oly:omkar\n",
    "sent1.index('.')\n",
    "sent1[sent1.index('.')+1:sent1.index('@')]"
   ]
  },
  {
   "cell_type": "code",
   "execution_count": null,
   "id": "851ad3d0",
   "metadata": {},
   "outputs": [],
   "source": [
    "sent2='mobin.sourac@uma.com'\n",
    "sent2.index('@')\n",
    "print(sent2[sent2.index('@')+1:sent2.index('.',sent2.index('.')+1)])\n",
    "print(sent2[sent2.index('@')+1:sent2.index('.c')])"
   ]
  },
  {
   "cell_type": "code",
   "execution_count": null,
   "id": "3a93147e",
   "metadata": {},
   "outputs": [],
   "source": [
    "sent2='mobin.sourac@ramesh.com'\n",
    "sent2[sent2.index('@')+1:sent2.index('.c')]\n",
    "#this is generalised expresion"
   ]
  },
  {
   "cell_type": "code",
   "execution_count": null,
   "id": "7ce94b2a",
   "metadata": {},
   "outputs": [],
   "source": [
    "#in more simple format\n",
    "sent3='sai.sourav@uma.com'\n",
    "#between '@' and '.' (second)\n",
    "index1=sent3.index('@')\n",
    "first_dot_index=sent3.index('.')\n",
    "sec_dot_index=sent3.index('.',first_dot_index+1)\n",
    "sent3[index1+1:sec_dot_index]"
   ]
  },
  {
   "cell_type": "code",
   "execution_count": null,
   "id": "139a915f",
   "metadata": {},
   "outputs": [],
   "source": [
    "sent3[sent3.index('@')+1:sent3.index('.',sent3.index('.')+1)]\n",
    "#its way more complicated \n",
    "#but most of the them use this method"
   ]
  },
  {
   "cell_type": "code",
   "execution_count": null,
   "id": "548f5523",
   "metadata": {},
   "outputs": [],
   "source": [
    "#lets say all the emails are in the text file\n",
    "#how to read text file\n",
    "#first second company name email"
   ]
  },
  {
   "cell_type": "markdown",
   "id": "2e0a3fd3",
   "metadata": {},
   "source": [
    "# strip, lstrip and rstrip "
   ]
  },
  {
   "cell_type": "code",
   "execution_count": null,
   "id": "71f887ed",
   "metadata": {},
   "outputs": [],
   "source": [
    "str1=' hai how are you '  #strip is the possible way\n",
    "str2='hai how are you '   #only strip and rstrip\n",
    "str3=' hai how are you'   #only strip and lstrip\n",
    "#if you want to remove the spaces we usr the method strip"
   ]
  },
  {
   "cell_type": "code",
   "execution_count": null,
   "id": "cbfd9e77",
   "metadata": {},
   "outputs": [],
   "source": [
    "#strip means it will remove space from both sides\n",
    "#lstrip means it will remove left side space\n",
    "#rstrip meas it will remove right side space"
   ]
  },
  {
   "cell_type": "code",
   "execution_count": null,
   "id": "9d5b83eb",
   "metadata": {},
   "outputs": [],
   "source": [
    "str1.strip(),str1.lstrip(),str1.rstrip()\n",
    "print(str1.strip())\n",
    "print(str1.lstrip())\n",
    "print(str1.rstrip())\n",
    "#here print will miss lead you\n",
    "#so dontuse print statement"
   ]
  },
  {
   "cell_type": "code",
   "execution_count": null,
   "id": "b2a45634",
   "metadata": {},
   "outputs": [],
   "source": [
    "str1.strip(),str1.lstrip(),str1.rstrip()"
   ]
  },
  {
   "cell_type": "code",
   "execution_count": null,
   "id": "dcefe560",
   "metadata": {},
   "outputs": [],
   "source": [
    "str1='&&&&&hello&&&&&&&&&&&&&&&'\n",
    "print(str1.strip('&'))\n",
    "#it can remove any value or anything \n",
    "#if they are same for both of the sides\n",
    "#it will remove unequal value also tha is &\n",
    "print(str1.rstrip('&'))\n",
    "print(str1.lstrip('&'))"
   ]
  },
  {
   "cell_type": "markdown",
   "id": "242adad2",
   "metadata": {},
   "source": [
    "# starts with and ends with"
   ]
  },
  {
   "cell_type": "code",
   "execution_count": null,
   "id": "50cbca98",
   "metadata": {},
   "outputs": [],
   "source": [
    "str1='hai how are you'\n",
    "str1.startswith('hai')"
   ]
  },
  {
   "cell_type": "code",
   "execution_count": null,
   "id": "c3ada33c",
   "metadata": {},
   "outputs": [],
   "source": [
    "str1='sai hai how are you'\n",
    "str1.startswith('hai')"
   ]
  },
  {
   "cell_type": "code",
   "execution_count": null,
   "id": "54566834",
   "metadata": {},
   "outputs": [],
   "source": [
    "str1='sai hai how are you'\n",
    "str1.startswith('sa')"
   ]
  },
  {
   "cell_type": "code",
   "execution_count": null,
   "id": "a2f9bc5d",
   "metadata": {},
   "outputs": [],
   "source": [
    "str1='sai hai how are you'\n",
    "str1.startswith('saa')"
   ]
  },
  {
   "cell_type": "markdown",
   "id": "82249fdf",
   "metadata": {},
   "source": [
    "#endswith"
   ]
  },
  {
   "cell_type": "code",
   "execution_count": null,
   "id": "a6519d92",
   "metadata": {},
   "outputs": [],
   "source": [
    "str1.endswith('you')"
   ]
  },
  {
   "cell_type": "code",
   "execution_count": null,
   "id": "def7e3cd",
   "metadata": {},
   "outputs": [],
   "source": [
    "str1.endswith('yo')"
   ]
  },
  {
   "cell_type": "code",
   "execution_count": null,
   "id": "7a783480",
   "metadata": {},
   "outputs": [],
   "source": [
    "str1.endswith('yoo')"
   ]
  },
  {
   "cell_type": "code",
   "execution_count": null,
   "id": "c74158e4",
   "metadata": {},
   "outputs": [],
   "source": [
    "str1.startswith(str1)  #T\n",
    "str1.endswith(str1)    #T"
   ]
  },
  {
   "cell_type": "markdown",
   "id": "86904c72",
   "metadata": {},
   "source": [
    "# is keywords"
   ]
  },
  {
   "cell_type": "code",
   "execution_count": null,
   "id": "da32e41d",
   "metadata": {},
   "outputs": [],
   "source": [
    "string='1234'"
   ]
  },
  {
   "cell_type": "code",
   "execution_count": null,
   "id": "41334ff6",
   "metadata": {},
   "outputs": [],
   "source": [
    "string.isnumeric()"
   ]
  },
  {
   "cell_type": "code",
   "execution_count": null,
   "id": "ac2efb39",
   "metadata": {},
   "outputs": [],
   "source": [
    "string='10.6'\n",
    "#isnumeric\n",
    "#isdecimal\n",
    "#isdigit\n",
    "#will all be failed"
   ]
  },
  {
   "cell_type": "code",
   "execution_count": null,
   "id": "202eb5a7",
   "metadata": {},
   "outputs": [],
   "source": [
    "string.isdecimal()"
   ]
  },
  {
   "cell_type": "code",
   "execution_count": null,
   "id": "703daca9",
   "metadata": {},
   "outputs": [],
   "source": [
    "string='1234'"
   ]
  },
  {
   "cell_type": "code",
   "execution_count": null,
   "id": "94200cf6",
   "metadata": {},
   "outputs": [],
   "source": [
    "string.isalpha()"
   ]
  },
  {
   "cell_type": "code",
   "execution_count": null,
   "id": "b19434b5",
   "metadata": {},
   "outputs": [],
   "source": [
    "string='sai sri'"
   ]
  },
  {
   "cell_type": "code",
   "execution_count": null,
   "id": "02302ba0",
   "metadata": {},
   "outputs": [],
   "source": [
    "string.islower()"
   ]
  },
  {
   "cell_type": "code",
   "execution_count": null,
   "id": "c54df26b",
   "metadata": {},
   "outputs": [],
   "source": [
    "#any method avaliable to check the float value\n",
    "#directly using string metho\n",
    "#if methods will not work direct way\n",
    "#we need to modify the string\n"
   ]
  },
  {
   "cell_type": "code",
   "execution_count": null,
   "id": "8b051788",
   "metadata": {},
   "outputs": [],
   "source": [
    "#interview questions"
   ]
  },
  {
   "cell_type": "code",
   "execution_count": null,
   "id": "ae26ab5e",
   "metadata": {},
   "outputs": [],
   "source": [
    "# Qin a given sentence what is the most repeated word\n",
    "# ex: 'hai how are you you hai'\n",
    "# Qin a given setence what is the max length of the string\n",
    "# ex: 'hello puthon how are youuuuuuu'\n",
    "# Qalso what is the min length of the string\n",
    "# str1='hyd' str2='chennai' str3='mumbai'\n",
    "# Qwhich is the greatest word\n",
    "# it is not intemrs of length\n",
    "# interms of ascii value"
   ]
  },
  {
   "cell_type": "markdown",
   "id": "48a7e7b0",
   "metadata": {},
   "source": [
    "# pandas is for data analysis"
   ]
  },
  {
   "cell_type": "markdown",
   "id": "64cdac1d",
   "metadata": {},
   "source": [
    "# how to read?"
   ]
  },
  {
   "cell_type": "markdown",
   "id": "4eeeb158",
   "metadata": {},
   "source": [
    "-type\n",
    "\n",
    "-len\n",
    "\n",
    "-max\n",
    "\n",
    "-min\n",
    "\n",
    "-concatiantion (add two list)\n",
    "\n",
    "-subtract two list\n",
    "\n",
    "-multiply two list\n",
    "\n",
    "-divide two list\n",
    "\n",
    "-index\n",
    "\n",
    "-slice\n",
    "\n",
    "-mutable\n",
    "\n",
    "-list method\n",
    "\n"
   ]
  },
  {
   "cell_type": "markdown",
   "id": "7d3f9516",
   "metadata": {},
   "source": [
    "# list"
   ]
  },
  {
   "cell_type": "code",
   "execution_count": null,
   "id": "7ed8e0a7",
   "metadata": {},
   "outputs": [],
   "source": [
    "list1=[1,2,3,4]\n",
    "list1\n",
    "#array of some elements stored in square brackets"
   ]
  },
  {
   "cell_type": "code",
   "execution_count": null,
   "id": "335bb9ec",
   "metadata": {},
   "outputs": [],
   "source": [
    "list2=['A','B','C','D']\n",
    "list2"
   ]
  },
  {
   "cell_type": "code",
   "execution_count": null,
   "id": "3dd4e7be",
   "metadata": {},
   "outputs": [],
   "source": [
    "list3=['Apple',12345]\n",
    "list3"
   ]
  },
  {
   "cell_type": "code",
   "execution_count": null,
   "id": "e3d9b305",
   "metadata": {},
   "outputs": [],
   "source": [
    "list4=['A',1,2.6,10+30j]\n",
    "list4"
   ]
  },
  {
   "cell_type": "code",
   "execution_count": null,
   "id": "78cb3be5",
   "metadata": {},
   "outputs": [],
   "source": [
    "#heterogeneous means mixture of all elements\n",
    "#list is hetrogeneous property\n",
    "#any kind of data type elements we can store in the form of list\n",
    "#which means duplicates are allowed\n",
    "#we can duplicate the elements\n",
    "#list in list also it can take\n",
    "#list is a keyword and it should not use as variabel"
   ]
  },
  {
   "cell_type": "code",
   "execution_count": null,
   "id": "af73c2d8",
   "metadata": {},
   "outputs": [],
   "source": [
    "list5=[100,100,100]\n",
    "list5"
   ]
  },
  {
   "cell_type": "code",
   "execution_count": null,
   "id": "86fcef3d",
   "metadata": {},
   "outputs": [],
   "source": [
    "list6=['a','A']\n",
    "list6"
   ]
  },
  {
   "cell_type": "code",
   "execution_count": null,
   "id": "d125618a",
   "metadata": {},
   "outputs": [],
   "source": [
    "list7=['hai how are you']\n",
    "list7"
   ]
  },
  {
   "cell_type": "code",
   "execution_count": null,
   "id": "8af16874",
   "metadata": {},
   "outputs": [],
   "source": [
    "list8=[1234,['hai how are you']]\n",
    "list8"
   ]
  },
  {
   "cell_type": "markdown",
   "id": "f5904800",
   "metadata": {},
   "source": [
    "# type"
   ]
  },
  {
   "cell_type": "code",
   "execution_count": null,
   "id": "02a89aa3",
   "metadata": {},
   "outputs": [],
   "source": [
    "type(list1)"
   ]
  },
  {
   "cell_type": "markdown",
   "id": "a5411c5e",
   "metadata": {},
   "source": [
    "# len,max,min,sum"
   ]
  },
  {
   "cell_type": "code",
   "execution_count": null,
   "id": "0715de7f",
   "metadata": {},
   "outputs": [],
   "source": [
    "print(list1)\n",
    "print(len(list1))  #4\n",
    "print(min(list1))  #1\n",
    "print(max(list1))  #4\n",
    "print(sum(list1))"
   ]
  },
  {
   "cell_type": "code",
   "execution_count": null,
   "id": "5d93f3a4",
   "metadata": {},
   "outputs": [],
   "source": [
    "print(list2)\n",
    "print(len(list2)) \n",
    "print(min(list2))   #based on ascci values  \n",
    "print(max(list2))   #based on ascci values\n",
    "print(sum(list2))   #sum operator will only work for numbers only"
   ]
  },
  {
   "cell_type": "code",
   "execution_count": null,
   "id": "8ddc9873",
   "metadata": {},
   "outputs": [],
   "source": [
    "print(list3)\n",
    "print(len(list3)) \n",
    "print(max(list3))     \n",
    "print(min(list3))  \n",
    "print(sum(list3)) \n",
    "#apart from the above 2 it wont work for the rest of them"
   ]
  },
  {
   "cell_type": "code",
   "execution_count": null,
   "id": "a02cd63c",
   "metadata": {},
   "outputs": [],
   "source": [
    "print(list4)\n",
    "print(len(list4)) \n",
    "print(min(list4))     \n",
    "print(max(list4))  \n",
    "print(sum(list4))"
   ]
  },
  {
   "cell_type": "code",
   "execution_count": null,
   "id": "60142a11",
   "metadata": {},
   "outputs": [],
   "source": [
    "print(list5)\n",
    "print(len(list5)) \n",
    "print(min(list5))     \n",
    "print(max(list5))  \n",
    "print(sum(list5))"
   ]
  },
  {
   "cell_type": "code",
   "execution_count": null,
   "id": "ce726dd7",
   "metadata": {},
   "outputs": [],
   "source": [
    "print(list6)\n",
    "print(len(list6)) \n",
    "print(min(list6))     \n",
    "print(max(list6))  \n",
    "print(sum(list6))"
   ]
  },
  {
   "cell_type": "code",
   "execution_count": null,
   "id": "d692b992",
   "metadata": {},
   "outputs": [],
   "source": [
    "print(list7)\n",
    "print(len(list7)) \n",
    "print(min(list7))     \n",
    "print(max(list7))  \n",
    "print(sum(list7))"
   ]
  },
  {
   "cell_type": "code",
   "execution_count": null,
   "id": "6549ba7b",
   "metadata": {},
   "outputs": [],
   "source": [
    "print(list8)\n",
    "print(len(list8)) \n",
    "#print(min(list8))     \n",
    "#print(max(list8))  \n",
    "#print(sum(list8))"
   ]
  },
  {
   "cell_type": "markdown",
   "id": "c486535e",
   "metadata": {},
   "source": [
    "# concatination (adding two list)"
   ]
  },
  {
   "cell_type": "code",
   "execution_count": null,
   "id": "ba107f46",
   "metadata": {},
   "outputs": [],
   "source": [
    "print(list1)\n",
    "print(list2)"
   ]
  },
  {
   "cell_type": "code",
   "execution_count": null,
   "id": "3af679f5",
   "metadata": {},
   "outputs": [],
   "source": [
    "#in odder to do this we need to save in one variable\n",
    "#if u perfor any operation u need to save this operation\n",
    "list_con=list1+list2"
   ]
  },
  {
   "cell_type": "code",
   "execution_count": null,
   "id": "a8678e43",
   "metadata": {},
   "outputs": [],
   "source": [
    "list_con"
   ]
  },
  {
   "cell_type": "code",
   "execution_count": null,
   "id": "951bab69",
   "metadata": {},
   "outputs": [],
   "source": [
    "string1='welcome'\n",
    "string2=string1.replace('l','L')"
   ]
  },
  {
   "cell_type": "code",
   "execution_count": null,
   "id": "fc275f7e",
   "metadata": {},
   "outputs": [],
   "source": [
    "string1,string2"
   ]
  },
  {
   "cell_type": "code",
   "execution_count": null,
   "id": "8a1c5e2e",
   "metadata": {},
   "outputs": [],
   "source": [
    "list1-list2\n",
    "list1+list2\n",
    "list1*list2\n",
    "list1/list2\n",
    "#everytinh is error"
   ]
  },
  {
   "cell_type": "code",
   "execution_count": null,
   "id": "641d4699",
   "metadata": {},
   "outputs": [],
   "source": [
    "#multiply string with integer\n",
    "print(list1)\n",
    "2*list1\n",
    "#this means 2 times we will print the list1"
   ]
  },
  {
   "cell_type": "markdown",
   "id": "ea21a4e4",
   "metadata": {},
   "source": [
    "# in operator"
   ]
  },
  {
   "cell_type": "code",
   "execution_count": null,
   "id": "600b9e26",
   "metadata": {},
   "outputs": [],
   "source": [
    "list2"
   ]
  },
  {
   "cell_type": "code",
   "execution_count": null,
   "id": "d88c0992",
   "metadata": {},
   "outputs": [],
   "source": [
    "'A' in list2\n",
    "'B' in list2\n",
    "'C' in list2\n",
    "'D' in list2\n",
    "\n",
    "#gernalize expression means this\n",
    "#i in list2"
   ]
  },
  {
   "cell_type": "code",
   "execution_count": null,
   "id": "ee5b74cb",
   "metadata": {},
   "outputs": [],
   "source": [
    "#whenever you are reading in operator\n",
    "#iterate the loop(for/while) and print the elements"
   ]
  },
  {
   "cell_type": "code",
   "execution_count": null,
   "id": "00dd8e50",
   "metadata": {},
   "outputs": [],
   "source": [
    "for i in list2:\n",
    "    print(i)"
   ]
  },
  {
   "cell_type": "code",
   "execution_count": null,
   "id": "513b9a98",
   "metadata": {},
   "outputs": [],
   "source": [
    "i=A\n",
    "while i==list2:\n",
    "    print(i)\n",
    "i=i+1\n",
    "#if u want to deal with while \n",
    "#we required numbers"
   ]
  },
  {
   "cell_type": "code",
   "execution_count": null,
   "id": "55e442d4",
   "metadata": {},
   "outputs": [],
   "source": [
    "#we can do it with both number and letters\n",
    "for i in list1:\n",
    "    print(i)"
   ]
  },
  {
   "cell_type": "code",
   "execution_count": null,
   "id": "28dddd80",
   "metadata": {},
   "outputs": [],
   "source": [
    "#python index start with zero\n",
    "\n",
    "A B C D\n",
    "0 1 2 3"
   ]
  },
  {
   "cell_type": "code",
   "execution_count": null,
   "id": "5d8cc6b3",
   "metadata": {},
   "outputs": [],
   "source": [
    "list2[0],list2[1],list2[2],list2[3]"
   ]
  },
  {
   "cell_type": "code",
   "execution_count": null,
   "id": "2df0b350",
   "metadata": {},
   "outputs": [],
   "source": [
    "#print A B C D using for loop\n",
    "#index method as well as while loop"
   ]
  },
  {
   "cell_type": "code",
   "execution_count": null,
   "id": "200e43ae",
   "metadata": {},
   "outputs": [],
   "source": [
    "for i in list2:\n",
    "    print(i,end=' ')"
   ]
  },
  {
   "cell_type": "code",
   "execution_count": null,
   "id": "aee741f5",
   "metadata": {},
   "outputs": [],
   "source": [
    "for i in range(len(list2)):\n",
    "    print(i)"
   ]
  },
  {
   "cell_type": "code",
   "execution_count": null,
   "id": "8b80fc16",
   "metadata": {},
   "outputs": [],
   "source": [
    "list2=['A','B','C','D']\n",
    "i=0\n",
    "while i<len(list2):\n",
    "    print(i,list2[i])\n",
    "    i=i+1"
   ]
  },
  {
   "cell_type": "code",
   "execution_count": null,
   "id": "cd8b4344",
   "metadata": {},
   "outputs": [],
   "source": [
    "#=========for/while======\n",
    "#the positive index of 'A' is 0\n",
    "#the positive index of 'B' is 1\n",
    "\n",
    "#the negative index of 'A' is 0\n",
    "#the negative index of 'B' is 1\n",
    "\n",
    "#the +ve and -ve 'A' is 0 and -ve is -4"
   ]
  },
  {
   "cell_type": "code",
   "execution_count": null,
   "id": "f345e4b3",
   "metadata": {},
   "outputs": [],
   "source": [
    "list2=['A','B','C','D']\n",
    "for i in range(len(list2)):\n",
    "    print('the positive index of {} is {}'.format(list2[i],i,len(list2)))"
   ]
  },
  {
   "cell_type": "code",
   "execution_count": null,
   "id": "21e5c350",
   "metadata": {},
   "outputs": [],
   "source": [
    "list2=['A','B','C','D']\n",
    "for i in range(len(list2)):\n",
    "    print('the negative index of {} is {}'.format(list2[i],i-len(list2)))"
   ]
  },
  {
   "cell_type": "code",
   "execution_count": null,
   "id": "3dba9cde",
   "metadata": {},
   "outputs": [],
   "source": [
    "list2=['A','B','C','D']\n",
    "for i in range(len(list2)):\n",
    "    print('the positive index of {} is {} and negative index {}'.format(list2[i],i,i-len(list2)))"
   ]
  },
  {
   "cell_type": "code",
   "execution_count": null,
   "id": "c3ac8135",
   "metadata": {},
   "outputs": [],
   "source": [
    "# list is mutable\n",
    "# string is immutable\n",
    "list1=[[[[[1,2,3,4]]]]]  #this is the entire one element\n",
    "#in this entire list we have 1\n",
    "#if we have any coma in the first bracket this it is considerd as the \n",
    "#second element in the list\n",
    "# retrive the index 4\n",
    "# what is the index of 4?\n",
    "list1[0][0][0][0][3]     #[[[[1,2,3,4]]]]\n",
    "#w will left with one redused bracket as the output"
   ]
  },
  {
   "cell_type": "code",
   "execution_count": null,
   "id": "0d7167c0",
   "metadata": {},
   "outputs": [],
   "source": [
    "list2=[[[[['A','B',[1,2,3,['cherry']]]]]]]\n",
    "print(list2[0])\n",
    "print(list2[0][0][0][0][2][3][0])\n",
    "#up to 'A','B'is one element\n",
    "#and 1,2,3 is one element\n",
    "#and 'cherry' is one element\n",
    "#so we got 3 elements in total"
   ]
  },
  {
   "cell_type": "code",
   "execution_count": null,
   "id": "9c48555f",
   "metadata": {},
   "outputs": [],
   "source": [
    "list1=[[1,2,3]]\n",
    "#print 1,2,3 using for loop"
   ]
  },
  {
   "cell_type": "code",
   "execution_count": null,
   "id": "046afcc6",
   "metadata": {},
   "outputs": [],
   "source": [
    "list1=[[1,2,3]]\n",
    "for i in range(len(list1)):\n",
    "    print(list1[0])\n",
    "    #this means list1 have 0 elements in this \n",
    "    #0=1,2,3 \n",
    "    "
   ]
  },
  {
   "cell_type": "markdown",
   "id": "20a66a48",
   "metadata": {},
   "source": [
    "# slicing concept in list"
   ]
  },
  {
   "cell_type": "code",
   "execution_count": null,
   "id": "ad27ccad",
   "metadata": {},
   "outputs": [],
   "source": [
    "list1=[1,2,3]\n",
    "list1[0:2:1]"
   ]
  },
  {
   "cell_type": "markdown",
   "id": "93db3b8a",
   "metadata": {},
   "source": [
    "# list slicing method"
   ]
  },
  {
   "cell_type": "code",
   "execution_count": null,
   "id": "ae5702d5",
   "metadata": {},
   "outputs": [],
   "source": [
    "list1=['A','B','C','D','E','F',1,2,3,4,5,6,]"
   ]
  },
  {
   "cell_type": "code",
   "execution_count": null,
   "id": "c849f07d",
   "metadata": {},
   "outputs": [],
   "source": [
    "print(list1[2:11:2])\n",
    "print(list1[2:11:-2])\n",
    "print(list1[2:-11:2])\n",
    "print(list1[2:-11:-2])\n",
    "print(list1[-2:11:2])\n",
    "print(list1[-2:-11:2])\n",
    "print(list1[-2:-11:-2])\n",
    "print(list1[-2:11:-2])"
   ]
  },
  {
   "cell_type": "code",
   "execution_count": null,
   "id": "e0fd414c",
   "metadata": {},
   "outputs": [],
   "source": [
    "#wap ask the user print the elements which has length more than 4\n",
    "#list1=['hyderabad','delhi','chennai','blr']\n",
    "#output:hyderabad,delhi,chennai"
   ]
  },
  {
   "cell_type": "code",
   "execution_count": 29,
   "id": "ad453cb8",
   "metadata": {},
   "outputs": [
    {
     "name": "stdout",
     "output_type": "stream",
     "text": [
      "hyderabad\n",
      "delhi\n",
      "chennai\n"
     ]
    }
   ],
   "source": [
    "list1=['hyderabad','delhi','chennai','blr']\n",
    "for i in range(len(list1)):\n",
    "    if len(list1[i])>=4:\n",
    "        print(list1[i])\n",
    "#=====================================\n"
   ]
  },
  {
   "cell_type": "code",
   "execution_count": 30,
   "id": "58600825",
   "metadata": {},
   "outputs": [
    {
     "name": "stdout",
     "output_type": "stream",
     "text": [
      "hyderabad\n",
      "delhi\n",
      "chennai\n"
     ]
    }
   ],
   "source": [
    "list1=['hyderabad','delhi','chennai','blr']\n",
    "for i in list1:\n",
    "    if len(i)>=4:\n",
    "        print(i)"
   ]
  },
  {
   "cell_type": "code",
   "execution_count": 8,
   "id": "5cef58a0",
   "metadata": {},
   "outputs": [
    {
     "name": "stdout",
     "output_type": "stream",
     "text": [
      "chenna#i\n"
     ]
    }
   ],
   "source": [
    "#wap ask the user to print the elements which are having \n",
    "#'#' inthe element\n",
    "list1=['hyderabad','delhi','chenna#i','blr']\n",
    "for i in list1:\n",
    "    if '#' in i:\n",
    "        print(i)"
   ]
  },
  {
   "cell_type": "code",
   "execution_count": 7,
   "id": "a19bd7a3",
   "metadata": {},
   "outputs": [
    {
     "name": "stdout",
     "output_type": "stream",
     "text": [
      "Hyderabad\n",
      "Haridwar\n"
     ]
    }
   ],
   "source": [
    "#wap ask the user print the elments which are starting with 'H'\n",
    "list1=['Hyderabad','delhi','chenna#i','blr','Haridwar']\n",
    "for i in list1:\n",
    "    if i.lower().startswith('h'):\n",
    "        print(i)"
   ]
  },
  {
   "cell_type": "code",
   "execution_count": 6,
   "id": "7bb0cfc1",
   "metadata": {},
   "outputs": [
    {
     "name": "stdout",
     "output_type": "stream",
     "text": [
      "Hyderabad\n",
      "Haridwar\n"
     ]
    }
   ],
   "source": [
    "list1=['Hyderabad','delhi','chenna#i','blr','Haridwar']\n",
    "for i in range(len(list1)):\n",
    "    if list1[i].lower()[0]=='h':\n",
    "        print(list1[i])"
   ]
  },
  {
   "cell_type": "code",
   "execution_count": 10,
   "id": "c679bb40",
   "metadata": {},
   "outputs": [
    {
     "name": "stdout",
     "output_type": "stream",
     "text": [
      "omkar.nallagoni@gmail.com\n",
      "nallagoni\n",
      "saisri.saga@gmail.com\n",
      "saga\n",
      "santosh.kadam@gmail.com\n",
      "kadam\n"
     ]
    }
   ],
   "source": [
    "list1=['omkar.nallagoni@gmail.com',\n",
    "       'saisri.saga@gmail.com',\n",
    "       'santosh.kadam@gmail.com']\n",
    "#print the second name\n",
    "for i in list1:\n",
    "    print(i)\n",
    "    sec_name=i[i.find('.')+1:i.find('@')]\n",
    "    print(sec_name)\n"
   ]
  },
  {
   "cell_type": "code",
   "execution_count": 9,
   "id": "45b46f7a",
   "metadata": {},
   "outputs": [
    {
     "data": {
      "text/plain": [
       "12"
      ]
     },
     "execution_count": 9,
     "metadata": {},
     "output_type": "execute_result"
    }
   ],
   "source": [
    "'saisri@gmail.com'.find('.')\n",
    "#to find the index number"
   ]
  },
  {
   "cell_type": "code",
   "execution_count": 36,
   "id": "113909b7",
   "metadata": {},
   "outputs": [
    {
     "name": "stdout",
     "output_type": "stream",
     "text": [
      "omkar.nallagoni@gmail.com\n",
      "kadam\n",
      "nallagoni\n",
      "saisri.saga@gmail.com\n",
      "kadam\n",
      "saga\n",
      "santosh.kadam@gmail.com\n",
      "kadam\n",
      "kadam\n"
     ]
    }
   ],
   "source": [
    "list1=['omkar.nallagoni@gmail.com',\n",
    "       'saisri.saga@gmail.com',\n",
    "       'santosh.kadam@gmail.com']\n",
    "for i in list1:\n",
    "    print(i)\n",
    "    sec_name:i[i.find('.')+1:i.find('@')]\n",
    "    print(sec_name)\n",
    "    alter_sec_name=i.split('@')[0].split('.')[1]\n",
    "    print(alter_sec_name)"
   ]
  },
  {
   "cell_type": "markdown",
   "id": "e5b8d2c4",
   "metadata": {},
   "source": [
    "# append method"
   ]
  },
  {
   "cell_type": "code",
   "execution_count": 14,
   "id": "6eb49b63",
   "metadata": {},
   "outputs": [
    {
     "data": {
      "text/plain": [
       "[100, 200, 300, 400]"
      ]
     },
     "execution_count": 14,
     "metadata": {},
     "output_type": "execute_result"
    }
   ],
   "source": [
    "list1=[100,200,300]\n",
    "list1.append(400)\n",
    "list1"
   ]
  },
  {
   "cell_type": "code",
   "execution_count": 20,
   "id": "853d2def",
   "metadata": {},
   "outputs": [
    {
     "data": {
      "text/plain": [
       "[[20, 30, 40], 'python']"
      ]
     },
     "execution_count": 20,
     "metadata": {},
     "output_type": "execute_result"
    }
   ],
   "source": [
    "l1=[]\n",
    "l1.append([20,30,40])\n",
    "l1.append('python')\n",
    "l1\n",
    "#append method will append the data at last index"
   ]
  },
  {
   "cell_type": "code",
   "execution_count": 32,
   "id": "8a16289f",
   "metadata": {},
   "outputs": [
    {
     "data": {
      "text/plain": [
       "['Hyderabad', 'delhi', 'chenna#i', 'Haridwar']"
      ]
     },
     "execution_count": 32,
     "metadata": {},
     "output_type": "execute_result"
    }
   ],
   "source": [
    "#insted of creating we are creating an empty list and we are append it\n",
    "list1=['Hyderabad','delhi','chenna#i','blr','Haridwar']\n",
    "city_list=[]\n",
    "for i in list1:\n",
    "    if len(i)>=4:\n",
    "        city_list.append(i)\n",
    "city_list"
   ]
  },
  {
   "cell_type": "code",
   "execution_count": 42,
   "id": "f2c65d1b",
   "metadata": {},
   "outputs": [
    {
     "ename": "AttributeError",
     "evalue": "'list' object has no attribute 'appned'",
     "output_type": "error",
     "traceback": [
      "\u001b[1;31m---------------------------------------------------------------------------\u001b[0m",
      "\u001b[1;31mAttributeError\u001b[0m                            Traceback (most recent call last)",
      "Cell \u001b[1;32mIn[42], line 7\u001b[0m\n\u001b[0;32m      5\u001b[0m \u001b[38;5;28;01mfor\u001b[39;00m i \u001b[38;5;129;01min\u001b[39;00m list1:\n\u001b[0;32m      6\u001b[0m     first\u001b[38;5;241m.\u001b[39mappend(i\u001b[38;5;241m.\u001b[39msplit(\u001b[38;5;124m'\u001b[39m\u001b[38;5;124m.\u001b[39m\u001b[38;5;124m'\u001b[39m)[\u001b[38;5;241m0\u001b[39m])\n\u001b[1;32m----> 7\u001b[0m     \u001b[43msecond\u001b[49m\u001b[38;5;241;43m.\u001b[39;49m\u001b[43mappned\u001b[49m(i[i\u001b[38;5;241m.\u001b[39mfind(\u001b[38;5;124m'\u001b[39m\u001b[38;5;124m.\u001b[39m\u001b[38;5;124m'\u001b[39m)\u001b[38;5;241m+\u001b[39m\u001b[38;5;241m1\u001b[39m:i\u001b[38;5;241m.\u001b[39mfind(\u001b[38;5;124m'\u001b[39m\u001b[38;5;124m@\u001b[39m\u001b[38;5;124m'\u001b[39m)])\n\u001b[0;32m      8\u001b[0m \u001b[38;5;28;01mreturn\u001b[39;00m(first,second)\n\u001b[0;32m      9\u001b[0m list1[\u001b[38;5;124m'\u001b[39m\u001b[38;5;124momkar.nallagoni@gmail.com\u001b[39m\u001b[38;5;124m'\u001b[39m,\n\u001b[0;32m     10\u001b[0m        \u001b[38;5;124m'\u001b[39m\u001b[38;5;124msaisri.saga@gmail.com\u001b[39m\u001b[38;5;124m'\u001b[39m,\n\u001b[0;32m     11\u001b[0m        \u001b[38;5;124m'\u001b[39m\u001b[38;5;124msantosh.kadam@gmail.com\u001b[39m\u001b[38;5;124m'\u001b[39m]\n",
      "\u001b[1;31mAttributeError\u001b[0m: 'list' object has no attribute 'appned'"
     ]
    }
   ],
   "source": [
    "list1=['omkar.nallagoni@gmail.com',\n",
    "       'saisri.saga@gmail.com',\n",
    "       'santosh.kadam@gmail.com']\n",
    "first,second=[],[]\n",
    "for i in list1:\n",
    "    first.append(i.split('.')[0])\n",
    "    second.appned(i[i.find('.')+1:i.find('@')])\n",
    "return(first,second)\n"
   ]
  },
  {
   "cell_type": "code",
   "execution_count": null,
   "id": "5d26176d",
   "metadata": {},
   "outputs": [],
   "source": [
    "#wap ask the user to get 10 random numbers between 10 to 50\n",
    "#get the even and odd number form those 10 random numbers\n",
    "\n",
    "#take two empty list: even and odd\n",
    "#sace the resrults in evan and odd"
   ]
  },
  {
   "cell_type": "code",
   "execution_count": 57,
   "id": "a6e3cff2",
   "metadata": {},
   "outputs": [
    {
     "data": {
      "text/plain": [
       "[37, 37, 33, 25]"
      ]
     },
     "execution_count": 57,
     "metadata": {},
     "output_type": "execute_result"
    }
   ],
   "source": [
    "import random\n",
    "even,odd=[],[]\n",
    "for i in range(10):\n",
    "    n=random.randint(1,50)\n",
    "    if n%2==0:\n",
    "        even.append(n)\n",
    "    else:\n",
    "        odd.append(n)  \n",
    "even \n",
    "odd"
   ]
  },
  {
   "cell_type": "code",
   "execution_count": null,
   "id": "6108e74d",
   "metadata": {},
   "outputs": [],
   "source": [
    "#list comprehenshion"
   ]
  },
  {
   "cell_type": "code",
   "execution_count": 59,
   "id": "7e107d12",
   "metadata": {},
   "outputs": [
    {
     "data": {
      "text/plain": [
       "['hyderabad', 'delhi', 'chennai']"
      ]
     },
     "execution_count": 59,
     "metadata": {},
     "output_type": "execute_result"
    }
   ],
   "source": [
    "list1=['hyderabad','delhi','chennai','blr']\n",
    "city_list=[]\n",
    "for i in list1:\n",
    "    if len(i)>=4:\n",
    "        city_list.append(i)\n",
    "city_list \n",
    "\n",
    "#start: you have taken an empyt list\n",
    "#end: append the results\n",
    "\n",
    "output=[i for i in list1 if len(i)>=4]\n",
    "output\n",
    "\n",
    "#[<output> <for loop> <if condition>]"
   ]
  },
  {
   "cell_type": "code",
   "execution_count": 65,
   "id": "0efa44b6",
   "metadata": {},
   "outputs": [
    {
     "data": {
      "text/plain": [
       "['chenna#i']"
      ]
     },
     "execution_count": 65,
     "metadata": {},
     "output_type": "execute_result"
    }
   ],
   "source": [
    "list1=['hyderabad','delhi','chenna#i','blr']\n",
    "city_list=[]\n",
    "for i in list1:\n",
    "    if '#' in i:\n",
    "           city_list.append(i)\n",
    "output1=[i for i in list1 if '#' in i ] \n",
    "output1"
   ]
  },
  {
   "cell_type": "code",
   "execution_count": 75,
   "id": "28fd3a4a",
   "metadata": {},
   "outputs": [
    {
     "data": {
      "text/plain": [
       "['even:0',\n",
       " 'odd:1',\n",
       " 'even:2',\n",
       " 'odd:3',\n",
       " 'even:4',\n",
       " 'odd:5',\n",
       " 'even:6',\n",
       " 'odd:7',\n",
       " 'even:8',\n",
       " 'odd:9']"
      ]
     },
     "execution_count": 75,
     "metadata": {},
     "output_type": "execute_result"
    }
   ],
   "source": [
    "even_odd=[]\n",
    "for i in range(10):\n",
    "    if i%2==0:\n",
    "        even_odd.append('even:{}'.format(i))\n",
    "    else:\n",
    "        even_odd.append('odd:{}'.format(i))\n",
    "even_odd        \n",
    "        \n",
    "output3=['even:{}'.format(i) if i%2==0 else 'odd:{}'.format(i) for i in range(10)]\n",
    "output3"
   ]
  },
  {
   "cell_type": "code",
   "execution_count": null,
   "id": "2c5ff049",
   "metadata": {},
   "outputs": [],
   "source": [
    "[<output> <for loop> <if condition>]  #it goes with if condition\n",
    "\n",
    "[<if output> <if_con> <else_op> <for>] #it goes with if else conditon"
   ]
  },
  {
   "cell_type": "code",
   "execution_count": null,
   "id": "3dafe571",
   "metadata": {},
   "outputs": [],
   "source": []
  },
  {
   "cell_type": "code",
   "execution_count": null,
   "id": "e3ed95f3",
   "metadata": {},
   "outputs": [],
   "source": []
  }
 ],
 "metadata": {
  "kernelspec": {
   "display_name": "Python 3 (ipykernel)",
   "language": "python",
   "name": "python3"
  },
  "language_info": {
   "codemirror_mode": {
    "name": "ipython",
    "version": 3
   },
   "file_extension": ".py",
   "mimetype": "text/x-python",
   "name": "python",
   "nbconvert_exporter": "python",
   "pygments_lexer": "ipython3",
   "version": "3.9.17"
  }
 },
 "nbformat": 4,
 "nbformat_minor": 5
}
