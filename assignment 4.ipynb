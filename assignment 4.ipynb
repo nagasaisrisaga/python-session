{
 "cells": [
  {
   "cell_type": "markdown",
   "id": "88c0c430",
   "metadata": {},
   "source": [
    "# 1Q"
   ]
  },
  {
   "cell_type": "code",
   "execution_count": 1,
   "id": "89d34ea6",
   "metadata": {},
   "outputs": [
    {
     "name": "stdout",
     "output_type": "stream",
     "text": [
      "the amount per an hour is 12$\n",
      "the amount pays for 37hr work is 444$\n"
     ]
    }
   ],
   "source": [
    "n=12\n",
    "print('the amount per an hour is {}$'.format(n))\n",
    "total=n*37\n",
    "print('the amount pays for 37hr work is {}$'.format(total))"
   ]
  },
  {
   "cell_type": "markdown",
   "id": "9ca63a24",
   "metadata": {},
   "source": [
    "# 2Q"
   ]
  },
  {
   "cell_type": "code",
   "execution_count": 5,
   "id": "fed33461",
   "metadata": {},
   "outputs": [
    {
     "name": "stdout",
     "output_type": "stream",
     "text": [
      "enter how many hours you worked:37\n",
      "enter how much money you get for 1hr:12\n",
      "the amount for your work is 444$.\n"
     ]
    }
   ],
   "source": [
    "n1=eval(input('enter how many hours you worked:'))\n",
    "n2=eval(input('enter how much money you get for 1hr:'))\n",
    "total=n1*n2\n",
    "print('the amount for your work is {}$'.format(total),\n",
    "      '.',sep='')"
   ]
  },
  {
   "cell_type": "markdown",
   "id": "1b8e0661",
   "metadata": {},
   "source": [
    "# 3Q"
   ]
  },
  {
   "cell_type": "code",
   "execution_count": 10,
   "id": "ba24c8c3",
   "metadata": {},
   "outputs": [
    {
     "name": "stdout",
     "output_type": "stream",
     "text": [
      "enter your Quiz 1 marks out of 20/13\n",
      "enter your Quiz 2 marks marks out of 20/16\n",
      "enter your class test marks marks out of 50/49\n",
      "enter your assignment marks marks out of 100/60\n",
      "enter your project marks marks out of 200/136\n",
      "your total overall marks for the academics is 54.8\n"
     ]
    }
   ],
   "source": [
    "n1=eval(input('enter your Quiz 1 marks out of 20/'))\n",
    "n2=eval(input('enter your Quiz 2 marks marks out of 20/'))\n",
    "n3=eval(input('enter your class test marks marks out of 50/'))\n",
    "n4=eval(input('enter your assignment marks marks out of 100/'))\n",
    "n5=eval(input('enter your project marks marks out of 200/'))\n",
    "sum=n1+n2+n3+n4+n5\n",
    "average=sum/5\n",
    "print('your total overall marks for the academics is {}'.format(average))"
   ]
  },
  {
   "cell_type": "markdown",
   "id": "1d451ba0",
   "metadata": {},
   "source": [
    "# 4Q"
   ]
  },
  {
   "cell_type": "code",
   "execution_count": 1,
   "id": "faf9004a",
   "metadata": {},
   "outputs": [
    {
     "name": "stdout",
     "output_type": "stream",
     "text": [
      "Enter the number:12345\n",
      "Sum of the digits= 15\n"
     ]
    }
   ],
   "source": [
    "n=int(input('Enter the number:'))\n",
    "dig=n\n",
    "i=0\n",
    "while n>0:\n",
    "    dig=n%10\n",
    "    i+=dig\n",
    "    n//=10\n",
    "print('Sum of the digits=',i)"
   ]
  },
  {
   "cell_type": "markdown",
   "id": "c649a59b",
   "metadata": {},
   "source": [
    "# 5Q"
   ]
  },
  {
   "cell_type": "code",
   "execution_count": 6,
   "id": "a81aeac5",
   "metadata": {},
   "outputs": [
    {
     "name": "stdout",
     "output_type": "stream",
     "text": [
      "enter the five digit number:12345\n",
      "addition of the number: 1\n"
     ]
    }
   ],
   "source": [
    "n=eval(input('enter the five digit number:'))\n",
    "dig=n\n",
    "i=1\n",
    "while n<0:\n",
    "    dig=n+1\n",
    "    i=i+1\n",
    "print('addition of the number:',i)"
   ]
  },
  {
   "cell_type": "markdown",
   "id": "64b5884b",
   "metadata": {},
   "source": [
    "# 6Q"
   ]
  },
  {
   "cell_type": "code",
   "execution_count": 19,
   "id": "51d59609",
   "metadata": {},
   "outputs": [
    {
     "name": "stdout",
     "output_type": "stream",
     "text": [
      "enter your Quiz 1 marks out of 20/13\n",
      "enter your Quiz 2 marks marks out of 20/15\n",
      "enter your class test marks marks out of 50/40\n",
      "enter your assignment marks marks out of 100/60\n",
      "enter your project marks marks out of 200/156\n",
      "your total overall marks for the academics is 56.8\n",
      "second class\n"
     ]
    }
   ],
   "source": [
    "n1=eval(input('enter your Quiz 1 marks out of 20/'))\n",
    "n2=eval(input('enter your Quiz 2 marks marks out of 20/'))\n",
    "n3=eval(input('enter your class test marks marks out of 50/'))\n",
    "n4=eval(input('enter your assignment marks marks out of 100/'))\n",
    "n5=eval(input('enter your project marks marks out of 200/'))\n",
    "sum=n1+n2+n3+n4+n5\n",
    "average=sum/5\n",
    "print('your total overall marks for the academics is {}'.format(average))\n",
    "if average>=60:\n",
    "    print('first class')\n",
    "elif average>=40:\n",
    "    print('second class')\n",
    "else:\n",
    "    print('fail')"
   ]
  },
  {
   "cell_type": "markdown",
   "id": "9e67bb8e",
   "metadata": {},
   "source": [
    "# 7Q"
   ]
  },
  {
   "cell_type": "code",
   "execution_count": 4,
   "id": "84f22a57",
   "metadata": {},
   "outputs": [
    {
     "name": "stdout",
     "output_type": "stream",
     "text": [
      "enter how many hours you worked:37\n",
      "enter how much money you get for 1hr:12\n",
      "the amount for your work is 444$\n"
     ]
    }
   ],
   "source": [
    "n1=eval(input('enter how many hours you worked:'))\n",
    "n2=eval(input('enter how much money you get for 1hr:'))\n",
    "total=n1*n2\n",
    "print('the amount for your work is {}$'.format(total))"
   ]
  },
  {
   "cell_type": "markdown",
   "id": "898a77d5",
   "metadata": {},
   "source": [
    "# 8Q"
   ]
  },
  {
   "cell_type": "code",
   "execution_count": 13,
   "id": "a146ec13",
   "metadata": {},
   "outputs": [
    {
     "name": "stdout",
     "output_type": "stream",
     "text": [
      "enter how many hours you worked:37\n",
      "enter how much money you get for 1hr:nine\n",
      "name 'nine' is not defined\n",
      "Error,please enter numeric input\n"
     ]
    }
   ],
   "source": [
    "try:\n",
    "    n1=eval(input('enter how many hours you worked:'))\n",
    "    n2=eval(input('enter how much money you get for 1hr:'))\n",
    "    total=n1*n2\n",
    "    print('the amount for your work is {}$'.format(total))\n",
    "except Exception as e:\n",
    "    print(e)\n",
    "    print('Error,please enter numeric input')"
   ]
  },
  {
   "cell_type": "markdown",
   "id": "c6511729",
   "metadata": {},
   "source": [
    "# 9Q"
   ]
  },
  {
   "cell_type": "code",
   "execution_count": 19,
   "id": "7646dde4",
   "metadata": {},
   "outputs": [
    {
     "name": "stdout",
     "output_type": "stream",
     "text": [
      "enter a legth in centimeters:10\n",
      "the given lenth in inch is 4\n"
     ]
    }
   ],
   "source": [
    "n=eval(input('enter a legth in centimeters:'))\n",
    "if n<=0:\n",
    "    print('entry is invalid')\n",
    "elif n>=0:\n",
    "    total=round(n*0.393701)\n",
    "    print('the given lenth in inch is',total)\n",
    "    "
   ]
  },
  {
   "cell_type": "markdown",
   "id": "34545391",
   "metadata": {},
   "source": [
    "# 10Q"
   ]
  },
  {
   "cell_type": "code",
   "execution_count": 49,
   "id": "abc55143",
   "metadata": {},
   "outputs": [
    {
     "name": "stdout",
     "output_type": "stream",
     "text": [
      "enter the temperature number:50\n",
      "the converted temperature from celsius to Fahrenheite is 122.0\n",
      "the converted temperature from fahrenheite to celsius is 10.0\n"
     ]
    }
   ],
   "source": [
    "n=eval(input('enter the temperature number:'))\n",
    "def celsius():\n",
    "    F=(n*9/5) + 32 \n",
    "    print('the converted temperature from celsius to Fahrenheite is',F)\n",
    "celsius() \n",
    "def Fahrenheite():\n",
    "    C=(n-32)*5/9 \n",
    "    print('the converted temperature from fahrenheite to celsius is',C)\n",
    "Fahrenheite()    "
   ]
  },
  {
   "cell_type": "markdown",
   "id": "a4f2530f",
   "metadata": {},
   "source": [
    "# 11Q"
   ]
  },
  {
   "cell_type": "code",
   "execution_count": 58,
   "id": "6ea3c82c",
   "metadata": {},
   "outputs": [
    {
     "name": "stdout",
     "output_type": "stream",
     "text": [
      "enter the temperature in celsius:100\n",
      "the temperature is at boiling point\n"
     ]
    }
   ],
   "source": [
    "n=eval(input('enter the temperature in celsius:'))\n",
    "if n<=-273.15:\n",
    "    print('the temperature is invalid because it is below absolute zero')\n",
    "elif n==-273.15:\n",
    "    print('the temperature is absolute 0')\n",
    "elif n>-273.15 and n<0:\n",
    "    print('the temperature is below freezing')\n",
    "elif n==0:\n",
    "    print('the temperature is at freezing point')\n",
    "elif n>0 and n<100:\n",
    "    print('the temperature is in the normal range')\n",
    "elif n==100:\n",
    "    print('the temperature is at boiling point')\n",
    "else:\n",
    "    print('the temperature is above the boiling point')"
   ]
  },
  {
   "cell_type": "markdown",
   "id": "c4ae2460",
   "metadata": {},
   "source": [
    "# Q12"
   ]
  },
  {
   "cell_type": "code",
   "execution_count": 59,
   "id": "728f3532",
   "metadata": {},
   "outputs": [
    {
     "name": "stdout",
     "output_type": "stream",
     "text": [
      "how many credits you have taken:50\n",
      "you are a sophomore\n"
     ]
    }
   ],
   "source": [
    "n=eval(input('how many credits you have taken:'))\n",
    "if n<=23:\n",
    "    print('you are a freshman')\n",
    "elif n>24 and n<54:\n",
    "    print('you are a sophomore')\n",
    "elif n>54 and n<84:\n",
    "    print('you are a senior')\n",
    "    "
   ]
  },
  {
   "cell_type": "markdown",
   "id": "32b65d57",
   "metadata": {},
   "source": [
    "# Q13"
   ]
  },
  {
   "cell_type": "code",
   "execution_count": 110,
   "id": "7c739994",
   "metadata": {},
   "outputs": [
    {
     "name": "stdout",
     "output_type": "stream",
     "text": [
      "10\n",
      "guess the number:10\n",
      "you got this!\n",
      "time taken to crack the answer 1.4359748363494873\n"
     ]
    }
   ],
   "source": [
    "import random\n",
    "import time\n",
    "n=random.randint(1,10)\n",
    "print(n)\n",
    "start=time.time()\n",
    "n1=eval(input('guess the number:'))\n",
    "if n==n1:\n",
    "    print('you got this!')\n",
    "else:\n",
    "    print('you lost the game')\n",
    "    print('better luck next time!')\n",
    "end=time.time()\n",
    "print('time taken to crack the answer',end-start)\n",
    "    "
   ]
  },
  {
   "cell_type": "markdown",
   "id": "ff6e7ca5",
   "metadata": {},
   "source": [
    "# Q14"
   ]
  },
  {
   "cell_type": "code",
   "execution_count": 117,
   "id": "2b4e8d20",
   "metadata": {},
   "outputs": [
    {
     "name": "stdout",
     "output_type": "stream",
     "text": [
      "how many items you are buying:10\n",
      "your charges are 12$ per item and your total charges are 120$\n"
     ]
    }
   ],
   "source": [
    "n=eval(input('how many items you are buying:'))\n",
    "if n<=10:\n",
    "    t1=n*12\n",
    "    print('your charges are 12$ per item and your total charges are {}$'.format(t1))\n",
    "elif n>10 and n<99:\n",
    "    t2=n*10\n",
    "    print('your charges are 10$ per item and your total charges are {}$'.format(t2))\n",
    "elif n>=100:\n",
    "    t3=n*7\n",
    "    print('your charges are 7$ per item and your total charges are {}$'.format(t3))\n",
    "    "
   ]
  },
  {
   "cell_type": "markdown",
   "id": "a632192f",
   "metadata": {},
   "source": [
    "# Q15"
   ]
  },
  {
   "cell_type": "code",
   "execution_count": 125,
   "id": "450d17ff",
   "metadata": {},
   "outputs": [
    {
     "name": "stdout",
     "output_type": "stream",
     "text": [
      "enter a number:10\n",
      "enter a number:11\n",
      "not close\n"
     ]
    }
   ],
   "source": [
    "n1=eval(input('enter a number:'))\n",
    "n2=eval(input('enter a number:'))\n",
    "a=0\n",
    "if n1>n2:\n",
    "    a=n1-n2\n",
    "else:\n",
    "    a=n2-n1\n",
    "if a<=0.001:\n",
    "    print('close')\n",
    "else:\n",
    "    print('not close')"
   ]
  },
  {
   "cell_type": "markdown",
   "id": "40008b80",
   "metadata": {},
   "source": [
    "# Q16"
   ]
  },
  {
   "cell_type": "code",
   "execution_count": 142,
   "id": "c01b4553",
   "metadata": {},
   "outputs": [
    {
     "name": "stdout",
     "output_type": "stream",
     "text": [
      "enter a year:4012\n",
      "its a leap year\n"
     ]
    }
   ],
   "source": [
    "n=eval(input('enter a year:'))\n",
    "def leap_year():\n",
    "    if n%4==0:\n",
    "        print('its a leap year')\n",
    "    elif n%100==0:\n",
    "        print('its not a leap year')\n",
    "    elif n%400==0:\n",
    "        print('its a leap year')\n",
    "    else:\n",
    "        print('its not a leap year')\n",
    "leap_year()        "
   ]
  },
  {
   "cell_type": "markdown",
   "id": "9039b571",
   "metadata": {},
   "source": [
    "# Q17"
   ]
  },
  {
   "cell_type": "code",
   "execution_count": 2,
   "id": "9f664a62",
   "metadata": {},
   "outputs": [
    {
     "name": "stdout",
     "output_type": "stream",
     "text": [
      "enter a number:3\n",
      "1\n"
     ]
    }
   ],
   "source": [
    "n=eval(input('enter a number:'))\n",
    "n2=n%n\n",
    "print(n2)"
   ]
  },
  {
   "cell_type": "markdown",
   "id": "9238be6a",
   "metadata": {},
   "source": [
    "# Q18"
   ]
  },
  {
   "cell_type": "code",
   "execution_count": 6,
   "id": "6e9cd48a",
   "metadata": {},
   "outputs": [
    {
     "name": "stdout",
     "output_type": "stream",
     "text": [
      "enter the time betwenn 1 and 24:1\n",
      "enter am or pm:am\n",
      "enter how many hrs you want go further:3\n"
     ]
    },
    {
     "ename": "TypeError",
     "evalue": "'>' not supported between instances of 'str' and 'int'",
     "output_type": "error",
     "traceback": [
      "\u001b[1;31m---------------------------------------------------------------------------\u001b[0m",
      "\u001b[1;31mTypeError\u001b[0m                                 Traceback (most recent call last)",
      "Cell \u001b[1;32mIn[6], line 4\u001b[0m\n\u001b[0;32m      2\u001b[0m n2\u001b[38;5;241m=\u001b[39m\u001b[38;5;28minput\u001b[39m(\u001b[38;5;124m'\u001b[39m\u001b[38;5;124menter am or pm:\u001b[39m\u001b[38;5;124m'\u001b[39m)\n\u001b[0;32m      3\u001b[0m n3\u001b[38;5;241m=\u001b[39m\u001b[38;5;28meval\u001b[39m(\u001b[38;5;28minput\u001b[39m(\u001b[38;5;124m'\u001b[39m\u001b[38;5;124menter how many hrs you want go further:\u001b[39m\u001b[38;5;124m'\u001b[39m))\n\u001b[1;32m----> 4\u001b[0m \u001b[38;5;28;01mif\u001b[39;00m \u001b[43mn2\u001b[49m\u001b[38;5;241;43m>\u001b[39;49m\u001b[38;5;241;43m1\u001b[39;49m \u001b[38;5;129;01mand\u001b[39;00m n2\u001b[38;5;241m<\u001b[39m\u001b[38;5;241m12\u001b[39m:\n\u001b[0;32m      5\u001b[0m     n\u001b[38;5;241m=\u001b[39mn1\u001b[38;5;241m-\u001b[39mn3\n\u001b[0;32m      6\u001b[0m     \u001b[38;5;28mprint\u001b[39m(\u001b[38;5;124m'\u001b[39m\u001b[38;5;124mnew hours is \u001b[39m\u001b[38;5;132;01m{}\u001b[39;00m\u001b[38;5;132;01m{}\u001b[39;00m\u001b[38;5;124m'\u001b[39m\u001b[38;5;241m.\u001b[39mformat(n,n2))\n",
      "\u001b[1;31mTypeError\u001b[0m: '>' not supported between instances of 'str' and 'int'"
     ]
    }
   ],
   "source": [
    "n1=eval(input('enter the time betwenn 1 and 24:'))\n",
    "n2=input('enter am or pm:')\n",
    "n3=eval(input('enter how many hrs you want go further:'))\n",
    "if n2>1 and n2<12:\n",
    "    n=n1-n3\n",
    "    print('new hours is {}{}'.format(n,n2))\n",
    "elif n2>12 and n2<24:\n",
    "    p=n1-n3\n",
    "    print('new hour is {}{}'.format(p,n2))\n",
    "       "
   ]
  },
  {
   "cell_type": "code",
   "execution_count": null,
   "id": "3028ae2b",
   "metadata": {},
   "outputs": [],
   "source": []
  },
  {
   "cell_type": "code",
   "execution_count": null,
   "id": "004b31bc",
   "metadata": {},
   "outputs": [],
   "source": []
  },
  {
   "cell_type": "code",
   "execution_count": null,
   "id": "ddd2f68e",
   "metadata": {},
   "outputs": [],
   "source": []
  },
  {
   "cell_type": "code",
   "execution_count": null,
   "id": "681924a7",
   "metadata": {},
   "outputs": [],
   "source": []
  },
  {
   "cell_type": "code",
   "execution_count": null,
   "id": "c739bad7",
   "metadata": {},
   "outputs": [],
   "source": []
  },
  {
   "cell_type": "code",
   "execution_count": null,
   "id": "e2318e77",
   "metadata": {},
   "outputs": [],
   "source": []
  },
  {
   "cell_type": "code",
   "execution_count": null,
   "id": "f6908680",
   "metadata": {},
   "outputs": [],
   "source": []
  },
  {
   "cell_type": "code",
   "execution_count": null,
   "id": "285952f6",
   "metadata": {},
   "outputs": [],
   "source": []
  },
  {
   "cell_type": "code",
   "execution_count": null,
   "id": "2743152c",
   "metadata": {},
   "outputs": [],
   "source": []
  },
  {
   "cell_type": "code",
   "execution_count": null,
   "id": "5011eb9d",
   "metadata": {},
   "outputs": [],
   "source": []
  }
 ],
 "metadata": {
  "kernelspec": {
   "display_name": "Python 3 (ipykernel)",
   "language": "python",
   "name": "python3"
  },
  "language_info": {
   "codemirror_mode": {
    "name": "ipython",
    "version": 3
   },
   "file_extension": ".py",
   "mimetype": "text/x-python",
   "name": "python",
   "nbconvert_exporter": "python",
   "pygments_lexer": "ipython3",
   "version": "3.9.17"
  }
 },
 "nbformat": 4,
 "nbformat_minor": 5
}
