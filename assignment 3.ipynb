{
 "cells": [
  {
   "cell_type": "markdown",
   "id": "101925a5",
   "metadata": {},
   "source": [
    "# 1. without arguments"
   ]
  },
  {
   "cell_type": "code",
   "execution_count": null,
   "id": "3efddf21",
   "metadata": {},
   "outputs": [],
   "source": [
    "def square():\n",
    "    try:\n",
    "        n1=eval(input('enter a number:'))\n",
    "        total=n1*n1\n",
    "        print('the square of {} is {}'.format(n1,total),\n",
    "             '.',sep='')\n",
    "    except Exceptions as e:\n",
    "        print(e)    \n",
    "    return(total)   "
   ]
  },
  {
   "cell_type": "code",
   "execution_count": null,
   "id": "cfe5db46",
   "metadata": {},
   "outputs": [],
   "source": [
    "square()"
   ]
  },
  {
   "cell_type": "code",
   "execution_count": null,
   "id": "6e1448d6",
   "metadata": {},
   "outputs": [],
   "source": [
    "number_of_5=square()\n",
    "print(number_of_5)"
   ]
  },
  {
   "cell_type": "markdown",
   "id": "b0d6cf4f",
   "metadata": {},
   "source": [
    "# with arguments"
   ]
  },
  {
   "cell_type": "code",
   "execution_count": null,
   "id": "018f7728",
   "metadata": {},
   "outputs": [],
   "source": [
    "def square(n1):\n",
    "    try:\n",
    "        total=n1*n1\n",
    "        print('the square of {} is {}'.format(n1,total),\n",
    "             '.',sep='')\n",
    "    except Exceptions as e:\n",
    "        print(e)    \n",
    "    return(total) \n",
    "\n",
    "square(5)"
   ]
  },
  {
   "cell_type": "code",
   "execution_count": null,
   "id": "3de90fd6",
   "metadata": {},
   "outputs": [],
   "source": [
    "number=square(5)\n",
    "print(number)"
   ]
  },
  {
   "cell_type": "markdown",
   "id": "be0c6807",
   "metadata": {},
   "source": [
    "# default argumnet"
   ]
  },
  {
   "cell_type": "code",
   "execution_count": null,
   "id": "e1341c00",
   "metadata": {},
   "outputs": [],
   "source": [
    "def square(n1=5):\n",
    "    try:\n",
    "        total=n1*n1\n",
    "        print('the square of {} is {}'.format(n1,total),\n",
    "             '.',sep='')\n",
    "    except Exceptions as e:\n",
    "        print(e)    \n",
    "    return(total) \n",
    "\n",
    "square(n1=5)"
   ]
  },
  {
   "cell_type": "code",
   "execution_count": null,
   "id": "79aa972f",
   "metadata": {},
   "outputs": [],
   "source": [
    "number=square(n1=5)\n",
    "print(number)"
   ]
  },
  {
   "cell_type": "markdown",
   "id": "24bfd3fc",
   "metadata": {},
   "source": [
    "# 2.without arguments"
   ]
  },
  {
   "cell_type": "code",
   "execution_count": null,
   "id": "cd102461",
   "metadata": {},
   "outputs": [],
   "source": [
    "def _squares():\n",
    "    try:\n",
    "        n1=eval(input('enter a number:'))\n",
    "        print(n1,n1*2,n1*3,n1*4,sep='---')\n",
    "    except Exceptions as e:\n",
    "        print(e)\n",
    "    return(n1)    \n",
    "\n",
    "_squares()   \n"
   ]
  },
  {
   "cell_type": "code",
   "execution_count": null,
   "id": "0fc1e7fa",
   "metadata": {},
   "outputs": [],
   "source": [
    "squares=_squares()\n",
    "print(squares)"
   ]
  },
  {
   "cell_type": "markdown",
   "id": "2225d169",
   "metadata": {},
   "source": [
    "# with arguments"
   ]
  },
  {
   "cell_type": "code",
   "execution_count": null,
   "id": "64bc9248",
   "metadata": {},
   "outputs": [],
   "source": [
    "def _squares(n1):\n",
    "    try:\n",
    "        print(n1,n1*2,n1*3,n1*4,sep='---')\n",
    "    except Exceptions as e:\n",
    "        print(e)\n",
    "    return(n1)    \n",
    "\n",
    "_squares(7)   \n"
   ]
  },
  {
   "cell_type": "code",
   "execution_count": null,
   "id": "113b7ce0",
   "metadata": {},
   "outputs": [],
   "source": [
    "squares=_squares(7)\n",
    "print(squares)"
   ]
  },
  {
   "cell_type": "markdown",
   "id": "fcffd311",
   "metadata": {},
   "source": [
    "# default argument"
   ]
  },
  {
   "cell_type": "code",
   "execution_count": null,
   "id": "919732fc",
   "metadata": {},
   "outputs": [],
   "source": [
    "def _squares(n1=7):\n",
    "    try:\n",
    "        print(n1,n1*2,n1*3,n1*4,sep='---')\n",
    "    except Exceptions as e:\n",
    "        print(e)\n",
    "    return(n1)    \n",
    "\n",
    "_squares(n1=7)   \n"
   ]
  },
  {
   "cell_type": "code",
   "execution_count": null,
   "id": "d8cd30c8",
   "metadata": {},
   "outputs": [],
   "source": [
    "squares=_squares(n1=7)\n",
    "print(squares)"
   ]
  },
  {
   "cell_type": "markdown",
   "id": "4f2ed64b",
   "metadata": {},
   "source": [
    "# 3.without arguments"
   ]
  },
  {
   "cell_type": "code",
   "execution_count": null,
   "id": "682b45e1",
   "metadata": {},
   "outputs": [],
   "source": [
    "def kilograms():\n",
    "    try:\n",
    "        weight=eval(input('enter your weight in km:'))\n",
    "        pounds=round(2.2*weight)\n",
    "        print('weights in pounds:',pounds)\n",
    "    except Exceptions as e:\n",
    "        print(e)\n",
    "    return(pounds)    \n",
    "kilograms()"
   ]
  },
  {
   "cell_type": "code",
   "execution_count": null,
   "id": "b72365f6",
   "metadata": {},
   "outputs": [],
   "source": [
    "_kilograms=kilograms()\n",
    "print(_kilograms)"
   ]
  },
  {
   "cell_type": "markdown",
   "id": "5ad6985f",
   "metadata": {},
   "source": [
    "# with arguments"
   ]
  },
  {
   "cell_type": "code",
   "execution_count": null,
   "id": "f5cdd4b9",
   "metadata": {},
   "outputs": [],
   "source": [
    "def kilograms(weight):\n",
    "    try:\n",
    "        pounds=round(2.2*weight)\n",
    "        print('weights in pounds:',pounds)\n",
    "    except Exceptions as e:\n",
    "        print(e)\n",
    "    return(pounds)    \n",
    "kilograms(7)"
   ]
  },
  {
   "cell_type": "code",
   "execution_count": null,
   "id": "94b5f918",
   "metadata": {},
   "outputs": [],
   "source": [
    "_kilograms=kilograms(7)\n",
    "print(_kilograms)"
   ]
  },
  {
   "cell_type": "markdown",
   "id": "4be63209",
   "metadata": {},
   "source": [
    "# default argument"
   ]
  },
  {
   "cell_type": "code",
   "execution_count": null,
   "id": "0934c869",
   "metadata": {},
   "outputs": [],
   "source": [
    "def kilograms(weight=7):\n",
    "    try:\n",
    "        pounds=round(2.2*weight)\n",
    "        print('weights in pounds:',pounds)\n",
    "    except Exceptions as e:\n",
    "        print(e)\n",
    "    return(pounds)    \n",
    "kilograms(weight=7)"
   ]
  },
  {
   "cell_type": "code",
   "execution_count": null,
   "id": "0223eb61",
   "metadata": {},
   "outputs": [],
   "source": [
    "_kilograms=kilograms(weight=7)\n",
    "print(_kilograms)"
   ]
  },
  {
   "cell_type": "markdown",
   "id": "4ea27824",
   "metadata": {},
   "source": [
    "# 4.without arguments"
   ]
  },
  {
   "cell_type": "code",
   "execution_count": null,
   "id": "6d1ab57d",
   "metadata": {},
   "outputs": [],
   "source": [
    "def avg():\n",
    "    try:\n",
    "        n1=eval(input('enter first numbers:'))\n",
    "        n2=eval(input('enter second numbers:'))\n",
    "        n3=eval(input('enter third numbers:'))\n",
    "        total=n1+n2+n3\n",
    "        avg=round(total/3)\n",
    "        print('{},{} and {} sum is {} and avg is {}'.format(n1,n2,n3,total,avg))\n",
    "    except Exceptions as e:\n",
    "        print(e)\n",
    "    return(total)    \n",
    "\n",
    "avg()        "
   ]
  },
  {
   "cell_type": "code",
   "execution_count": null,
   "id": "5c79eacc",
   "metadata": {},
   "outputs": [],
   "source": [
    "average=avg()\n",
    "print(average)"
   ]
  },
  {
   "cell_type": "markdown",
   "id": "dfd65a55",
   "metadata": {},
   "source": [
    "# with arguments"
   ]
  },
  {
   "cell_type": "code",
   "execution_count": null,
   "id": "104adab9",
   "metadata": {},
   "outputs": [],
   "source": [
    "def avg(n1,n2,n3):\n",
    "    try:\n",
    "        total=n1+n2+n3\n",
    "        avg=round(total/3)\n",
    "        print('{},{} and {} sum is {} and avg is {}'.format(n1,n2,n3,sum,avg))\n",
    "    except Exceptions as e:\n",
    "        print(e)\n",
    "    return(total)    \n",
    "\n",
    "avg(3,6,9)        "
   ]
  },
  {
   "cell_type": "code",
   "execution_count": null,
   "id": "7252b656",
   "metadata": {},
   "outputs": [],
   "source": [
    "average=avg(3,6,9)\n",
    "print(average)"
   ]
  },
  {
   "cell_type": "markdown",
   "id": "8de8ab69",
   "metadata": {},
   "source": [
    "# default argument"
   ]
  },
  {
   "cell_type": "code",
   "execution_count": null,
   "id": "a88c534e",
   "metadata": {},
   "outputs": [],
   "source": [
    "def avg(n1,n2,n3=9):\n",
    "    try:\n",
    "        total=n1+n2+n3\n",
    "        avg=round(total/3)\n",
    "        print('{},{} and {} sum is {} and avg is {}'.format(n1,n2,n3,sum,avg))\n",
    "    except Exceptions as e:\n",
    "        print(e)\n",
    "    return(total)    \n",
    "\n",
    "avg(3,6)        "
   ]
  },
  {
   "cell_type": "code",
   "execution_count": null,
   "id": "6f4e3a01",
   "metadata": {},
   "outputs": [],
   "source": [
    "average=avg(3,6)\n",
    "print(average)"
   ]
  },
  {
   "cell_type": "markdown",
   "id": "c4c806bd",
   "metadata": {},
   "source": [
    "# 5.without arguments"
   ]
  },
  {
   "cell_type": "code",
   "execution_count": null,
   "id": "f876863f",
   "metadata": {},
   "outputs": [],
   "source": [
    "def total_bill():\n",
    "    try:\n",
    "        meal=eval(input('price of the meal:'))\n",
    "        tip=eval(input('tip you want to leave:'))\n",
    "        total=meal+tip\n",
    "        print('the total meal amount is {} tip amount is {} total cost is {}'.format(meal,tip,total))\n",
    "    except Exceptions as e:\n",
    "        print(e)\n",
    "    return(total)\n",
    "\n",
    "total_bill()"
   ]
  },
  {
   "cell_type": "code",
   "execution_count": null,
   "id": "6ec5564c",
   "metadata": {},
   "outputs": [],
   "source": [
    "total=total_bill()\n",
    "print(total)"
   ]
  },
  {
   "cell_type": "markdown",
   "id": "b75e7b80",
   "metadata": {},
   "source": [
    "# with arguments"
   ]
  },
  {
   "cell_type": "code",
   "execution_count": null,
   "id": "06693919",
   "metadata": {},
   "outputs": [],
   "source": [
    "def total_bill(meal,tip):\n",
    "    try:\n",
    "        total=meal+tip\n",
    "        print('the total meal amount is {} tip amount is {} total cost is {}'.format(meal,tip,total))\n",
    "    except Exceptions as e:\n",
    "        print(e)\n",
    "    return(total)\n",
    "\n",
    "total_bill(5000,50)"
   ]
  },
  {
   "cell_type": "code",
   "execution_count": null,
   "id": "29b3a903",
   "metadata": {},
   "outputs": [],
   "source": [
    "total=total_bill(5000,50)\n",
    "print(total)"
   ]
  },
  {
   "cell_type": "markdown",
   "id": "7152cc83",
   "metadata": {},
   "source": [
    "# default argument"
   ]
  },
  {
   "cell_type": "code",
   "execution_count": null,
   "id": "7e7e663b",
   "metadata": {},
   "outputs": [],
   "source": [
    "def total_bill(meal,tip=50):\n",
    "    try:\n",
    "        total=meal+tip\n",
    "        print('the total meal amount is {} tip amount is {} total cost is {}'.format(meal,tip,total))\n",
    "    except Exceptions as e:\n",
    "        print(e)\n",
    "    return(total)\n",
    "\n",
    "total_bill(5000)"
   ]
  },
  {
   "cell_type": "code",
   "execution_count": null,
   "id": "2163e72d",
   "metadata": {},
   "outputs": [],
   "source": [
    "total=total_bill(5000)\n",
    "print(total)"
   ]
  },
  {
   "cell_type": "markdown",
   "id": "3da0d59d",
   "metadata": {},
   "source": [
    "# 6.without arguments"
   ]
  },
  {
   "cell_type": "code",
   "execution_count": null,
   "id": "2fd9f42a",
   "metadata": {},
   "outputs": [],
   "source": [
    "def ramesh():\n",
    "    try:\n",
    "        name=input('enter your name:')\n",
    "        n1=eval(input('enter your basic salary:'))\n",
    "        basicsalary=40\n",
    "        basicsalary=round((n1*basicsalary/100),2)\n",
    "        print('monthly basic salary is :{}'.format(basicsalary))\n",
    "        hra=20\n",
    "        HRA=round((n1*hra/100),2)\n",
    "        print('HRA is:{}'.format(HRA))\n",
    "        grossal=round((n1+basicsalary+HRA),2)\n",
    "        print('your gross salary is {}'.format(grossal))\n",
    "    except Exception as e:\n",
    "        print(e)\n",
    "    return(grossal)\n",
    "\n",
    "ramesh()"
   ]
  },
  {
   "cell_type": "code",
   "execution_count": null,
   "id": "ac5f22b2",
   "metadata": {},
   "outputs": [],
   "source": [
    "ramesh_salary=ramesh()\n",
    "print(ramesh_salary)"
   ]
  },
  {
   "cell_type": "markdown",
   "id": "d0082f06",
   "metadata": {},
   "source": [
    "# with argument\n"
   ]
  },
  {
   "cell_type": "code",
   "execution_count": null,
   "id": "26b973f5",
   "metadata": {},
   "outputs": [],
   "source": [
    "def ramesh(n1):\n",
    "    try:\n",
    "        input('enter your name:')\n",
    "        basicsalary=40\n",
    "        basicsalary=round((n1*basicsalary/100),2)\n",
    "        print('monthly basic salary is :{}'.format(basicsalary))\n",
    "        hra=20\n",
    "        HRA=round((n1*hra/100),2)\n",
    "        print('HRA is:{}'.format(HRA))\n",
    "        grossal=round((n1+basicsalary+HRA),2)\n",
    "        print('your gross salary is {}'.format(grossal))\n",
    "    except Exception as e:\n",
    "        print(e)\n",
    "    return(grossal)\n",
    "\n",
    "ramesh(20000)"
   ]
  },
  {
   "cell_type": "code",
   "execution_count": null,
   "id": "568dd213",
   "metadata": {},
   "outputs": [],
   "source": [
    "ramesh_salary=ramesh(20000)\n",
    "print(ramesh_salary)"
   ]
  },
  {
   "cell_type": "markdown",
   "id": "24d92559",
   "metadata": {},
   "source": [
    "# default argument"
   ]
  },
  {
   "cell_type": "code",
   "execution_count": null,
   "id": "f7cc8775",
   "metadata": {},
   "outputs": [],
   "source": [
    "def ramesh(n1=20000):\n",
    "    try:\n",
    "        input('enter your name:')\n",
    "        basicsalary=40\n",
    "        basicsalary=round((n1*basicsalary/100),2)\n",
    "        print('monthly basic salary is :{}'.format(basicsalary))\n",
    "        hra=20\n",
    "        HRA=round((n1*hra/100),2)\n",
    "        print('HRA is:{}'.format(HRA))\n",
    "        grossal=round((n1+basicsalary+HRA),2)\n",
    "        print('your gross salary is {}'.format(grossal))\n",
    "    except Exception as e:\n",
    "        print(e)\n",
    "    return(grossal)\n",
    "\n",
    "ramesh(n1=20000)"
   ]
  },
  {
   "cell_type": "code",
   "execution_count": null,
   "id": "4ca6c880",
   "metadata": {},
   "outputs": [],
   "source": [
    "ramesh_salary=ramesh(n1=20000)\n",
    "print(ramesh_salary)"
   ]
  },
  {
   "cell_type": "markdown",
   "id": "4efa4892",
   "metadata": {},
   "source": [
    "# 7.without argument"
   ]
  },
  {
   "cell_type": "code",
   "execution_count": null,
   "id": "b5639b38",
   "metadata": {},
   "outputs": [],
   "source": [
    "def distance():\n",
    "    try :\n",
    "        n1=eval(input('enter the distance of one end in km:'))\n",
    "        n2=eval(input('enter the distance of other end in km:'))        \n",
    "        n3=n1*1000+n2*1000\n",
    "        n4=round(n1*3280.84+n2*3280.82)\n",
    "        n5=round(n1*39370.1+n2*39370.1)\n",
    "        n6=n1*100000+n2*100000\n",
    "        print('lenght of the distance in meters',n3)\n",
    "        print('lenght of the distance in feet',n4)\n",
    "        print('lenght of the distance in inches',n5)\n",
    "        print('lenght of the distance in centimeters',n6)\n",
    "    except exception as e:\n",
    "        print(e)    \n",
    "    return(n5)\n",
    "\n",
    "distance()"
   ]
  },
  {
   "cell_type": "code",
   "execution_count": null,
   "id": "9365247c",
   "metadata": {},
   "outputs": [],
   "source": [
    "distance_of_two_ends=distance()\n",
    "print(distance_of_two_ends)"
   ]
  },
  {
   "cell_type": "markdown",
   "id": "87373cc9",
   "metadata": {},
   "source": [
    "# with aguments"
   ]
  },
  {
   "cell_type": "code",
   "execution_count": null,
   "id": "95ee00c1",
   "metadata": {},
   "outputs": [],
   "source": [
    "def distance(n1,n2):\n",
    "    try :\n",
    "        n3=n1*1000+n2*1000\n",
    "        n4=round(n1*3280.84+n2*3280.82)\n",
    "        n5=round(n1*39370.1+n2*39370.1)\n",
    "        n6=n1*100000+n2*100000\n",
    "        print('lenght of the distance in meters',n3)\n",
    "        print('lenght of the distance in feet',n4)\n",
    "        print('lenght of the distance in inches',n5)\n",
    "        print('lenght of the distance in centimeters',n6)\n",
    "    except exception as e:\n",
    "        print(e)    \n",
    "    return(n5)\n",
    "\n",
    "distance(6,3)"
   ]
  },
  {
   "cell_type": "code",
   "execution_count": null,
   "id": "ebb00ec7",
   "metadata": {},
   "outputs": [],
   "source": [
    "distance_of_two_ends=distance(6,3)\n",
    "print(distance_of_two_ends)"
   ]
  },
  {
   "cell_type": "markdown",
   "id": "70937fe4",
   "metadata": {},
   "source": [
    "# default argument"
   ]
  },
  {
   "cell_type": "code",
   "execution_count": null,
   "id": "e97bf1aa",
   "metadata": {},
   "outputs": [],
   "source": [
    "def distance(n1,n2=10):\n",
    "    try :\n",
    "        n3=n1*1000+n2*1000\n",
    "        n4=round(n1*3280.84+n2*3280.82)\n",
    "        n5=round(n1*39370.1+n2*39370.1)\n",
    "        n6=n1*100000+n2*100000\n",
    "        print('lenght of the distance in meters',n3)\n",
    "        print('lenght of the distance in feet',n4)\n",
    "        print('lenght of the distance in inches',n5)\n",
    "        print('lenght of the distance in centimeters',n6)\n",
    "    except exception as e:\n",
    "        print(e)    \n",
    "    return(n5)\n",
    "\n",
    "distance(6)"
   ]
  },
  {
   "cell_type": "code",
   "execution_count": null,
   "id": "56cbccae",
   "metadata": {},
   "outputs": [],
   "source": [
    "distance_of_two_ends=distance(6)\n",
    "print(distance_of_two_ends)"
   ]
  },
  {
   "cell_type": "markdown",
   "id": "b2d007d8",
   "metadata": {},
   "source": [
    "# 8.without argument"
   ]
  },
  {
   "cell_type": "code",
   "execution_count": null,
   "id": "5a961dc1",
   "metadata": {},
   "outputs": [],
   "source": [
    "def temperature():\n",
    "    try:\n",
    "        n1=eval(input('enter the temperature in F:'))\n",
    "        centigrade=round((n1-32)*5/9)\n",
    "        print(centigrade)\n",
    "    except Exceptions as e:\n",
    "        print(e)\n",
    "    return(centigrade)\n",
    "temperature()"
   ]
  },
  {
   "cell_type": "code",
   "execution_count": null,
   "id": "21f4ad27",
   "metadata": {},
   "outputs": [],
   "source": [
    "temp=temperature()\n",
    "print(temp)"
   ]
  },
  {
   "cell_type": "markdown",
   "id": "9e10896d",
   "metadata": {},
   "source": [
    "# with argument"
   ]
  },
  {
   "cell_type": "code",
   "execution_count": null,
   "id": "2a282583",
   "metadata": {},
   "outputs": [],
   "source": [
    "def temperature(n1):\n",
    "    try:\n",
    "        centigrade=round((n1-32)*5/9)\n",
    "        print(centigrade)\n",
    "    except Exceptions as e:\n",
    "        print(e)\n",
    "    return(centigrade)\n",
    "\n",
    "temperature(160)"
   ]
  },
  {
   "cell_type": "code",
   "execution_count": null,
   "id": "48872fdf",
   "metadata": {},
   "outputs": [],
   "source": [
    "temp=temperature(180)\n",
    "print(temp)"
   ]
  },
  {
   "cell_type": "markdown",
   "id": "763fe49d",
   "metadata": {},
   "source": [
    "# default argument"
   ]
  },
  {
   "cell_type": "code",
   "execution_count": null,
   "id": "eedf12fb",
   "metadata": {},
   "outputs": [],
   "source": [
    "def temperature(n1=99):\n",
    "    try:\n",
    "        centigrade=round((n1-32)*5/9)\n",
    "        print(centigrade)\n",
    "    except Exceptions as e:\n",
    "        print(e)\n",
    "    return(centigrade)\n",
    "\n",
    "temperature(n1=99)"
   ]
  },
  {
   "cell_type": "code",
   "execution_count": null,
   "id": "8d552240",
   "metadata": {},
   "outputs": [],
   "source": [
    "temp=temperature(n1=99)\n",
    "print(temp)"
   ]
  },
  {
   "cell_type": "markdown",
   "id": "41df16fc",
   "metadata": {},
   "source": [
    "# 9.without argument"
   ]
  },
  {
   "cell_type": "code",
   "execution_count": null,
   "id": "89cccfe0",
   "metadata": {},
   "outputs": [],
   "source": [
    "def area_perimeter():\n",
    "    try:\n",
    "        l=eval(input('enter the length of the rectangel:'))\n",
    "        b=eval(input('enter the breath of the rectangle:'))\n",
    "        c=eval(input('enter the radius of the circle:'))\n",
    "        a1=round(l*b)\n",
    "        p1=round(2*l+b)\n",
    "        a2=round(22/7*c*c)\n",
    "        c2=round(2*22/7*c)\n",
    "        print('the area of the rectange is {}'.format(a1), \n",
    "              '.',sep='')\n",
    "        print('the perimeter of the rectangle is {}'.format(p1),\n",
    "             '.',sep='')\n",
    "        print('the area of the cirlce is {}'.format(a2),\n",
    "              '.',sep='')\n",
    "        print('circumference of the circle is {}'.format(c2),\n",
    "              '.',sep='')\n",
    "    except Exceptions as e:\n",
    "        print(e)\n",
    "    return(c2)\n",
    "\n",
    "area_perimeter()"
   ]
  },
  {
   "cell_type": "code",
   "execution_count": null,
   "id": "ae7bf773",
   "metadata": {},
   "outputs": [],
   "source": [
    "area_and_perimeter=area_perimeter()\n",
    "print(area_and_perimeter)"
   ]
  },
  {
   "cell_type": "markdown",
   "id": "04529777",
   "metadata": {},
   "source": [
    "# with argument"
   ]
  },
  {
   "cell_type": "code",
   "execution_count": null,
   "id": "474441b0",
   "metadata": {},
   "outputs": [],
   "source": [
    "def area_perimeter(l,b,c):\n",
    "    try:\n",
    "        a1=round(l*b)\n",
    "        p1=round(2*l+b)\n",
    "        a2=round(22/7*c*c)\n",
    "        c2=round(2*22/7*c)\n",
    "        print('the area of the rectange is {}'.format(a1), \n",
    "              '.',sep='')\n",
    "        print('the perimeter of the rectangle is {}'.format(p1),\n",
    "             '.',sep='')\n",
    "        print('the area of the cirlce is {}'.format(a2),\n",
    "              '.',sep='')\n",
    "        print('circumference of the circle is {}'.format(c2),\n",
    "              '.',sep='')\n",
    "    except Exceptions as e:\n",
    "        print(e)\n",
    "    return(c2)\n",
    "\n",
    "area_perimeter(4,7,6)"
   ]
  },
  {
   "cell_type": "code",
   "execution_count": null,
   "id": "1a7b8f7b",
   "metadata": {},
   "outputs": [],
   "source": [
    "area_and_perimeter=area_perimeter(4,7,6)\n",
    "print(area_and_perimeter)"
   ]
  },
  {
   "cell_type": "markdown",
   "id": "58e82ca9",
   "metadata": {},
   "source": [
    "# default argument"
   ]
  },
  {
   "cell_type": "code",
   "execution_count": null,
   "id": "4fe6d0f0",
   "metadata": {},
   "outputs": [],
   "source": [
    "def area_perimeter(l,b,c=7):\n",
    "    try:\n",
    "        a1=round(l*b)\n",
    "        p1=round(2*l+b)\n",
    "        a2=round(22/7*c*c)\n",
    "        c2=round(2*22/7*c)\n",
    "        print('the area of the rectange is {}'.format(a1), \n",
    "              '.',sep='')\n",
    "        print('the perimeter of the rectangle is {}'.format(p1),\n",
    "             '.',sep='')\n",
    "        print('the area of the cirlce is {}'.format(a2),\n",
    "              '.',sep='')\n",
    "        print('circumference of the circle is {}'.format(c2),\n",
    "              '.',sep='')\n",
    "    except Exceptions as e:\n",
    "        print(e)\n",
    "    return(c2)\n",
    "\n",
    "area_perimeter(4,7)"
   ]
  },
  {
   "cell_type": "code",
   "execution_count": null,
   "id": "a3613493",
   "metadata": {},
   "outputs": [],
   "source": [
    "area_and_perimeter=area_perimeter(4,7)\n",
    "print(area_and_perimeter)"
   ]
  },
  {
   "cell_type": "markdown",
   "id": "131b0d27",
   "metadata": {},
   "source": [
    "# 10.without argument"
   ]
  },
  {
   "cell_type": "code",
   "execution_count": null,
   "id": "a71dd63e",
   "metadata": {},
   "outputs": [],
   "source": [
    "def location():\n",
    "    try:\n",
    "        C=eval(input('enter a number:'))\n",
    "        D=eval(input('enter a number:'))\n",
    "        C,D=D,C\n",
    "        print('C=',C,'D=',D)\n",
    "    except Exceptions as e:\n",
    "        print(e)\n",
    "    return(D)\n",
    "\n",
    "location()"
   ]
  },
  {
   "cell_type": "code",
   "execution_count": null,
   "id": "9cdea4de",
   "metadata": {},
   "outputs": [],
   "source": [
    "location1=location()\n",
    "print(location1)"
   ]
  },
  {
   "cell_type": "markdown",
   "id": "2b3ad0c9",
   "metadata": {},
   "source": [
    "# with argument"
   ]
  },
  {
   "cell_type": "code",
   "execution_count": null,
   "id": "3a042d5f",
   "metadata": {},
   "outputs": [],
   "source": [
    "def location(C,D):\n",
    "    try:\n",
    "        C,D=D,C\n",
    "        print('C=',C,'D=',D)\n",
    "    except Exceptions as e:\n",
    "        print(e)\n",
    "    return(D)\n",
    "\n",
    "location(4,7)"
   ]
  },
  {
   "cell_type": "code",
   "execution_count": null,
   "id": "122a43bd",
   "metadata": {},
   "outputs": [],
   "source": [
    "location1=location(4,7)\n",
    "print(location1)"
   ]
  },
  {
   "cell_type": "markdown",
   "id": "8cafdb77",
   "metadata": {},
   "source": [
    "# default argument"
   ]
  },
  {
   "cell_type": "code",
   "execution_count": null,
   "id": "e8788e23",
   "metadata": {},
   "outputs": [],
   "source": [
    "def location(C,D=7):\n",
    "    try:\n",
    "        C,D=D,C\n",
    "        print('C=',C,'D=',D)\n",
    "    except Exceptions as e:\n",
    "        print(e)\n",
    "    return(D)\n",
    "\n",
    "location(5)"
   ]
  },
  {
   "cell_type": "code",
   "execution_count": null,
   "id": "ff8d4bed",
   "metadata": {},
   "outputs": [],
   "source": [
    "location1=location(5)\n",
    "print(location1)"
   ]
  },
  {
   "cell_type": "markdown",
   "id": "874318a0",
   "metadata": {},
   "source": [
    "# 11.without argument"
   ]
  },
  {
   "cell_type": "code",
   "execution_count": 3,
   "id": "2b3a38b9",
   "metadata": {},
   "outputs": [
    {
     "name": "stdout",
     "output_type": "stream",
     "text": [
      "enter english marks:60\n",
      "enter telugu marks:50\n",
      "enter hindi marks:40\n",
      "enter maths marks:60\n",
      "enter science marks:50\n",
      "the aggregate marks is 260\n",
      " the percentagemarks of the student is 52.0\n"
     ]
    },
    {
     "data": {
      "text/plain": [
       "52.0"
      ]
     },
     "execution_count": 3,
     "metadata": {},
     "output_type": "execute_result"
    }
   ],
   "source": [
    " def marks():\n",
    "    try:\n",
    "        n1=eval(input('enter english marks:'))\n",
    "        n2=eval(input('enter telugu marks:'))\n",
    "        n3=eval(input('enter hindi marks:'))\n",
    "        n4=eval(input('enter maths marks:'))\n",
    "        n5=eval(input('enter science marks:'))\n",
    "        aggregate_marks=n1+n2+n3+n4+n5\n",
    "        percentage=(aggregate_marks)/5\n",
    "        print('the aggregate marks is {}\\n the percentagemarks of the student is {}'.format(aggregate_marks,percentage))\n",
    "    except Exceptions as e:\n",
    "        print(e)\n",
    "    return(percentage)\n",
    "\n",
    "marks()"
   ]
  },
  {
   "cell_type": "code",
   "execution_count": 5,
   "id": "2d0249f8",
   "metadata": {},
   "outputs": [
    {
     "name": "stdout",
     "output_type": "stream",
     "text": [
      "enter english marks:60\n",
      "enter telugu marks:50\n",
      "enter hindi marks:40\n",
      "enter maths marks:60\n",
      "enter science marks:50\n",
      "the aggregate marks is 260\n",
      " the percentagemarks of the student is 52.0\n",
      "52.0\n"
     ]
    }
   ],
   "source": [
    "marks_obtained=marks()\n",
    "print(marks_obtained)"
   ]
  },
  {
   "cell_type": "markdown",
   "id": "1e31992a",
   "metadata": {},
   "source": [
    "# with argument"
   ]
  },
  {
   "cell_type": "code",
   "execution_count": 7,
   "id": "02e3563a",
   "metadata": {},
   "outputs": [
    {
     "name": "stdout",
     "output_type": "stream",
     "text": [
      "the aggregate marks is 330\n",
      " the percentagemarks of the student is 66.0\n"
     ]
    },
    {
     "data": {
      "text/plain": [
       "66.0"
      ]
     },
     "execution_count": 7,
     "metadata": {},
     "output_type": "execute_result"
    }
   ],
   "source": [
    "def marks(n1,n2,n3,n4,n5):\n",
    "    try:\n",
    "        aggregate_marks=n1+n2+n3+n4+n5\n",
    "        percentage=(aggregate_marks)/5\n",
    "        print('the aggregate marks is {}\\n the percentagemarks of the student is {}'.format(aggregate_marks,percentage))\n",
    "    except Exceptions as e:\n",
    "        print(e)\n",
    "    return(percentage)\n",
    "\n",
    "marks(60,70,80,60,60)"
   ]
  },
  {
   "cell_type": "code",
   "execution_count": 8,
   "id": "3a53cb39",
   "metadata": {},
   "outputs": [
    {
     "name": "stdout",
     "output_type": "stream",
     "text": [
      "the aggregate marks is 330\n",
      " the percentagemarks of the student is 66.0\n",
      "66.0\n"
     ]
    }
   ],
   "source": [
    "marks_obtained=marks(60,70,80,60,60)\n",
    "print(marks_obtained)"
   ]
  },
  {
   "cell_type": "markdown",
   "id": "2faf6d39",
   "metadata": {},
   "source": [
    "# default argument"
   ]
  },
  {
   "cell_type": "code",
   "execution_count": 9,
   "id": "6073b12b",
   "metadata": {},
   "outputs": [
    {
     "name": "stdout",
     "output_type": "stream",
     "text": [
      "the aggregate marks is 330\n",
      " the percentagemarks of the student is 66.0\n"
     ]
    },
    {
     "data": {
      "text/plain": [
       "66.0"
      ]
     },
     "execution_count": 9,
     "metadata": {},
     "output_type": "execute_result"
    }
   ],
   "source": [
    "def marks(n1,n2,n3,n4,n5=60):\n",
    "    try:\n",
    "        aggregate_marks=n1+n2+n3+n4+n5\n",
    "        percentage=(aggregate_marks)/5\n",
    "        print('the aggregate marks is {}\\n the percentagemarks of the student is {}'.format(aggregate_marks,percentage))\n",
    "    except Exceptions as e:\n",
    "        print(e)\n",
    "    return(percentage)\n",
    "\n",
    "marks(60,70,80,60)"
   ]
  },
  {
   "cell_type": "code",
   "execution_count": 10,
   "id": "a41f78ed",
   "metadata": {},
   "outputs": [
    {
     "name": "stdout",
     "output_type": "stream",
     "text": [
      "the aggregate marks is 330\n",
      " the percentagemarks of the student is 66.0\n",
      "66.0\n"
     ]
    }
   ],
   "source": [
    "marks_obtained=marks(60,70,80,60)\n",
    "print(marks_obtained)"
   ]
  },
  {
   "cell_type": "markdown",
   "id": "04c4dad9",
   "metadata": {},
   "source": [
    "# 12.without argument"
   ]
  },
  {
   "cell_type": "code",
   "execution_count": null,
   "id": "5064954e",
   "metadata": {},
   "outputs": [],
   "source": [
    "town_population =80000\n",
    "print('the total population of the town is',town_population)\n",
    "total_men_populations=52\n",
    "men_population=(town_population*total_men_population)/100\n",
    "print('the total men population is',men_population)\n",
    "women_population=town_population-men_population\n",
    "print('the total women population is',women_population)\n",
    "men_literated=35\n",
    "total_literated=48\n",
    "women_literated=total_literated-men_literated\n",
    "men_literated=men_population*men_literated/100\n",
    "print('the men lite')"
   ]
  },
  {
   "cell_type": "code",
   "execution_count": null,
   "id": "6e03d501",
   "metadata": {},
   "outputs": [],
   "source": []
  },
  {
   "cell_type": "code",
   "execution_count": null,
   "id": "25249541",
   "metadata": {},
   "outputs": [],
   "source": []
  },
  {
   "cell_type": "code",
   "execution_count": null,
   "id": "a273f19a",
   "metadata": {},
   "outputs": [],
   "source": []
  },
  {
   "cell_type": "code",
   "execution_count": null,
   "id": "b73a8ab9",
   "metadata": {},
   "outputs": [],
   "source": []
  },
  {
   "cell_type": "code",
   "execution_count": null,
   "id": "8f298bd3",
   "metadata": {},
   "outputs": [],
   "source": []
  },
  {
   "cell_type": "code",
   "execution_count": null,
   "id": "82eb4188",
   "metadata": {},
   "outputs": [],
   "source": []
  },
  {
   "cell_type": "code",
   "execution_count": null,
   "id": "41e97f2f",
   "metadata": {},
   "outputs": [],
   "source": []
  }
 ],
 "metadata": {
  "kernelspec": {
   "display_name": "Python 3 (ipykernel)",
   "language": "python",
   "name": "python3"
  },
  "language_info": {
   "codemirror_mode": {
    "name": "ipython",
    "version": 3
   },
   "file_extension": ".py",
   "mimetype": "text/x-python",
   "name": "python",
   "nbconvert_exporter": "python",
   "pygments_lexer": "ipython3",
   "version": "3.9.17"
  }
 },
 "nbformat": 4,
 "nbformat_minor": 5
}
